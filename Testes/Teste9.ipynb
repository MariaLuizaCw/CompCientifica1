{
 "cells": [
  {
   "cell_type": "markdown",
   "metadata": {},
   "source": [
    "![CC-BY-SA](https://mirrors.creativecommons.org/presskit/buttons/88x31/svg/by-sa.svg)\n",
    "\n",
    "\n",
    "This notebook was created by [Bernardo Freitas Paulo da Costa](http://www.im.ufrj.br/bernardofpc),\n",
    "and is licensed under Creative Commons BY-SA."
   ]
  },
  {
   "cell_type": "markdown",
   "metadata": {},
   "source": [
    "Antes de enviar este Teste, verifique que tudo está funcionando como esperado.\n",
    "Por exemplo, **rode o código inteiro, do zero**.\n",
    "Para isso, vá no menu, escolha _Kernel_, depois _Restart & Run All_.\n",
    "\n",
    "Verifique, também, que você respondeu todas as questões:\n",
    "* as questões de código têm `YOUR CODE HERE` (e você pode apagar o `raise NotImplemented` ao incluir sua resposta)\n",
    "* as questões discursivas têm \"YOUR ANSWER HERE\"."
   ]
  },
  {
   "cell_type": "markdown",
   "metadata": {},
   "source": [
    "---"
   ]
  },
  {
   "cell_type": "code",
   "execution_count": 95,
   "metadata": {
    "deletable": false,
    "editable": false,
    "nbgrader": {
     "cell_type": "code",
     "checksum": "996644c3f8e59eb3b377477f093873ec",
     "grade": false,
     "grade_id": "cell-4b972418922ac8db",
     "locked": true,
     "schema_version": 3,
     "solution": false,
     "task": false
    }
   },
   "outputs": [],
   "source": [
    "import numpy as np\n",
    "import matplotlib.pyplot as plt\n",
    "\n",
    "from numpy.linalg import norm # Vamos usar muito !"
   ]
  },
  {
   "cell_type": "markdown",
   "metadata": {},
   "source": [
    "# Mínimos quadrados _vs_ Equações Normais\n",
    "\n",
    "Vimos duas formas de resolver um problema de regressão:\n",
    "- encontrando a solução de mínimos quadrados para $Xp = b$;\n",
    "- resolvendo as equações normais $X^\\top X p = X^\\top b$.\n",
    "\n",
    "Neste teste, veremos como isto pode gerar diferenças no cálculo de $p$."
   ]
  },
  {
   "cell_type": "markdown",
   "metadata": {},
   "source": [
    "# Questão 1: Comparando soluções\n",
    "\n",
    "Sejam dados uma matriz $A$, $m \\times n$, e um vetor $b$.\n",
    "\n",
    "Escreva uma função que retorna as duas soluções do problema de regressão,\n",
    "a primeira usando `np.linalg.solve` e a segunda, `np.linalg.lstsq`."
   ]
  },
  {
   "cell_type": "code",
   "execution_count": 96,
   "metadata": {
    "deletable": false,
    "nbgrader": {
     "cell_type": "code",
     "checksum": "5ef88b5efc987ab7687996e5c4c9e4f3",
     "grade": false,
     "grade_id": "cell-619914fa122b3f3e",
     "locked": false,
     "schema_version": 3,
     "solution": true,
     "task": false
    }
   },
   "outputs": [],
   "source": [
    "def duas_sols(A,b):\n",
    "    return ( np.linalg.solve(A.T@A, A.T@b), np.linalg.lstsq(A, b, rcond=None)[0])"
   ]
  },
  {
   "cell_type": "code",
   "execution_count": 97,
   "metadata": {
    "deletable": false,
    "editable": false,
    "nbgrader": {
     "cell_type": "code",
     "checksum": "40f99f3eebc1934d23bb6c91bc786396",
     "grade": true,
     "grade_id": "cell-dcfc9177dd3592ef",
     "locked": true,
     "points": 1,
     "schema_version": 3,
     "solution": false,
     "task": false
    }
   },
   "outputs": [],
   "source": [
    "A = np.array([[0,1],[1,1],[2,1],[2,2],[3,2],[4,4]])\n",
    "b = [1,2,3,4,5,6]\n",
    "\n",
    "x1, x2 = duas_sols(A,b)\n",
    "assert np.allclose(x1,x2)"
   ]
  },
  {
   "cell_type": "code",
   "execution_count": 98,
   "metadata": {
    "deletable": false,
    "editable": false,
    "nbgrader": {
     "cell_type": "code",
     "checksum": "da2f9b11f9b0626522b716e4554ddd80",
     "grade": true,
     "grade_id": "cell-d5af1b60a0434c9a",
     "locked": true,
     "points": 1,
     "schema_version": 3,
     "solution": false,
     "task": false
    }
   },
   "outputs": [],
   "source": [
    "A = np.array([[0,1],[1,1],[2,1],[2,2],[3,2],[4,4]])\n",
    "b = [0,1,0,1,0,1]\n",
    "\n",
    "x1, x2 = duas_sols(A,b)\n",
    "assert np.allclose(x1,x2)"
   ]
  },
  {
   "cell_type": "code",
   "execution_count": 99,
   "metadata": {
    "deletable": false,
    "editable": false,
    "nbgrader": {
     "cell_type": "code",
     "checksum": "ab5c63bed1454ab642cceec45f3d0e0f",
     "grade": true,
     "grade_id": "cell-3c4e79e30f91bbb5",
     "locked": true,
     "points": 1,
     "schema_version": 3,
     "solution": false,
     "task": false
    }
   },
   "outputs": [],
   "source": [
    "A = np.array([[0,1],[1,1],[2,1],[2,2],[3,2],[4,4]])\n",
    "b = [1,1,1,0,0,0]\n",
    "\n",
    "x1, x2 = duas_sols(A,b)\n",
    "\n",
    "assert norm(x1-x2) < 1e-14"
   ]
  },
  {
   "cell_type": "markdown",
   "metadata": {},
   "source": [
    "Ao resolver um problema de regressão, a medida \"oficial\" é o **erro de regressão**.\n",
    "Assim, poderia muito bem haver duas soluções $x_1$ e $x_2$, diferentes,\n",
    "mas tais que $\\|Ax_1 - b\\|$ e $\\|Ax_2 - b\\|$ fossem iguais.\n",
    "\n",
    "Complete a sua função para retornar, também, o erro da regressão, para cada uma das soluções.\n",
    "Retorne duas tuplas, uma com as 2 soluções, a segunda com os 2 erros."
   ]
  },
  {
   "cell_type": "code",
   "execution_count": 100,
   "metadata": {
    "deletable": false,
    "nbgrader": {
     "cell_type": "code",
     "checksum": "762d5af230a9ea138712a325a2feab24",
     "grade": false,
     "grade_id": "cell-6e8af0f9e84cc6e1",
     "locked": false,
     "schema_version": 3,
     "solution": true,
     "task": false
    }
   },
   "outputs": [],
   "source": [
    "def duas_sols_erros(A,b):\n",
    "    x1, x2 = duas_sols(A, b)\n",
    "    return ((x1, x2), (norm(A@x1 - b), norm(A@x2 - b)))"
   ]
  },
  {
   "cell_type": "code",
   "execution_count": 101,
   "metadata": {
    "deletable": false,
    "editable": false,
    "nbgrader": {
     "cell_type": "code",
     "checksum": "b530d93c0cf6346444056939f1ef967a",
     "grade": true,
     "grade_id": "cell-9f4394264df2fed8",
     "locked": true,
     "points": 1,
     "schema_version": 3,
     "solution": false,
     "task": false
    }
   },
   "outputs": [],
   "source": [
    "A = np.array([[0,1],[1,1],[2,1],[2,2],[3,2],[4,4]])\n",
    "b = [6,5,4,3,2,1]\n",
    "\n",
    "(x1, x2), (e1, e2) = duas_sols_erros(A,b)\n",
    "assert np.allclose(x1,x2)\n",
    "assert 7 < e1 < 8\n",
    "assert 7 < e2 < 8"
   ]
  },
  {
   "cell_type": "markdown",
   "metadata": {},
   "source": [
    "Calcule os erros de regressão para cada um dos casos anteriores,\n",
    "e também a diferença entre eles."
   ]
  },
  {
   "cell_type": "code",
   "execution_count": 102,
   "metadata": {
    "deletable": false,
    "nbgrader": {
     "cell_type": "code",
     "checksum": "83c4531537394d5081af28c1e5484156",
     "grade": true,
     "grade_id": "cell-3721ad42f1c32cef",
     "locked": false,
     "points": 2,
     "schema_version": 3,
     "solution": true,
     "task": false
    }
   },
   "outputs": [
    {
     "name": "stdout",
     "output_type": "stream",
     "text": [
      "Caso 0\n",
      "Erro 1:  1.2273929715024061\n",
      "Erro 2:  1.2273929715024061\n",
      "Diferença:  0.0\n",
      "Caso 1\n",
      "Erro 1:  1.044465935734187\n",
      "Erro 2:  1.044465935734187\n",
      "Diferença:  0.0\n",
      "Caso 2\n",
      "Erro 1:  1.627682600923979\n",
      "Erro 2:  1.6276826009239789\n",
      "Diferença:  2.220446049250313e-16\n",
      "Caso 3\n",
      "Erro 1:  7.631105177742358\n",
      "Erro 2:  7.631105177742358\n",
      "Diferença:  0.0\n"
     ]
    }
   ],
   "source": [
    "bs = ([1,2,3,4,5,6], [0,1,0,1,0,1], [1,1,1,0,0,0], [6,5,4,3,2,1])\n",
    "A = np.array([[0,1],[1,1],[2,1],[2,2],[3,2],[4,4]])\n",
    "for i, b in  enumerate(bs):\n",
    "    (x1, x2), (e1, e2) = duas_sols_erros(A,b)\n",
    "    print(\"Caso\", i)\n",
    "    print(\"Erro 1: \", e1)\n",
    "    print(\"Erro 2: \", e2)\n",
    "    print(\"Diferença: \", abs(e2 - e1))\n",
    "\n",
    "\n"
   ]
  },
  {
   "cell_type": "markdown",
   "metadata": {},
   "source": [
    "O que você observa?"
   ]
  },
  {
   "cell_type": "markdown",
   "metadata": {
    "deletable": false,
    "nbgrader": {
     "cell_type": "markdown",
     "checksum": "6ebae613dff616263f131c5fd1953a75",
     "grade": true,
     "grade_id": "cell-2ab4ef9a311aee18",
     "locked": false,
     "points": 1,
     "schema_version": 3,
     "solution": true,
     "task": false
    }
   },
   "source": [
    "Os erros são praticamente iguais e a diferença na maioria dos casos é zero. No caso 2 isso não ocorreu, mas a diferença é bem próxima de zero."
   ]
  },
  {
   "cell_type": "markdown",
   "metadata": {},
   "source": [
    "# Questão 2: Analisando muitos casos\n",
    "\n",
    "Para entender o comportamento médio, vamos gerar vetores $b$ aleatórios.\n",
    "\n",
    "Compare, com um histograma, os erros de regressão, para 1000 vetores $b$ aleatórios, e a matriz $A$ acima."
   ]
  },
  {
   "cell_type": "code",
   "execution_count": 103,
   "metadata": {
    "deletable": false,
    "nbgrader": {
     "cell_type": "code",
     "checksum": "583df86bc3c4b24eac3d9bfcc1337cff",
     "grade": true,
     "grade_id": "cell-7e253d8da5dea1b8",
     "locked": false,
     "points": 1,
     "schema_version": 3,
     "solution": true,
     "task": false
    }
   },
   "outputs": [
    {
     "data": {
      "image/png": "[encoded data removed]",
      "text/plain": [
       "<Figure size 432x288 with 1 Axes>"
      ]
     },
     "metadata": {
      "needs_background": "light"
     },
     "output_type": "display_data"
    }
   ],
   "source": [
    "\n",
    "A = np.array([[0,1],[1,1],[2,1],[2,2],[3,2],[4,4]])\n",
    "np.random.seed(1)\n",
    "erros = []\n",
    "for _ in range(0, 1000):\n",
    "    (x1, x2), (e1, e2) = duas_sols_erros(A,np.random.rand(6))\n",
    "    erros.append(e2 - e1)\n",
    "\n",
    "plt.hist(erros, bins=5)\n",
    "\n",
    "plt.title(\"Histogramas Comparação entre erros da Regressão Matriz 6 x 2\")\n",
    "\n",
    "ax = plt.gca()"
   ]
  },
  {
   "cell_type": "code",
   "execution_count": 104,
   "metadata": {
    "deletable": false,
    "editable": false,
    "nbgrader": {
     "cell_type": "code",
     "checksum": "b0d21da61ef6467ca170186566671fb7",
     "grade": true,
     "grade_id": "cell-309d06c8e8a6baa5",
     "locked": true,
     "points": 1,
     "schema_version": 3,
     "solution": false,
     "task": false
    }
   },
   "outputs": [],
   "source": [
    "minx, maxx = ax.get_xlim()\n",
    "\n",
    "assert -2e-15 < minx < maxx < 2e-15"
   ]
  },
  {
   "cell_type": "markdown",
   "metadata": {},
   "source": [
    "Algum dos métodos dá consistentemente o menor erro?"
   ]
  },
  {
   "cell_type": "markdown",
   "metadata": {
    "deletable": false,
    "nbgrader": {
     "cell_type": "markdown",
     "checksum": "bcdfd79003457195e8ee722b18a432ba",
     "grade": true,
     "grade_id": "cell-8b01627440859975",
     "locked": false,
     "points": 1,
     "schema_version": 3,
     "solution": true,
     "task": false
    }
   },
   "source": [
    "Não, isso pode ser visto pelo histograma. Caso um dos lados do histograma estivesse mais \"carregado\", ou seja, as barras aparesentassem uma diferença de altura significativa quando comparamos com o outro lado, poderíamos dizer que um método apresenta menor ou maior erro. Entretando, obtivemos uma forma simétrica de histograma que nos indica que, quando há diferença entre os erros, ela é pequena e beneficia os diferentes erros com praticamente a mesmma frequência."
   ]
  },
  {
   "cell_type": "markdown",
   "metadata": {},
   "source": [
    "Agora, vamos usar matrizes (bem) maiores.\n",
    "\n",
    "Escolha uma matriz $A$, $30 \\times 4$ com entradas uniformemente escolhidas em $[0,1]$,\n",
    "e repita o que fizemos acima para 1000 valores aleatórios de $b$."
   ]
  },
  {
   "cell_type": "code",
   "execution_count": 105,
   "metadata": {
    "deletable": false,
    "nbgrader": {
     "cell_type": "code",
     "checksum": "ea8d94ea73f813b0342197ac18a8635d",
     "grade": false,
     "grade_id": "cell-bf1739119a51ff50",
     "locked": false,
     "schema_version": 3,
     "solution": true,
     "task": false
    }
   },
   "outputs": [
    {
     "data": {
      "image/png": "[encoded data removed]",
      "text/plain": [
       "<Figure size 432x288 with 1 Axes>"
      ]
     },
     "metadata": {
      "needs_background": "light"
     },
     "output_type": "display_data"
    }
   ],
   "source": [
    "np.random.seed(2)\n",
    "A = np.random.rand(30,4)\n",
    "erros = []\n",
    "for _ in range(0, 1000):\n",
    "    (x1, x2), (e1, e2) = duas_sols_erros(A,np.random.rand(30))\n",
    "    erros.append(e2 - e1)\n",
    "\n",
    "plt.hist(erros, bins=7)\n",
    "\n",
    "plt.title(\"Histogramas Comparação entre erros da Regressão Matriz 30x4\")\n",
    "\n",
    "ax = plt.gca()"
   ]
  },
  {
   "cell_type": "code",
   "execution_count": 106,
   "metadata": {
    "deletable": false,
    "editable": false,
    "nbgrader": {
     "cell_type": "code",
     "checksum": "241608c97a018dd73d430734331e5945",
     "grade": true,
     "grade_id": "cell-c0756b2f00bb4a91",
     "locked": true,
     "points": 1,
     "schema_version": 3,
     "solution": false,
     "task": false
    }
   },
   "outputs": [],
   "source": [
    "minx, maxx = ax.get_xlim()\n",
    "\n",
    "assert -4e-15 < minx < maxx < 4e-15"
   ]
  },
  {
   "cell_type": "markdown",
   "metadata": {},
   "source": [
    "O comportamento dos erros mudou?"
   ]
  },
  {
   "cell_type": "markdown",
   "metadata": {
    "deletable": false,
    "nbgrader": {
     "cell_type": "markdown",
     "checksum": "742914cacdd94c946147eef4df66bd8b",
     "grade": true,
     "grade_id": "cell-d4eb04981d3a111f",
     "locked": false,
     "points": 1,
     "schema_version": 3,
     "solution": true,
     "task": false
    }
   },
   "source": [
    "O comportamento não mudou. Ainda temos o 0 como a diferença mais frequente entre os erros, mas diferenças maiores entre os erros começaram a ser mais frequentes."
   ]
  },
  {
   "cell_type": "markdown",
   "metadata": {},
   "source": [
    "E agora, faça para matrizes $300 \\times 10$."
   ]
  },
  {
   "cell_type": "code",
   "execution_count": 107,
   "metadata": {
    "deletable": false,
    "nbgrader": {
     "cell_type": "code",
     "checksum": "d75bb4788eb1c1ea28a02d90df98e48e",
     "grade": false,
     "grade_id": "cell-7131caab2146c523",
     "locked": false,
     "schema_version": 3,
     "solution": true,
     "task": false
    }
   },
   "outputs": [
    {
     "data": {
      "image/png": "[encoded data removed]",
      "text/plain": [
       "<Figure size 432x288 with 1 Axes>"
      ]
     },
     "metadata": {
      "needs_background": "light"
     },
     "output_type": "display_data"
    }
   ],
   "source": [
    "np.random.seed(1)\n",
    "A = np.random.rand(300,10)\n",
    "erros = []\n",
    "for _ in range(0, 1000):\n",
    "    (x1, x2), (e1, e2) = duas_sols_erros(A,np.random.rand(300))\n",
    "    erros.append(e2 - e1)\n",
    "\n",
    "plt.hist(erros, bins=5)\n",
    "\n",
    "plt.title(\"Histogramas Comparação entre erros da Regressão Matriz 300x10\")\n",
    "\n",
    "ax = plt.gca()"
   ]
  },
  {
   "cell_type": "code",
   "execution_count": 108,
   "metadata": {
    "deletable": false,
    "editable": false,
    "nbgrader": {
     "cell_type": "code",
     "checksum": "d190eed17be8656581a27f944bcbff3f",
     "grade": true,
     "grade_id": "cell-5d63b29d89032a68",
     "locked": true,
     "points": 1,
     "schema_version": 3,
     "solution": false,
     "task": false
    }
   },
   "outputs": [],
   "source": [
    "minx, maxx = ax.get_xlim()\n",
    "\n",
    "assert -10e-15 < minx < maxx < 10e-15"
   ]
  },
  {
   "cell_type": "markdown",
   "metadata": {},
   "source": [
    "Esse gráfico confirma a tendência quando a matriz fica maior?"
   ]
  },
  {
   "cell_type": "markdown",
   "metadata": {
    "deletable": false,
    "nbgrader": {
     "cell_type": "markdown",
     "checksum": "f1f87a526d4a6977d2cc7da835f2718e",
     "grade": true,
     "grade_id": "cell-1749e4479ed402c4",
     "locked": false,
     "points": 2,
     "schema_version": 3,
     "solution": true,
     "task": false
    }
   },
   "source": [
    "O comportamento observado se mantém. Continuamos com o 0 como a diferença mais frequente. Novamente, diferenças maiores entre os erros passaram a ser mais frequentes quando comparamos com o gráfico anterior. Repare que a escala dessa gráfico no eixo x é diferente, o que pode dar a impressão de que as diferenças maiores ficaram menos frequentes, mas não é verdade."
   ]
  },
  {
   "cell_type": "markdown",
   "metadata": {},
   "source": [
    "# Questão 3: Matrizes de Hilbert\n",
    "\n",
    "A matriz de Hilbert é uma matriz famosa, cujas entradas $H_{i,j}$ são $\\frac{1}{i+j-1}$.\n",
    "\n",
    "Por exemplo, a matriz $3\\times 2$ é\n",
    "$$\\begin{bmatrix}\n",
    "  1 & 1/2 \\\\\n",
    "1/2 & 1/3 \\\\\n",
    "1/3 & 1/4\n",
    "\\end{bmatrix}$$\n",
    "\n",
    "Escreva a função `hilb(n,m)` que retorna a matriz de Hilbert $n \\times m$:"
   ]
  },
  {
   "cell_type": "code",
   "execution_count": 109,
   "metadata": {
    "deletable": false,
    "nbgrader": {
     "cell_type": "code",
     "checksum": "e2e5293b68c53aff978502c5c656b61d",
     "grade": false,
     "grade_id": "cell-1beeec7ed1001295",
     "locked": false,
     "schema_version": 3,
     "solution": true,
     "task": false
    }
   },
   "outputs": [],
   "source": [
    "def hilb(n,m):\n",
    "    hil = []\n",
    "    for i in range(1, n+1):\n",
    "        linha = []\n",
    "        for j in range(1, m+1):\n",
    "            linha.append(1/(i+j-1))\n",
    "        hil.append(linha)\n",
    "\n",
    "    return np.array(hil)\n"
   ]
  },
  {
   "cell_type": "code",
   "execution_count": 110,
   "metadata": {
    "deletable": false,
    "editable": false,
    "nbgrader": {
     "cell_type": "code",
     "checksum": "7a1c19617d24aca275c81c76d5406080",
     "grade": true,
     "grade_id": "cell-7b099dca3f2338bf",
     "locked": true,
     "points": 2,
     "schema_version": 3,
     "solution": false,
     "task": false
    }
   },
   "outputs": [],
   "source": [
    "assert np.all(hilb(3,2) == [[1, 1/2], [1/2, 1/3], [1/3, 1/4]])"
   ]
  },
  {
   "cell_type": "code",
   "execution_count": 111,
   "metadata": {
    "deletable": false,
    "editable": false,
    "nbgrader": {
     "cell_type": "code",
     "checksum": "66dac445bc5aa8f795f2af10357f8b45",
     "grade": true,
     "grade_id": "cell-089b84839c179610",
     "locked": true,
     "points": 1,
     "schema_version": 3,
     "solution": false,
     "task": false
    }
   },
   "outputs": [],
   "source": [
    "H = hilb(40,20)\n",
    "assert H.shape == (40,20)"
   ]
  },
  {
   "cell_type": "code",
   "execution_count": 112,
   "metadata": {
    "deletable": false,
    "editable": false,
    "nbgrader": {
     "cell_type": "code",
     "checksum": "b6a277544a4404356943b8c90bf6ea1b",
     "grade": true,
     "grade_id": "cell-2862c12ba8bfcd13",
     "locked": true,
     "points": 1,
     "schema_version": 3,
     "solution": false,
     "task": false
    }
   },
   "outputs": [],
   "source": [
    "H = hilb(30,4)\n",
    "assert H[10,3] == 1/(10+3+1)"
   ]
  },
  {
   "cell_type": "markdown",
   "metadata": {},
   "source": [
    "Explique porque o teste acima é feito com $\\frac{1}{10+3+1}$ em vez de $\\frac{1}{10+3-1}$."
   ]
  },
  {
   "cell_type": "markdown",
   "metadata": {
    "deletable": false,
    "nbgrader": {
     "cell_type": "markdown",
     "checksum": "77806d4164d6b8d887f4381febb9ce4b",
     "grade": true,
     "grade_id": "cell-a780aa0e9f2f4a3d",
     "locked": false,
     "points": 2,
     "schema_version": 3,
     "solution": true,
     "task": false
    }
   },
   "source": [
    "Na realidade, a posição $H[10][3]$ da matriz programada se refere ao valor $H_{11, 4}$. Esse valor pode ser calculado com a fórmula $H_{11, 4} = \\frac{1}{11 + 4 - 1} = \\frac{1}{10 + 3 + 1}$."
   ]
  },
  {
   "cell_type": "markdown",
   "metadata": {},
   "source": [
    "# Questão 4: Regressão com a matriz de Hilbert\n",
    "\n",
    "Considere a matriz de Hilbert $30 \\times 4$, e calcule a regressão para um vetor $b$ aleatório.\n",
    "Calcule\n",
    "- a diferença entre as soluções; e\n",
    "- a diferença entre os erros de regressão."
   ]
  },
  {
   "cell_type": "code",
   "execution_count": 113,
   "metadata": {
    "deletable": false,
    "nbgrader": {
     "cell_type": "code",
     "checksum": "d03ebae4525b0cfc363ed58f5f6db6ee",
     "grade": true,
     "grade_id": "cell-8fda30c26c1bde7a",
     "locked": false,
     "points": 2,
     "schema_version": 3,
     "solution": true,
     "task": false
    }
   },
   "outputs": [
    {
     "name": "stdout",
     "output_type": "stream",
     "text": [
      "Diferença absoluta entre as soluções: \n",
      "[-4.14157597e-09  3.60174681e-08 -7.30876764e-08  4.19346406e-08]\n",
      "Diferença entre os erros de regressao: \n",
      "-8.881784197001252e-15\n"
     ]
    }
   ],
   "source": [
    "np.random.seed(1)\n",
    "(x1, x2), (e1, e2) = duas_sols_erros(hilb(30, 4), np.random.rand(30))\n",
    "\n",
    "print(\"Diferença absoluta entre as soluções: \")\n",
    "print(x2 - x1)\n",
    "\n",
    "print(\"Diferença entre os erros de regressao: \")\n",
    "print(e1-e2)\n",
    "\n"
   ]
  },
  {
   "cell_type": "markdown",
   "metadata": {},
   "source": [
    "Calcule, também, o erro relativo entre as soluções, de duas formas:\n",
    "- coordenada a coordenada, $\\frac{|x1_i - x2_i|}{|x1_i| + |x2_i|}$,\n",
    "- global, $\\frac{||x1 - x2||}{||x1|| + ||x2||}$.\n",
    "\n",
    "(Obs: como não há um método que seja \"a priori\" mais exato do que o outro, normalizamos pela soma dos valores absolutos)"
   ]
  },
  {
   "cell_type": "code",
   "execution_count": 114,
   "metadata": {
    "deletable": false,
    "nbgrader": {
     "cell_type": "code",
     "checksum": "279a63b24fd7f028342f12d5a32c82e5",
     "grade": true,
     "grade_id": "cell-d8afa9e0fa4a71e5",
     "locked": false,
     "points": 1,
     "schema_version": 3,
     "solution": true,
     "task": false
    }
   },
   "outputs": [
    {
     "name": "stdout",
     "output_type": "stream",
     "text": [
      "Erro relativo coordenada a coordenada \n",
      "[4.076377372680005e-11, 3.6419872304558795e-11, 3.3642197554951726e-11, 3.156565689162791e-11]\n",
      "Erro relativo global \n",
      "3.3556221998169496e-11\n"
     ]
    }
   ],
   "source": [
    "print(\"Erro relativo coordenada a coordenada \")\n",
    "print([ abs(xi1 - xi2)/(abs(xi1) + abs(xi2)) for xi1, xi2 in  zip(x1, x2)])\n",
    "\n",
    "print(\"Erro relativo global \")\n",
    "print(norm(x1 - x2)/(norm(x1) + norm(x2)))\n",
    "\n",
    "\n",
    "\n"
   ]
  },
  {
   "cell_type": "markdown",
   "metadata": {},
   "source": [
    "Agora, aumente para $300 \\times 10$, e calcule\n",
    "- a diferença entre as soluções,\n",
    "- os erros relativos entre as soluções,\n",
    "- a diferença entre os erros de regressão."
   ]
  },
  {
   "cell_type": "code",
   "execution_count": 118,
   "metadata": {
    "deletable": false,
    "nbgrader": {
     "cell_type": "code",
     "checksum": "551e05f9bc05acee03fb246c34f4932c",
     "grade": true,
     "grade_id": "cell-1e96c71c6eb6a786",
     "locked": false,
     "points": 1,
     "schema_version": 3,
     "solution": true,
     "task": false
    }
   },
   "outputs": [
    {
     "name": "stdout",
     "output_type": "stream",
     "text": [
      "Diferença entre as soluções: \n",
      "[-2.99960896e+04  2.08789881e+06 -3.60583547e+07  2.69785739e+08\n",
      " -1.07602687e+09  2.51051911e+09 -3.54302152e+09  2.98036996e+09\n",
      " -1.37638268e+09  2.68756809e+08]\n",
      "Erro relativo coordenada a coordenada \n",
      "[0.48510655392034663, 0.6174074520197349, 0.7271466262445446, 0.8185000304735681, 0.8943758018430623, 0.957064994926634, 1.0, 1.0, 1.0, 1.0]\n",
      "Erro relativo global \n",
      "0.9810478112240045\n",
      "Diferença entre os erros de regressao: \n",
      "0.3690314886726336\n"
     ]
    }
   ],
   "source": [
    "np.random.seed(1)\n",
    "(x1, x2), (e1, e2) = duas_sols_erros(hilb(300, 10), np.random.rand(300))\n",
    "\n",
    "print(\"Diferença entre as soluções: \")\n",
    "print(x2 - x1)\n",
    "\n",
    "print(\"Erro relativo coordenada a coordenada \")\n",
    "print([ abs(xi1 - xi2)/(abs(xi1) + abs(xi2)) for xi1, xi2 in  zip(x1, x2)])\n",
    "\n",
    "print(\"Erro relativo global \")\n",
    "print(norm(x1 - x2)/(norm(x1) + norm(x2)))\n",
    "\n",
    "print(\"Diferença entre os erros de regressao: \")\n",
    "print(e1-e2)\n"
   ]
  },
  {
   "cell_type": "markdown",
   "metadata": {},
   "source": [
    "O que aconteceu?"
   ]
  },
  {
   "cell_type": "markdown",
   "metadata": {
    "deletable": false,
    "nbgrader": {
     "cell_type": "markdown",
     "checksum": "3e4249193b874e335f216c1fdd46e039",
     "grade": true,
     "grade_id": "cell-ed5e234080d495c8",
     "locked": false,
     "points": 2,
     "schema_version": 3,
     "solution": true,
     "task": false
    }
   },
   "source": [
    "Agora, com a matriz maior:\n",
    "- As soluções estão muito diferentes em praticamente todas as suas coordenadas, mas principalmente nas últimas coordenadas, como podemos ver no vetor de diferença entre as soluções.\n",
    "\n",
    "-  O erro relativo está grande coordenada a coordenada, principalmente para as últimas coordenadas. Para as últimas 4 coordenadas o erro relativo chegou em 1. Isso é uma péssima notícia, pois significa que o diferença entre as soluções tem praticamente a mesma magnitude da soma das soluções.\n",
    "\n",
    "- Novamente, este valor próximo de 1 para o erro relativo indica que o a diferença entre as soluções é da ordem da soma das soluções; o que é péssimo, pois gostaríamos de soluções parecidas, ou seja, com uma diferença pequena quando comparada com a soma das soluções.\n",
    "\n",
    "- Como podemos ver pela diferença entre os erros de regressão, existe um método que erra mais que o outro neste caso. O erro $e_2$ é menor que o erro $e_1$ já que o valor é positivo. Ou seja, o método np.linalg.lstsq foi mais eficiente no cálculo da solução.\n",
    "\n",
    "\n",
    "Conclusão final, aumentar o tamanho da matriz de Hilbert piorou os resultados, uma vez que isso gerou soluções bem diferentes para nossos métodos. Além disso, as últimas coordenadas dos vetores solução são as que mais diferem. "
   ]
  },
  {
   "cell_type": "markdown",
   "metadata": {},
   "source": [
    "# Questão 5: Outro sistema\n",
    "\n",
    "Agora, considere a matriz com entradas inteiras em sequência:\n",
    "$$ A = \\begin{bmatrix}\n",
    "1 & 2 & 3 \\\\\n",
    "4 & 5 & 6 \\\\\n",
    "7 & 8 & 9 \\\\\n",
    "10 & 11 & 12 \\\\\n",
    "13 & 14 & 15 \\\\\n",
    "16 & 17 & 18\n",
    "\\end{bmatrix} $$\n",
    "\n",
    "Resolva o problema de regressão para o vetor $b = (1,1,1,1,1,1)$, pelos dois métodos, e calcule os erros."
   ]
  },
  {
   "cell_type": "code",
   "execution_count": 124,
   "metadata": {
    "deletable": false,
    "nbgrader": {
     "cell_type": "code",
     "checksum": "4eb49aa4bb34e0cf397253e651bfb426",
     "grade": true,
     "grade_id": "cell-92972912d0d251fd",
     "locked": false,
     "points": 1,
     "schema_version": 3,
     "solution": true,
     "task": false
    }
   },
   "outputs": [
    {
     "ename": "LinAlgError",
     "evalue": "Singular matrix",
     "output_type": "error",
     "traceback": [
      "\u001b[1;31m---------------------------------------------------------------------------\u001b[0m",
      "\u001b[1;31mLinAlgError\u001b[0m                               Traceback (most recent call last)",
      "\u001b[1;32m~\\AppData\\Local\\Temp/ipykernel_635492/3496752741.py\u001b[0m in \u001b[0;36m<module>\u001b[1;34m\u001b[0m\n\u001b[0;32m      2\u001b[0m \u001b[0mb\u001b[0m \u001b[1;33m=\u001b[0m \u001b[0mnp\u001b[0m\u001b[1;33m.\u001b[0m\u001b[0marray\u001b[0m\u001b[1;33m(\u001b[0m\u001b[1;33m[\u001b[0m\u001b[1;36m1\u001b[0m\u001b[1;33m]\u001b[0m\u001b[1;33m*\u001b[0m\u001b[1;36m6\u001b[0m\u001b[1;33m)\u001b[0m\u001b[1;33m\u001b[0m\u001b[1;33m\u001b[0m\u001b[0m\n\u001b[0;32m      3\u001b[0m \u001b[1;33m\u001b[0m\u001b[0m\n\u001b[1;32m----> 4\u001b[1;33m \u001b[1;33m(\u001b[0m\u001b[0mx1\u001b[0m\u001b[1;33m,\u001b[0m \u001b[0mx2\u001b[0m\u001b[1;33m)\u001b[0m\u001b[1;33m,\u001b[0m \u001b[1;33m(\u001b[0m\u001b[0me1\u001b[0m\u001b[1;33m,\u001b[0m \u001b[0me2\u001b[0m\u001b[1;33m)\u001b[0m \u001b[1;33m=\u001b[0m \u001b[0mduas_sols_erros\u001b[0m\u001b[1;33m(\u001b[0m\u001b[0mA\u001b[0m\u001b[1;33m,\u001b[0m \u001b[0mb\u001b[0m\u001b[1;33m)\u001b[0m\u001b[1;33m\u001b[0m\u001b[1;33m\u001b[0m\u001b[0m\n\u001b[0m",
      "\u001b[1;32m~\\AppData\\Local\\Temp/ipykernel_635492/3817090217.py\u001b[0m in \u001b[0;36mduas_sols_erros\u001b[1;34m(A, b)\u001b[0m\n\u001b[0;32m      1\u001b[0m \u001b[1;32mdef\u001b[0m \u001b[0mduas_sols_erros\u001b[0m\u001b[1;33m(\u001b[0m\u001b[0mA\u001b[0m\u001b[1;33m,\u001b[0m\u001b[0mb\u001b[0m\u001b[1;33m)\u001b[0m\u001b[1;33m:\u001b[0m\u001b[1;33m\u001b[0m\u001b[1;33m\u001b[0m\u001b[0m\n\u001b[1;32m----> 2\u001b[1;33m     \u001b[0mx1\u001b[0m\u001b[1;33m,\u001b[0m \u001b[0mx2\u001b[0m \u001b[1;33m=\u001b[0m \u001b[0mduas_sols\u001b[0m\u001b[1;33m(\u001b[0m\u001b[0mA\u001b[0m\u001b[1;33m,\u001b[0m \u001b[0mb\u001b[0m\u001b[1;33m)\u001b[0m\u001b[1;33m\u001b[0m\u001b[1;33m\u001b[0m\u001b[0m\n\u001b[0m\u001b[0;32m      3\u001b[0m     \u001b[1;32mreturn\u001b[0m \u001b[1;33m(\u001b[0m\u001b[1;33m(\u001b[0m\u001b[0mx1\u001b[0m\u001b[1;33m,\u001b[0m \u001b[0mx2\u001b[0m\u001b[1;33m)\u001b[0m\u001b[1;33m,\u001b[0m \u001b[1;33m(\u001b[0m\u001b[0mnorm\u001b[0m\u001b[1;33m(\u001b[0m\u001b[0mA\u001b[0m\u001b[1;33m@\u001b[0m\u001b[0mx1\u001b[0m \u001b[1;33m-\u001b[0m \u001b[0mb\u001b[0m\u001b[1;33m)\u001b[0m\u001b[1;33m,\u001b[0m \u001b[0mnorm\u001b[0m\u001b[1;33m(\u001b[0m\u001b[0mA\u001b[0m\u001b[1;33m@\u001b[0m\u001b[0mx2\u001b[0m \u001b[1;33m-\u001b[0m \u001b[0mb\u001b[0m\u001b[1;33m)\u001b[0m\u001b[1;33m)\u001b[0m\u001b[1;33m)\u001b[0m\u001b[1;33m\u001b[0m\u001b[1;33m\u001b[0m\u001b[0m\n",
      "\u001b[1;32m~\\AppData\\Local\\Temp/ipykernel_635492/1998096131.py\u001b[0m in \u001b[0;36mduas_sols\u001b[1;34m(A, b)\u001b[0m\n\u001b[0;32m      1\u001b[0m \u001b[1;32mdef\u001b[0m \u001b[0mduas_sols\u001b[0m\u001b[1;33m(\u001b[0m\u001b[0mA\u001b[0m\u001b[1;33m,\u001b[0m\u001b[0mb\u001b[0m\u001b[1;33m)\u001b[0m\u001b[1;33m:\u001b[0m\u001b[1;33m\u001b[0m\u001b[1;33m\u001b[0m\u001b[0m\n\u001b[0;32m      2\u001b[0m     \u001b[0mnumL\u001b[0m\u001b[1;33m,\u001b[0m \u001b[0mnumC\u001b[0m \u001b[1;33m=\u001b[0m \u001b[0mnp\u001b[0m\u001b[1;33m.\u001b[0m\u001b[0mshape\u001b[0m\u001b[1;33m(\u001b[0m\u001b[0mA\u001b[0m\u001b[1;33m)\u001b[0m\u001b[1;33m\u001b[0m\u001b[1;33m\u001b[0m\u001b[0m\n\u001b[1;32m----> 3\u001b[1;33m     \u001b[1;32mreturn\u001b[0m \u001b[1;33m(\u001b[0m \u001b[0mnp\u001b[0m\u001b[1;33m.\u001b[0m\u001b[0mlinalg\u001b[0m\u001b[1;33m.\u001b[0m\u001b[0msolve\u001b[0m\u001b[1;33m(\u001b[0m\u001b[0mA\u001b[0m\u001b[1;33m.\u001b[0m\u001b[0mT\u001b[0m\u001b[1;33m@\u001b[0m\u001b[0mA\u001b[0m\u001b[1;33m,\u001b[0m \u001b[0mA\u001b[0m\u001b[1;33m.\u001b[0m\u001b[0mT\u001b[0m\u001b[1;33m@\u001b[0m\u001b[0mb\u001b[0m\u001b[1;33m)\u001b[0m\u001b[1;33m,\u001b[0m \u001b[0mnp\u001b[0m\u001b[1;33m.\u001b[0m\u001b[0mlinalg\u001b[0m\u001b[1;33m.\u001b[0m\u001b[0mlstsq\u001b[0m\u001b[1;33m(\u001b[0m\u001b[0mA\u001b[0m\u001b[1;33m,\u001b[0m \u001b[0mb\u001b[0m\u001b[1;33m,\u001b[0m \u001b[0mrcond\u001b[0m\u001b[1;33m=\u001b[0m\u001b[1;32mNone\u001b[0m\u001b[1;33m)\u001b[0m\u001b[1;33m[\u001b[0m\u001b[1;36m0\u001b[0m\u001b[1;33m]\u001b[0m\u001b[1;33m)\u001b[0m\u001b[1;33m\u001b[0m\u001b[1;33m\u001b[0m\u001b[0m\n\u001b[0m",
      "\u001b[1;32m<__array_function__ internals>\u001b[0m in \u001b[0;36msolve\u001b[1;34m(*args, **kwargs)\u001b[0m\n",
      "\u001b[1;32m~\\AppData\\Roaming\\Python\\Python38\\site-packages\\numpy\\linalg\\linalg.py\u001b[0m in \u001b[0;36msolve\u001b[1;34m(a, b)\u001b[0m\n\u001b[0;32m    391\u001b[0m     \u001b[0msignature\u001b[0m \u001b[1;33m=\u001b[0m \u001b[1;34m'DD->D'\u001b[0m \u001b[1;32mif\u001b[0m \u001b[0misComplexType\u001b[0m\u001b[1;33m(\u001b[0m\u001b[0mt\u001b[0m\u001b[1;33m)\u001b[0m \u001b[1;32melse\u001b[0m \u001b[1;34m'dd->d'\u001b[0m\u001b[1;33m\u001b[0m\u001b[1;33m\u001b[0m\u001b[0m\n\u001b[0;32m    392\u001b[0m     \u001b[0mextobj\u001b[0m \u001b[1;33m=\u001b[0m \u001b[0mget_linalg_error_extobj\u001b[0m\u001b[1;33m(\u001b[0m\u001b[0m_raise_linalgerror_singular\u001b[0m\u001b[1;33m)\u001b[0m\u001b[1;33m\u001b[0m\u001b[1;33m\u001b[0m\u001b[0m\n\u001b[1;32m--> 393\u001b[1;33m     \u001b[0mr\u001b[0m \u001b[1;33m=\u001b[0m \u001b[0mgufunc\u001b[0m\u001b[1;33m(\u001b[0m\u001b[0ma\u001b[0m\u001b[1;33m,\u001b[0m \u001b[0mb\u001b[0m\u001b[1;33m,\u001b[0m \u001b[0msignature\u001b[0m\u001b[1;33m=\u001b[0m\u001b[0msignature\u001b[0m\u001b[1;33m,\u001b[0m \u001b[0mextobj\u001b[0m\u001b[1;33m=\u001b[0m\u001b[0mextobj\u001b[0m\u001b[1;33m)\u001b[0m\u001b[1;33m\u001b[0m\u001b[1;33m\u001b[0m\u001b[0m\n\u001b[0m\u001b[0;32m    394\u001b[0m \u001b[1;33m\u001b[0m\u001b[0m\n\u001b[0;32m    395\u001b[0m     \u001b[1;32mreturn\u001b[0m \u001b[0mwrap\u001b[0m\u001b[1;33m(\u001b[0m\u001b[0mr\u001b[0m\u001b[1;33m.\u001b[0m\u001b[0mastype\u001b[0m\u001b[1;33m(\u001b[0m\u001b[0mresult_t\u001b[0m\u001b[1;33m,\u001b[0m \u001b[0mcopy\u001b[0m\u001b[1;33m=\u001b[0m\u001b[1;32mFalse\u001b[0m\u001b[1;33m)\u001b[0m\u001b[1;33m)\u001b[0m\u001b[1;33m\u001b[0m\u001b[1;33m\u001b[0m\u001b[0m\n",
      "\u001b[1;32m~\\AppData\\Roaming\\Python\\Python38\\site-packages\\numpy\\linalg\\linalg.py\u001b[0m in \u001b[0;36m_raise_linalgerror_singular\u001b[1;34m(err, flag)\u001b[0m\n\u001b[0;32m     86\u001b[0m \u001b[1;33m\u001b[0m\u001b[0m\n\u001b[0;32m     87\u001b[0m \u001b[1;32mdef\u001b[0m \u001b[0m_raise_linalgerror_singular\u001b[0m\u001b[1;33m(\u001b[0m\u001b[0merr\u001b[0m\u001b[1;33m,\u001b[0m \u001b[0mflag\u001b[0m\u001b[1;33m)\u001b[0m\u001b[1;33m:\u001b[0m\u001b[1;33m\u001b[0m\u001b[1;33m\u001b[0m\u001b[0m\n\u001b[1;32m---> 88\u001b[1;33m     \u001b[1;32mraise\u001b[0m \u001b[0mLinAlgError\u001b[0m\u001b[1;33m(\u001b[0m\u001b[1;34m\"Singular matrix\"\u001b[0m\u001b[1;33m)\u001b[0m\u001b[1;33m\u001b[0m\u001b[1;33m\u001b[0m\u001b[0m\n\u001b[0m\u001b[0;32m     89\u001b[0m \u001b[1;33m\u001b[0m\u001b[0m\n\u001b[0;32m     90\u001b[0m \u001b[1;32mdef\u001b[0m \u001b[0m_raise_linalgerror_nonposdef\u001b[0m\u001b[1;33m(\u001b[0m\u001b[0merr\u001b[0m\u001b[1;33m,\u001b[0m \u001b[0mflag\u001b[0m\u001b[1;33m)\u001b[0m\u001b[1;33m:\u001b[0m\u001b[1;33m\u001b[0m\u001b[1;33m\u001b[0m\u001b[0m\n",
      "\u001b[1;31mLinAlgError\u001b[0m: Singular matrix"
     ]
    }
   ],
   "source": [
    "A = np.arange(1, 19).reshape(6, 3)\n",
    "b = np.array([1]*6)\n",
    "(x1, x2), (e1, e2) = duas_sols_erros(A, b)"
   ]
  },
  {
   "cell_type": "markdown",
   "metadata": {},
   "source": [
    "O que aconteceu?"
   ]
  },
  {
   "cell_type": "markdown",
   "metadata": {
    "deletable": false,
    "nbgrader": {
     "cell_type": "markdown",
     "checksum": "94aa8c82fb8527816672fc37747e2649",
     "grade": true,
     "grade_id": "cell-a2f0eddf5eb48f1d",
     "locked": false,
     "points": 2,
     "schema_version": 3,
     "solution": true,
     "task": false
    }
   },
   "source": [
    "Ocorreu um erro, pois estamos passando para o método solve uma matriz não inversível. Podemos ver isso calculando o determinante de $A^T A$ é verificando que ele é nulo. Quando não é inversível não existe solução ou existem infinitas soluções para o sistema linear, por isso o np.solve não consegue resolver."
   ]
  },
  {
   "cell_type": "code",
   "execution_count": 126,
   "id": "9d7052f1",
   "metadata": {},
   "outputs": [
    {
     "data": {
      "text/plain": [
       "0.0"
      ]
     },
     "execution_count": 126,
     "metadata": {},
     "output_type": "execute_result"
    }
   ],
   "source": [
    "np.linalg.det(A.T@A)"
   ]
  }
 ],
 "metadata": {
  "kernelspec": {
   "display_name": "Python 3 (ipykernel)",
   "language": "python",
   "name": "python3"
  },
  "language_info": {
   "codemirror_mode": {
    "name": "ipython",
    "version": 3
   },
   "file_extension": ".py",
   "mimetype": "text/x-python",
   "name": "python",
   "nbconvert_exporter": "python",
   "pygments_lexer": "ipython3",
   "version": "3.8.5"
  }
 },
 "nbformat": 4,
 "nbformat_minor": 5
}
