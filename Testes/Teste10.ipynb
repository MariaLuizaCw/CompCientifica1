{
 "cells": [
  {
   "cell_type": "markdown",
   "metadata": {},
   "source": [
    "![CC-BY-SA](https://mirrors.creativecommons.org/presskit/buttons/88x31/svg/by-sa.svg)\n",
    "\n",
    "\n",
    "This notebook was created by [Bernardo Freitas Paulo da Costa](http://www.im.ufrj.br/bernardofpc),\n",
    "and is licensed under Creative Commons BY-SA."
   ]
  },
  {
   "cell_type": "markdown",
   "metadata": {},
   "source": [
    "Antes de enviar este Teste, verifique que tudo está funcionando como esperado.\n",
    "Por exemplo, **rode o código inteiro, do zero**.\n",
    "Para isso, vá no menu, escolha _Kernel_, depois _Restart & Run All_.\n",
    "\n",
    "Verifique, também, que você respondeu todas as questões:\n",
    "* as questões de código têm `YOUR CODE HERE` (e você pode apagar o `raise NotImplemented` ao incluir sua resposta)\n",
    "* as questões discursivas têm \"YOUR ANSWER HERE\"."
   ]
  },
  {
   "cell_type": "markdown",
   "metadata": {},
   "source": [
    "---"
   ]
  },
  {
   "cell_type": "code",
   "execution_count": 1,
   "metadata": {
    "deletable": false,
    "editable": false,
    "nbgrader": {
     "cell_type": "code",
     "checksum": "bf7c09313bea879e38dc879f2732c044",
     "grade": false,
     "grade_id": "cell-a6bbe291d9334a49",
     "locked": true,
     "schema_version": 3,
     "solution": false,
     "task": false
    }
   },
   "outputs": [],
   "source": [
    "import numpy as np\n",
    "import matplotlib.pyplot as plt\n",
    "\n",
    "from numpy.linalg import norm"
   ]
  },
  {
   "cell_type": "markdown",
   "metadata": {},
   "source": [
    "# Parte 1: Iteração de Rayleigh\n",
    "\n",
    "Vimos que podemos iterar um vetor $v$ pela matriz $A$, obtendo a sequência de vetores $A^nv$, por multiplicações sucessivas, e que isso permite encontrar um autovetor."
   ]
  },
  {
   "cell_type": "markdown",
   "metadata": {},
   "source": [
    "## Questão 1\n",
    "\n",
    "Implemente uma função `itera(A,v,tol,maxiter)` que itera o vetor $v$, normalizando a cada iteração.\n",
    "\n",
    "O método para quando o relativo entre $Av_k$ e $\\lambda_k v_k$ for menor do que `tol`,\n",
    "ou após realizar `maxiter` iterações.\n",
    "\n",
    "A função retorna `(vs, ls)`, respectivamente:\n",
    "- as estimativas do autovetor (com norma 1);\n",
    "- as estimativas correspondentes para o autovalor."
   ]
  },
  {
   "cell_type": "code",
   "execution_count": 2,
   "metadata": {
    "deletable": false,
    "nbgrader": {
     "cell_type": "code",
     "checksum": "1435c4398daab302a2c0c4faefd57a7c",
     "grade": false,
     "grade_id": "cell-257384f421cba661",
     "locked": false,
     "schema_version": 3,
     "solution": true
    }
   },
   "outputs": [],
   "source": [
    "def itera(A,v, tol=1e-6, maxiter=1000):\n",
    "    v = np.asarray(v)\n",
    "    A = np.asarray(A)\n",
    "    n,m = np.shape(A)\n",
    "    assert n==m, 'A must be square'\n",
    "    v /= norm(v)\n",
    "    ls = []\n",
    "    vs = []\n",
    "    for _ in range(maxiter):\n",
    "        v = A@v\n",
    "        v /= norm(v)\n",
    "        vs.append(v)\n",
    "        lamda = np.dot(v, A@v)\n",
    "        ls.append(lamda)\n",
    "        erro_rel = norm((A@v)/lamda - v)\n",
    "        if(erro_rel <= tol):\n",
    "            break\n",
    "    return (vs, ls)\n",
    "\n"
   ]
  },
  {
   "cell_type": "code",
   "execution_count": 3,
   "metadata": {
    "deletable": false,
    "editable": false,
    "nbgrader": {
     "cell_type": "code",
     "checksum": "8b7df67a9e78f0a53d9441033a1e39cc",
     "grade": true,
     "grade_id": "cell-80f43e99a64ee409",
     "locked": true,
     "points": 1,
     "schema_version": 3,
     "solution": false
    }
   },
   "outputs": [],
   "source": [
    "# Autovetores conhecidos\n",
    "A = [[1,2],[2,1]]\n",
    "alvo = np.array([1,1])/np.sqrt(2)\n",
    "\n",
    "vs, ls = itera(A,[1.,2])\n",
    "\n",
    "assert(abs(ls[-1] - 3) < 1e-6)\n",
    "assert(all(abs(vs[-1] - alvo) < 1e-6))\n",
    "assert(10 < len(ls) < 20)"
   ]
  },
  {
   "cell_type": "code",
   "execution_count": 4,
   "metadata": {
    "deletable": false,
    "editable": false,
    "nbgrader": {
     "cell_type": "code",
     "checksum": "e16a43cb529a8a14fa223f26bc7a92fc",
     "grade": true,
     "grade_id": "cell-abf4f0438eefa28a",
     "locked": true,
     "points": 1,
     "schema_version": 3,
     "solution": false
    }
   },
   "outputs": [],
   "source": [
    "# Autovetores conhecidos\n",
    "A = [[1,2],[2,1]]\n",
    "alvo = np.array([1,1])/np.sqrt(2)\n",
    "\n",
    "vs, ls = itera(A,[1.,2], tol=1e-12)\n",
    "\n",
    "assert(abs(ls[-1] - 3) < 1e-12)\n",
    "assert(all(abs(vs[-1] - alvo) < 1e-12))\n",
    "assert(20 < len(ls) < 30)"
   ]
  },
  {
   "cell_type": "markdown",
   "metadata": {},
   "source": [
    "## Questão 2: Convergência\n",
    "\n",
    "Vejamos como o algoritmo \"converge\" para o autovetor.\n",
    "Use os vetores intermediários e faça um gráfico da evolução do erro entre os $v$'s produzidos e o autovetor $v_\\lambda$."
   ]
  },
  {
   "cell_type": "code",
   "execution_count": 5,
   "metadata": {
    "deletable": false,
    "nbgrader": {
     "cell_type": "code",
     "checksum": "edf8278367d9d90b9a9bbfc9cd498c25",
     "grade": false,
     "grade_id": "cell-5fbe094e6250b829",
     "locked": false,
     "schema_version": 3,
     "solution": true
    }
   },
   "outputs": [
    {
     "data": {
      "image/png": "[encoded data removed]",
      "text/plain": [
       "<Figure size 432x288 with 1 Axes>"
      ]
     },
     "metadata": {
      "needs_background": "light"
     },
     "output_type": "display_data"
    }
   ],
   "source": [
    "ax = None\n",
    "vs, ls = itera(A, np.random.rand(2), tol=1e-10)\n",
    "\n",
    "alvo = np.array([1,1])/np.sqrt(2)\n",
    "erros = [ norm(v - alvo) for v in vs]\n",
    "\n",
    "plt.semilogy(erros)\n",
    "plt.title(\"Erro\")\n",
    "plt.xlabel(\"Iteração\")\n",
    "plt.grid()\n",
    "ax = plt.gca()\n",
    "plt.show()"
   ]
  },
  {
   "cell_type": "code",
   "execution_count": 6,
   "metadata": {
    "deletable": false,
    "editable": false,
    "nbgrader": {
     "cell_type": "code",
     "checksum": "0e96083c93c1576950233527aad2a7e7",
     "grade": true,
     "grade_id": "cell-64ee0faf69476729",
     "locked": true,
     "points": 2,
     "schema_version": 3,
     "solution": false
    }
   },
   "outputs": [],
   "source": [
    "assert ax.title.get_text() != \"\"\n",
    "assert len(ax.lines) == 1\n",
    "\n",
    "ys = ax.lines[0].get_ydata()\n",
    "\n",
    "assert 1e-12 < min(ys) < 1e-10\n",
    "assert np.all(ys[:-1] > ys[1:])"
   ]
  },
  {
   "cell_type": "markdown",
   "metadata": {},
   "source": [
    "O que o último assert quer dizer?"
   ]
  },
  {
   "cell_type": "markdown",
   "metadata": {
    "deletable": false,
    "nbgrader": {
     "cell_type": "markdown",
     "checksum": "2b7418c406ceb48b82b692953030a886",
     "grade": true,
     "grade_id": "cell-8432b1317c5a799a",
     "locked": false,
     "points": 1,
     "schema_version": 3,
     "solution": true
    }
   },
   "source": [
    "Este assert foi utilizado para verificar se o gráfico é decresnte, ou seja, conforme aumentamos o número de iterações reduzimos o erro. Isso porque $ys[:-1]$ retorna todos os valores menos o último e $ys[1:]$ retorna todos os valores menos o primeiro. Assim, com esses arrays deslocados estaremos sempre comparando se um elemento é de fato menor que o seu anterior."
   ]
  },
  {
   "cell_type": "markdown",
   "metadata": {},
   "source": [
    "## Questão 3: Convergência comparada\n",
    "\n",
    "Para cada um dos vetores `d1` e `d2` abaixo, considere a matriz $A = \\operatorname{diag}(d_i)$ correspondente."
   ]
  },
  {
   "cell_type": "code",
   "execution_count": 7,
   "metadata": {},
   "outputs": [],
   "source": [
    "d1 = [1,10,20,30,31,32]\n",
    "d2 = [1,10,20,29,30,32]"
   ]
  },
  {
   "cell_type": "markdown",
   "metadata": {},
   "source": [
    "Qual é o autovetor com o maior autovalor para $A_1$ e $A_2$?"
   ]
  },
  {
   "cell_type": "markdown",
   "metadata": {
    "deletable": false,
    "nbgrader": {
     "cell_type": "markdown",
     "checksum": "5a683d9a38d3efafda5d47e87cfaa5e9",
     "grade": true,
     "grade_id": "cell-80ff3d3111fd3705",
     "locked": false,
     "points": 1,
     "schema_version": 3,
     "solution": true
    }
   },
   "source": [
    "Sabemos que, em uma matriz diagonal, os elementos sãos os prórpios autovalores. Assim, o maior autovalor de $A_1$ é 32 asim como o maior autovalor de $A_2$. Logicamente, o autovetor associado a ambos os autovalores é $v = [0, 0, 0, 0, 0, 1]$. Considere, por exemplo, o sistema linear.\n",
    "\n",
    "$$\n",
    "A_1 v = \\lambda v \\\\\n",
    "\n",
    "$$\n",
    "\n",
    "Como todas as coordenadas de v são 0 exceto a última esse sistema pode ser reduzido para:\n",
    "\n",
    "\n",
    "$$\n",
    "1 \\cdot\n",
    "\\begin{bmatrix}\n",
    "0 \\\\\n",
    "0 \\\\\n",
    "0 \\\\\n",
    "0 \\\\\n",
    "0 \\\\\n",
    "32\n",
    "\\end{bmatrix} = 32 \\begin{bmatrix}\n",
    "0 \\\\\n",
    "0 \\\\\n",
    "0 \\\\\n",
    "0 \\\\\n",
    "0 \\\\\n",
    "1\n",
    "\\end{bmatrix}\n",
    "\n",
    "$$\n",
    "\n",
    "Verificamos portanto a igualdade que classifica o v assima como autovetor associado a 32.\n"
   ]
  },
  {
   "cell_type": "markdown",
   "metadata": {},
   "source": [
    "Agora, compare a velocidade de convergência do autovetor usando `itera` para cada uma destas matrizes,\n",
    "fazendo o gráfico do erro entre os vetores gerados para $A_1$ e $A_2$ no mesmo eixo."
   ]
  },
  {
   "cell_type": "code",
   "execution_count": 8,
   "metadata": {
    "deletable": false,
    "nbgrader": {
     "cell_type": "code",
     "checksum": "3ca764e3da7ea8ea429af776a44a8564",
     "grade": false,
     "grade_id": "cell-0ca9beaae72f048a",
     "locked": false,
     "schema_version": 3,
     "solution": true
    }
   },
   "outputs": [
    {
     "data": {
      "image/png": "[encoded data removed]",
      "text/plain": [
       "<Figure size 432x288 with 1 Axes>"
      ]
     },
     "metadata": {
      "needs_background": "light"
     },
     "output_type": "display_data"
    }
   ],
   "source": [
    "ax = None\n",
    "\n",
    "vs_1, _ = itera(np.diag(d1), np.ones(6))\n",
    "vs_2, _ = itera(np.diag(d2), np.ones(6))\n",
    "\n",
    "\n",
    "alvo = np.array([0, 0, 0, 0, 0, 1])\n",
    "erros_1 = [ norm(v - alvo) for v in vs_1]\n",
    "erros_2 = [ norm(v - alvo) for v in vs_2]\n",
    "plt.semilogy(erros_1, label=\"Erros para d1\")\n",
    "plt.semilogy(erros_2, label=\"Erros para d2\")\n",
    "plt.legend()\n",
    "plt.title(\"Erro\")\n",
    "plt.xlabel(\"Iteração\")\n",
    "plt.grid()\n",
    "\n",
    "\n",
    "ax = plt.gca()\n",
    "plt.show()"
   ]
  },
  {
   "cell_type": "code",
   "execution_count": 9,
   "metadata": {
    "deletable": false,
    "editable": false,
    "nbgrader": {
     "cell_type": "code",
     "checksum": "36a34c9984604b071062f50289573f94",
     "grade": true,
     "grade_id": "cell-b5b7998bcab31e94",
     "locked": true,
     "points": 2,
     "schema_version": 3,
     "solution": false
    }
   },
   "outputs": [],
   "source": [
    "assert ax.title.get_text() != \"\"\n",
    "assert len(ax.lines) == 2\n",
    "assert len(ax.legend().texts) == 2"
   ]
  },
  {
   "cell_type": "markdown",
   "metadata": {},
   "source": [
    "Para qual matriz há convergência mais rápida?  Como você explicaria isso?"
   ]
  },
  {
   "cell_type": "markdown",
   "metadata": {
    "deletable": false,
    "nbgrader": {
     "cell_type": "markdown",
     "checksum": "dd2cc33a4dfede5f2ae8a3792c74cced",
     "grade": true,
     "grade_id": "cell-c2652af3d1fa97e1",
     "locked": false,
     "points": 2,
     "schema_version": 3,
     "solution": true
    }
   },
   "source": [
    "A matriz $A_2$ converge mais rápido. \n",
    "\n",
    "O nosso método é baseado na seguinte equação.\n",
    "$$\n",
    "\n",
    "A^n x = \\sum x_i v_i (\\lambda_i)^n \n",
    "$$\n",
    "\n",
    "A ideia é que com n tendendo a infinito, o item do somatório associado ao maior autovalor vai sobressair e com isso, se $v_1$ for o autovetor associado ao maior autovalor: \n",
    "\n",
    "$$\n",
    "\\frac{A^n x}{||A^n x ||} \\rightarrow \\frac{v_1}{||v_1||}\n",
    "$$\n",
    "\n",
    "A partir do somatório podemos perceber que: a convergência é mais rápida quando os outros autovalores estão distantes do maior autovalor. \n",
    "\n",
    "Os autovalores de $A_1$ e $A_2$ são $d_1$ e $d_2$. Como as coordenadas quatro e cinco do $d_2$ são menores que as coordenadas quatro e cinco do $d_1$ e, portanto, mais distantes de 32, $A_2$ converge mais rápido."
   ]
  },
  {
   "cell_type": "markdown",
   "metadata": {},
   "source": [
    "## Questão 4: Convergência?\n",
    "\n",
    "Sejam $\\theta \\in [0,2\\pi]$ e $\\alpha \\in \\mathbb{R}$,\n",
    "e considere a matriz \n",
    "$$A(\\theta, \\alpha) = \\begin{bmatrix} \n",
    "\\cos(\\theta) & \\sin(\\theta) & 0\\\\\n",
    "-\\sin(\\theta) &\\cos(\\theta) &  0\\\\\n",
    "0 & 0 & \\alpha\\\\\n",
    "\\end{bmatrix}.$$\n",
    "\n",
    "Qual a interpretação geométrica dessa matriz?"
   ]
  },
  {
   "cell_type": "markdown",
   "metadata": {
    "deletable": false,
    "nbgrader": {
     "cell_type": "markdown",
     "checksum": "f3e315d21d30817427f1c97a5fa47dfe",
     "grade": true,
     "grade_id": "cell-549ef2ace83f1d22",
     "locked": false,
     "points": 1,
     "schema_version": 3,
     "solution": true
    }
   },
   "source": [
    "Esta matriz é uma matriz de rotação que quando aplicada sobre um vetor modifica sua direção rotacionando-o em um ângulo $\\theta$ em relação ao eixo z. Além disso, essa matriz multiplica a coordenada em z de um vetor por um valor $\\alpha$."
   ]
  },
  {
   "cell_type": "markdown",
   "metadata": {},
   "source": [
    "Quais são os autovetores de $A$ (em função de $\\theta$ e $\\alpha$)?"
   ]
  },
  {
   "cell_type": "markdown",
   "metadata": {},
   "source": [
    "Para encontrar os autovetores precisamos primeiro encontrar os autovalores. Isso pode ser feito calculando o polinômio característico P a partir da equação $det(A - \\lambda I) = 0$.\n",
    "\n",
    "$$\n",
    "    P = (\\lambda - \\alpha) (1 - 2\\lambda \\cos{\\theta} + \\lambda^2)\n",
    "$$\n",
    "\n",
    "As raízes desse polinômio são $\\lambda_1 = \\alpha$, $\\lambda_2 = \\cos{\\theta} - \\sin{\\theta}i$ e  $\\lambda_3 = \\cos{\\theta} + \\sin{\\theta}i$. Os valores complexos apareceram pois o discriminante do fator quadrático do nosso polinômio é negativo. Assim, com os autovalores calculados, podemos formular os autovetores resolvendo o sistema linear $(A - \\lambda_i I)v_i = 0$. \n",
    "\n",
    "No primeiro sistema, $(A - \\lambda_1 I)v_1 = 0$, obtemos o autovetor $v_1 = \\{0, 0, 1\\}$. Isso faz sentido para esta matriz. Qualquer vetor que esteja no eixo $z$ não será rotacionado, terá apenas sua magnitude modificada pelo $\\alpha$. \n",
    "\n",
    "O segundo sistema, $(A - \\lambda_2 I)v_2 = 0$, possui infinitas soluções do tipo $v_2 = \\{ix_2, x_2, 0\\}$, em que $x_2$ pode assumir qualquer valor. Assim, podemos afirmar que $v_2 = {i, 1, 0}$ é o autovetor associado ao autovalor $\\lambda_2$.\n",
    "\n",
    "O terceiro sistema  $(A - \\lambda_3 I)v_3 = 0$ também possui infinitas soluções que são do tipo  $v_3 = \\{-ix_2, x_2, 0\\}$, onde $x_2$ pode assumir qualquer valor. Então, podemos afirmar que $v_3 = \\{-i, 1, 0\\}$ é o autovetor associado ao autovalor $\\lambda_3$.\n",
    "\n"
   ]
  },
  {
   "cell_type": "markdown",
   "metadata": {},
   "source": [
    "Implemente a função abaixo que gera a matriz $A$:"
   ]
  },
  {
   "cell_type": "code",
   "execution_count": 10,
   "metadata": {
    "deletable": false,
    "nbgrader": {
     "cell_type": "code",
     "checksum": "f9379dfd544d6f06e823079051714d2c",
     "grade": false,
     "grade_id": "cell-782a31adaac5452f",
     "locked": false,
     "schema_version": 3,
     "solution": true
    }
   },
   "outputs": [],
   "source": [
    "def make_matrix(theta, alpha):\n",
    "\n",
    "    return np.array([ [np.cos(theta), np.sin(theta), 0], [- np.sin(theta), np.cos(theta), 0],  [0, 0, alpha]  ])"
   ]
  },
  {
   "cell_type": "code",
   "execution_count": 11,
   "metadata": {
    "deletable": false,
    "editable": false,
    "nbgrader": {
     "cell_type": "code",
     "checksum": "81c5c6ee789679ce1eaa1cd9326f3232",
     "grade": true,
     "grade_id": "cell-ec8cf18f333dc2d1",
     "locked": true,
     "points": 1,
     "schema_version": 3,
     "solution": false
    }
   },
   "outputs": [],
   "source": [
    "assert np.allclose(make_matrix(0,1),np.eye(3))\n",
    "assert np.allclose(make_matrix(np.pi,0.5),[[-1,0,0],[0,-1,0],[0,0,0.5]])"
   ]
  },
  {
   "cell_type": "markdown",
   "metadata": {},
   "source": [
    "Fixando $\\theta = \\dfrac{\\pi}{4}$,\n",
    "faça um gráfico do número de iterações necessários para calcular o maior autovetor,\n",
    "em função de $\\alpha \\in [0.5,1.5]$, com precisão `1e-12`."
   ]
  },
  {
   "cell_type": "code",
   "execution_count": 12,
   "metadata": {
    "deletable": false,
    "nbgrader": {
     "cell_type": "code",
     "checksum": "13badfe80d0975193e3b0cffb5ec609d",
     "grade": false,
     "grade_id": "cell-b784f741aca3e042",
     "locked": false,
     "schema_version": 3,
     "solution": true
    }
   },
   "outputs": [
    {
     "data": {
      "image/png": "[encoded data removed]",
      "text/plain": [
       "<Figure size 432x288 with 1 Axes>"
      ]
     },
     "metadata": {
      "needs_background": "light"
     },
     "output_type": "display_data"
    }
   ],
   "source": [
    "alphas = np.linspace(0.5,1.5,100)\n",
    "ax = None\n",
    "num_iter = []\n",
    "for alpha in alphas:\n",
    "    A = make_matrix(np.pi/4, alpha)\n",
    "    xs, ls = itera(A, np.random.rand(3), tol=1e-12)\n",
    "    num_iter.append(len(xs))\n",
    "\n",
    "plt.plot(alphas, num_iter)\n",
    "plt.title(\"Número de Iterações\")\n",
    "plt.xlabel(\"alpha\")\n",
    "ax = plt.gca()\n",
    "plt.show()"
   ]
  },
  {
   "cell_type": "code",
   "execution_count": 13,
   "metadata": {
    "deletable": false,
    "editable": false,
    "nbgrader": {
     "cell_type": "code",
     "checksum": "e607360e6bae8d898127b9cd2ccbf7ec",
     "grade": true,
     "grade_id": "cell-e13220288c2e5c20",
     "locked": true,
     "points": 2,
     "schema_version": 3,
     "solution": false
    }
   },
   "outputs": [],
   "source": [
    "assert ax.title.get_text() != \"\"\n",
    "assert len(ax.lines) == 1\n",
    "assert ax.get_xlabel() != \"\"\n",
    "\n",
    "ys = ax.lines[0].get_ydata()\n",
    "\n",
    "assert 100 > ys.min() > 60\n",
    "assert ys[55] < 600\n",
    "assert ys[50] > 900"
   ]
  },
  {
   "cell_type": "markdown",
   "metadata": {},
   "source": [
    "Agora, faça o gráfico com a estimativa do autovalor, novamente em função de $\\alpha$."
   ]
  },
  {
   "cell_type": "code",
   "execution_count": 14,
   "metadata": {
    "deletable": false,
    "nbgrader": {
     "cell_type": "code",
     "checksum": "b0eb57c92d6b9a9f64ec5b499c17f61f",
     "grade": false,
     "grade_id": "cell-496cb16ecaa50929",
     "locked": false,
     "schema_version": 3,
     "solution": true
    }
   },
   "outputs": [
    {
     "data": {
      "image/png": "[encoded data removed]",
      "text/plain": [
       "<Figure size 432x288 with 1 Axes>"
      ]
     },
     "metadata": {
      "needs_background": "light"
     },
     "output_type": "display_data"
    }
   ],
   "source": [
    "alphas = np.linspace(0.5,1.5,100)\n",
    "ax = None\n",
    "l = []\n",
    "for alpha in alphas:\n",
    "    A = make_matrix(np.pi/4, alpha)\n",
    "    xs, ls = itera(A, np.random.rand(3), tol=1e-12)\n",
    "    l.append(ls[-1])\n",
    "\n",
    "plt.plot(alphas, l)\n",
    "plt.title(\"Estimativa do autovalor\")\n",
    "plt.xlabel(\"alpha\")\n",
    "ax = plt.gca()\n",
    "plt.show()"
   ]
  },
  {
   "cell_type": "code",
   "execution_count": 15,
   "metadata": {
    "deletable": false,
    "editable": false,
    "nbgrader": {
     "cell_type": "code",
     "checksum": "96f85ebabc2e6cc13aeb4dd6b41642b6",
     "grade": true,
     "grade_id": "cell-6bc7eba37b6f9533",
     "locked": true,
     "points": 2,
     "schema_version": 3,
     "solution": false
    }
   },
   "outputs": [],
   "source": [
    "assert ax.title.get_text() != \"\"\n",
    "assert len(ax.lines) == 1\n",
    "assert ax.get_xlabel() != \"\"\n",
    "\n",
    "ys = ax.lines[0].get_ydata()\n",
    "\n",
    "assert np.all(0.7 <= ys) and np.all(ys <= 1.5)"
   ]
  },
  {
   "cell_type": "markdown",
   "metadata": {},
   "source": [
    "Como explicar a variação no número de iterações? O que isso tem a ver com o autovalor retornado?"
   ]
  },
  {
   "cell_type": "markdown",
   "metadata": {
    "deletable": false,
    "nbgrader": {
     "cell_type": "markdown",
     "checksum": "c65c06a6c6b5aefd1222f7d57ed3c506",
     "grade": true,
     "grade_id": "cell-d2c0a1630ea2b95b",
     "locked": false,
     "points": 2,
     "schema_version": 3,
     "solution": true
    }
   },
   "source": [
    "Para os parâmetros passados, os autovalores seriam $\\lambda_1 = \\alpha$,  $\\lambda_2 = \\frac{\\sqrt(2)}{2} - \\frac{\\sqrt(2)}{2}i$ e $\\lambda_3 = \\frac{\\sqrt(2)}{2} + \\frac{\\sqrt(2)}{2}i$. Observando o gráfico, podemos perceber que a partir de $\\alpha = 1$ o autovalor $\\lambda_1$ passa a ser o maior autovalor, fazendo nosso método convergir para $\\alpha$. Esse corte acontece justamente no ponto 1.0, pois as operações com funções trigonométricas presentes nos outros autovaloress não permitem que eles cheguem a 1. Essa ideia é preservada mesmo com a incerteza do que acontece com as partes complexas. \n",
    "\n",
    "Quanto maior o  $\\alpha$, mais distante este autovalor está dos outros e mais rápida é a convergência, o que explica a queda exponencial no número de iterações. \n",
    "\n",
    "Antes de $\\alpha = 1$ os autovalores complexos estavam sobressaindo no nosso método, mas como estamos apenas trabalhando com operações de números reais o número de iterações chega no valor máximo, indicando que não há convergência. "
   ]
  },
  {
   "cell_type": "markdown",
   "metadata": {},
   "source": [
    "# Questão 5: Autovalores negativos\n",
    "\n",
    "Em princípio, tudo deveria funcionar de forma muito similar para autovalores **negativos**.\n",
    "\n",
    "Estude o caso $\\alpha \\in [-1.5, -0.5]$, fazendo os dois gráficos lado a lado."
   ]
  },
  {
   "cell_type": "code",
   "execution_count": 19,
   "metadata": {
    "deletable": false,
    "nbgrader": {
     "cell_type": "code",
     "checksum": "9fa426aaaac704edb354db762cf3f10d",
     "grade": false,
     "grade_id": "cell-57f58a930c6eee87",
     "locked": false,
     "schema_version": 3,
     "solution": true,
     "task": false
    }
   },
   "outputs": [
    {
     "data": {
      "text/plain": [
       "Text(0.5, 0, 'alpha')"
      ]
     },
     "execution_count": 19,
     "metadata": {},
     "output_type": "execute_result"
    },
    {
     "data": {
      "image/png": "[encoded data removed]",
      "text/plain": [
       "<Figure size 936x288 with 2 Axes>"
      ]
     },
     "metadata": {
      "needs_background": "light"
     },
     "output_type": "display_data"
    }
   ],
   "source": [
    "fig, (ax1, ax2) = plt.subplots(ncols=2, figsize=(13,4))\n",
    "negalphas = np.linspace(-1.5, -0.5, 100)\n",
    "ax = None\n",
    "alphas = np.linspace(-1.5,-0.5,100)\n",
    "\n",
    "l = []\n",
    "num_iter = []\n",
    "for alpha in alphas:\n",
    "    A = make_matrix(np.pi/4, alpha)\n",
    "    xs, ls = itera(A, np.random.rand(3), tol=1e-12)\n",
    "    num_iter.append(len(xs))\n",
    "for alpha in alphas:\n",
    "    A = make_matrix(np.pi/4, alpha)\n",
    "    xs, ls = itera(A, np.random.rand(3), tol=1e-12)\n",
    "    l.append(ls[-1])\n",
    "\n",
    "ax1.plot(alphas, num_iter)\n",
    "ax1.set_title(\"Número de Iterações\")\n",
    "ax2.plot(alphas, l)\n",
    "ax2.set_title(\"Estimativa do autovalor\")\n",
    "ax2.set_xlabel(\"alpha\")\n",
    "ax1.set_xlabel(\"alpha\")"
   ]
  },
  {
   "cell_type": "code",
   "execution_count": 20,
   "metadata": {
    "deletable": false,
    "editable": false,
    "nbgrader": {
     "cell_type": "code",
     "checksum": "ff5d11660e6f44529946fa3b2527d28f",
     "grade": true,
     "grade_id": "cell-59a7cae1d7d54ba6",
     "locked": true,
     "points": 2,
     "schema_version": 3,
     "solution": false,
     "task": false
    }
   },
   "outputs": [],
   "source": [
    "assert ax1.title.get_text() != \"\"\n",
    "assert len(ax1.lines) == 1\n",
    "assert ax1.get_xlabel() != \"\"\n",
    "\n",
    "ys1 = ax1.lines[0].get_ydata()\n",
    "\n",
    "assert 100 > ys1.min() > 60\n",
    "assert ys1[44] < 600\n",
    "assert ys1[49] > 900\n",
    "\n",
    "\n",
    "assert ax2.title.get_text() != \"\"\n",
    "assert len(ax2.lines) == 1\n",
    "assert ax2.get_xlabel() != \"\"\n",
    "\n",
    "ys2 = ax2.lines[0].get_ydata()\n",
    "\n",
    "assert np.all(0.71 >= ys2)\n",
    "assert np.all(ys2 >= -1.5)"
   ]
  },
  {
   "cell_type": "markdown",
   "metadata": {},
   "source": [
    "Para funcionar, o teste `ys1[i] < 600` teve seu índice foi trocado de `55` para `44`.\n",
    "Explique esta mudança, tanto do ponto de vista matemático,\n",
    "quanto da linguagem Python. "
   ]
  },
  {
   "cell_type": "markdown",
   "metadata": {
    "deletable": false,
    "nbgrader": {
     "cell_type": "markdown",
     "checksum": "9a3ccae261204c58122af5c1582f69f3",
     "grade": true,
     "grade_id": "cell-de42c88dea47bd4a",
     "locked": false,
     "points": 2,
     "schema_version": 3,
     "solution": true,
     "task": false
    }
   },
   "source": [
    "Estamos utilizando 100 valores de $\\alpha$. Antes os valores mais a direita de $\\alpha$ apresentavam a convergência em menos iterações. Agora os valores mais a esquerda que tem essa propriedade. Assim, se anterioremente estávamos escolhendo um ponto um pouco mais a direita da metade do número de pontos, agora devemos escolher um ponto um pouco menor que essa metade, já que os gráficos são bem similares, sendo um praticamente o espelho do outro. \n",
    "\n",
    "Poderíamos pensar que o ponto 55 corresponde ao 45 quando espelhamos, mas não é verdade. Isso tem a ver com o fato de o número de pontos ser par. Imagine o seguinte array:\n",
    "\n",
    "$$x = [1, 2, 3, 4, 5, 6]$$\n",
    "\n",
    "Vamos invertê-lo:\n",
    "\n",
    "$$y = [6, 5, 4, 3, 2, 1]$$\n",
    "\n",
    "Repare que o elemento de valor 5 é obtido pelo índice 4 ($x[4] = 5$) para o vetor não invertido e é obtido pelo índice 1 para o vetor invertido $x[1]$. Assim antes o 5 estava duas casas da metade, mas com a inversão ele passa a estar apenas a uma casa de distância.\n",
    "\n"
   ]
  },
  {
   "cell_type": "markdown",
   "metadata": {},
   "source": [
    "Explique, também, porque $0.71$ deve ser suficiente como cota superior. (Aqui, é \"só\" matemática, mas a matemática pode ser um pouco mais complexa)"
   ]
  },
  {
   "cell_type": "markdown",
   "metadata": {
    "deletable": false,
    "nbgrader": {
     "cell_type": "markdown",
     "checksum": "b7aab5599d6189084874fbd14c542f55",
     "grade": true,
     "grade_id": "cell-cf2020151488e34a",
     "locked": false,
     "points": 2,
     "schema_version": 3,
     "solution": true,
     "task": false
    }
   },
   "source": [
    "Isso tem relação com nosso autovalores complexos para os parâmetros dados: $\\lambda_2 = \\frac{\\sqrt(2)}{2} - \\frac{\\sqrt(2)}{2}i$ e $\\lambda_3 = \\frac{\\sqrt(2)}{2} + \\frac{\\sqrt(2)}{2}i$. Sabemos que $\\sqrt{2}/2 = 0.707$, assim estamos utilizando como cota superior um valor um pouco maior que o resultado do sen e do cos para um ângulo de 45°. O que faz sentido, se o computador não estiver conseguindo interpretar a parte imaginária dos autovalores, já que só trabalhamos com números reais, os autovalores que ele vai conseguir retorar são da parte real."
   ]
  },
  {
   "cell_type": "markdown",
   "metadata": {},
   "source": [
    "# Questão 6: Mudando $\\theta$\n",
    "\n",
    "A velocidade de convergência muda ao trocar $\\theta$?\n",
    "Teste outros valores, e refaça os gráficos, agora com várias curvas em cada eixo,\n",
    "uma para cada um dos valores de $\\theta$ que você estudou."
   ]
  },
  {
   "cell_type": "code",
   "execution_count": 33,
   "metadata": {
    "deletable": false,
    "nbgrader": {
     "cell_type": "code",
     "checksum": "b777e47e422ea6f37fbe6f2cffee6cab",
     "grade": true,
     "grade_id": "cell-9b0c0c87e0cb96a7",
     "locked": false,
     "points": 3,
     "schema_version": 3,
     "solution": true,
     "task": false
    }
   },
   "outputs": [
    {
     "data": {
      "image/png": "[encoded data removed]",
      "text/plain": [
       "<Figure size 936x288 with 2 Axes>"
      ]
     },
     "metadata": {
      "needs_background": "light"
     },
     "output_type": "display_data"
    }
   ],
   "source": [
    "fig, (ax1, ax2) = plt.subplots(ncols=2, figsize=(13,4))\n",
    "\n",
    "thetas = [ np.pi/3, np.pi/6, np.pi/4, np.pi]\n",
    "leg_theta = [ \"pi/3\", \"pi/6\", \"pi/4\", \"pi\"]\n",
    "alphas = np.linspace(0.5,1.5,100)\n",
    "for (theta, leg) in zip(thetas, leg_theta):\n",
    "    num_iter = []\n",
    "    l = []\n",
    "    for alpha in alphas:\n",
    "        A = make_matrix(theta, alpha)\n",
    "        xs, ls = itera(A, np.random.rand(3), tol=1e-12)\n",
    "        num_iter.append(len(xs))\n",
    "        l.append(ls[-1])\n",
    "\n",
    "    ax1.plot(alphas, l, label=f\"theta = {leg}\")\n",
    "    ax2.plot(alphas, num_iter, label=f\"theta = {leg}\")\n",
    "\n",
    "ax1.legend()\n",
    "ax2.legend()\n",
    "\n",
    "ax1.set_title(\"Estimativa do autovalor\")\n",
    "ax2.set_title(\"Número de Iterações\")\n",
    "ax = plt.gca()\n",
    "plt.show()"
   ]
  },
  {
   "cell_type": "markdown",
   "metadata": {},
   "source": [
    "O que você observa?  Isso faz sentido?"
   ]
  },
  {
   "cell_type": "markdown",
   "metadata": {
    "deletable": false,
    "nbgrader": {
     "cell_type": "markdown",
     "checksum": "e416a7981eb6f87d2b0d9968f1ce7d5c",
     "grade": true,
     "grade_id": "cell-f882f904ce506664",
     "locked": false,
     "points": 2,
     "schema_version": 3,
     "solution": true,
     "task": false
    }
   },
   "source": [
    "No primeiro gráfico, percebemos o mesmo padrão do gráfico de estimativa do autovalor anterior. Novamente a partir do 1, vamos convergir para o autovalor $\\alpha$ e para um valor menor que 1, a convergência fica próxima da parte real dos autovalores $\\lambda_2$ e $\\lambda_3$. Essa convergência parece ocorrer com a mesma velocidade.\n",
    "\n",
    "\n",
    "O segundo gráfico também pode ser explicado da mesma forma que o gráfico da questão anterior exceto pelo $\\theta = \\pi$. Isso porque os autovalores da matriz  $\\lambda_2 = \\cos{\\theta} - \\sin{\\theta}i$ e $\\lambda_3 = \\cos{\\theta} + \\sin{\\theta}i$, tem a função $sen(\\theta)$ como parte imaginária. Assim, para todo valor de $\\theta$ que anula o seno, teremos autovalores reais, permitindo a convergência."
   ]
  }
 ],
 "metadata": {
  "kernelspec": {
   "display_name": "Python 3 (ipykernel)",
   "language": "python",
   "name": "python3"
  },
  "language_info": {
   "codemirror_mode": {
    "name": "ipython",
    "version": 3
   },
   "file_extension": ".py",
   "mimetype": "text/x-python",
   "name": "python",
   "nbconvert_exporter": "python",
   "pygments_lexer": "ipython3",
   "version": "3.8.5"
  }
 },
 "nbformat": 4,
 "nbformat_minor": 2
}
