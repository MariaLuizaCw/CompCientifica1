{
 "cells": [
  {
   "cell_type": "markdown",
   "id": "bbd33eb9",
   "metadata": {},
   "source": [
    "![CC-BY-SA](https://mirrors.creativecommons.org/presskit/buttons/88x31/svg/by-sa.svg)\n",
    "\n",
    "\n",
    "This notebook was created by [Bernardo Freitas Paulo da Costa](http://www.im.ufrj.br/bernardofpc),\n",
    "and is licensed under Creative Commons BY-SA."
   ]
  },
  {
   "cell_type": "markdown",
   "id": "b9404cce",
   "metadata": {},
   "source": [
    "Antes de enviar este Teste, verifique que tudo está funcionando como esperado.\n",
    "Por exemplo, **rode o código inteiro, do zero**.\n",
    "Para isso, vá no menu, escolha _Kernel_, depois _Restart & Run All_.\n",
    "\n",
    "Verifique, também, que você respondeu todas as questões:\n",
    "* as questões de código têm `YOUR CODE HERE` (e você pode apagar o `raise NotImplemented` ao incluir sua resposta)\n",
    "* as questões discursivas têm \"YOUR ANSWER HERE\"."
   ]
  },
  {
   "cell_type": "markdown",
   "id": "88a8c563",
   "metadata": {},
   "source": [
    "---"
   ]
  },
  {
   "cell_type": "code",
   "execution_count": 142,
   "id": "blessed-trinidad",
   "metadata": {
    "deletable": false,
    "editable": false,
    "nbgrader": {
     "cell_type": "code",
     "checksum": "cf3869451c53ecf96e04285c1cb56171",
     "grade": false,
     "grade_id": "cell-6ad078a12fa64f09",
     "locked": true,
     "schema_version": 3,
     "solution": false,
     "task": false
    }
   },
   "outputs": [],
   "source": [
    "import numpy as np\n",
    "import matplotlib.pyplot as plt"
   ]
  },
  {
   "cell_type": "code",
   "execution_count": 143,
   "id": "roman-demographic",
   "metadata": {
    "deletable": false,
    "editable": false,
    "nbgrader": {
     "cell_type": "code",
     "checksum": "15e332c14995615968626f1e86ce272e",
     "grade": false,
     "grade_id": "cell-1c55effa29c2f2ff",
     "locked": true,
     "schema_version": 3,
     "solution": false,
     "task": false
    }
   },
   "outputs": [],
   "source": [
    "def veryclose(a, b):\n",
    "    return np.isclose(a, b, rtol=1e-12, atol=1e-12)"
   ]
  },
  {
   "cell_type": "markdown",
   "id": "1fa6f1b4",
   "metadata": {},
   "source": [
    "# Funcionário básico"
   ]
  },
  {
   "cell_type": "code",
   "execution_count": 144,
   "id": "danish-april",
   "metadata": {
    "deletable": false,
    "nbgrader": {
     "cell_type": "code",
     "checksum": "b3ad64792208a13025f109a301e99193",
     "grade": false,
     "grade_id": "cell-8c671a2335947e55",
     "locked": false,
     "schema_version": 3,
     "solution": true,
     "task": false
    }
   },
   "outputs": [],
   "source": [
    "def newton(f, df, x0, y, maxiter=100,  xtol=1e-12, ytol=1e-12):\n",
    "    g = lambda x: f(x) - y\n",
    "    pts = []\n",
    "    pts.append(x0)\n",
    "    while maxiter:\n",
    "        x1 = x0 - g(x0)/df(x0)\n",
    "        pts.append(x1)\n",
    "        if abs(x1 - x0) <= xtol:\n",
    "            return pts[-1]\n",
    "        if abs(f(x1)) <= ytol:\n",
    "            return pts[-1]\n",
    "        x0 = x1\n",
    "        maxiter -= 1\n",
    "    return pts[-1]\n"
   ]
  },
  {
   "cell_type": "code",
   "execution_count": 145,
   "id": "hazardous-ireland",
   "metadata": {
    "deletable": false,
    "editable": false,
    "nbgrader": {
     "cell_type": "code",
     "checksum": "0ae7d434645dbef05d57beef018f95b0",
     "grade": true,
     "grade_id": "cell-3bf7e99f542b6484",
     "locked": true,
     "points": 1,
     "schema_version": 3,
     "solution": false,
     "task": false
    }
   },
   "outputs": [],
   "source": [
    "assert veryclose(newton(np.sin, np.cos, 3, 0), np.pi)"
   ]
  },
  {
   "cell_type": "code",
   "execution_count": 146,
   "id": "intelligent-dodge",
   "metadata": {
    "deletable": false,
    "editable": false,
    "nbgrader": {
     "cell_type": "code",
     "checksum": "6ffc9f8be28ce51d1ffe38e7c8320539",
     "grade": true,
     "grade_id": "cell-2ef7f087fa76e782",
     "locked": true,
     "points": 1,
     "schema_version": 3,
     "solution": false,
     "task": false
    }
   },
   "outputs": [],
   "source": [
    "x = newton(np.exp, np.exp, 0, 2)\n",
    "assert veryclose(x, np.log(2))"
   ]
  },
  {
   "cell_type": "code",
   "execution_count": 147,
   "id": "neutral-treasure",
   "metadata": {
    "deletable": false,
    "nbgrader": {
     "cell_type": "code",
     "checksum": "2b7d5e467f5a028d131ad2970093e9d4",
     "grade": false,
     "grade_id": "cell-68e6bb2e952bc9d7",
     "locked": false,
     "schema_version": 3,
     "solution": true,
     "task": false
    }
   },
   "outputs": [],
   "source": [
    "def retangulo(f, a, b, n=1000):\n",
    "    if a == b:\n",
    "        return 0\n",
    "    pts, h = np.linspace(a, b, num=n, endpoint=False, retstep=True)\n",
    "    integral = 0\n",
    "    for pt in pts:\n",
    "        integral += f(pt)*h\n",
    "    return integral\n",
    "\n",
    "\n",
    "# def retangulo(f, a, b, n=1000):\n",
    "#     # YOUR CODE HERE\n",
    "#     raise NotImplementedError()\n",
    "\n",
    "def trap(f, a, b, n=1000):\n",
    "    if a == b:\n",
    "        return 0\n",
    "    pts, h = np.linspace(a, b, num=n, endpoint=False, retstep=True)\n",
    "    integral = 0\n",
    "    for i in range(1, len(pts)):\n",
    "        integral += f(pts[i])*h\n",
    "    integral += ((f(a)+f(b))*h)/2\n",
    "    return integral"
   ]
  },
  {
   "cell_type": "code",
   "execution_count": 148,
   "id": "active-samuel",
   "metadata": {
    "deletable": false,
    "editable": false,
    "nbgrader": {
     "cell_type": "code",
     "checksum": "6080786a721483ed69afbbc7c2d0e634",
     "grade": true,
     "grade_id": "cell-3f535cf46357abfe",
     "locked": true,
     "points": 1,
     "schema_version": 3,
     "solution": false,
     "task": false
    }
   },
   "outputs": [],
   "source": [
    "assert veryclose(retangulo(np.exp, 0, 1, n=10), 1.6337993999663625)"
   ]
  },
  {
   "cell_type": "code",
   "execution_count": 149,
   "id": "metropolitan-departure",
   "metadata": {
    "deletable": false,
    "editable": false,
    "nbgrader": {
     "cell_type": "code",
     "checksum": "6d3360c94816ba580d2b6194335013a7",
     "grade": true,
     "grade_id": "cell-47b225afe56f79dc",
     "locked": true,
     "points": 1,
     "schema_version": 3,
     "solution": false,
     "task": false
    }
   },
   "outputs": [],
   "source": [
    "assert veryclose(trap(np.sin, 1, 2, n=33), 0.9563759511250488)"
   ]
  },
  {
   "cell_type": "markdown",
   "id": "defined-heaven",
   "metadata": {},
   "source": [
    "# Parte 1: Encontrando raízes de integrais"
   ]
  },
  {
   "cell_type": "markdown",
   "id": "therapeutic-independence",
   "metadata": {},
   "source": [
    "Nesta questão, vamos estudar o seguinte problema:\n",
    "como encontrar o primeiro (segundo, n-ésimo) $x$ tal que\n",
    "\n",
    "$$F(x) = \\int_0^x \\frac{\\sin(\\pi t)}{\\pi t} \\, dt = y.$$"
   ]
  },
  {
   "cell_type": "markdown",
   "id": "capital-neighbor",
   "metadata": {},
   "source": [
    "## Questão 1: Primitiva\n",
    "\n",
    "Escreva uma função `F(x)` que calcula esta primitiva pelo método do trapézio."
   ]
  },
  {
   "cell_type": "code",
   "execution_count": 150,
   "id": "studied-professional",
   "metadata": {
    "deletable": false,
    "nbgrader": {
     "cell_type": "code",
     "checksum": "84c4aac028ec6f3d8eb2484380d76979",
     "grade": false,
     "grade_id": "cell-608fadaae9547981",
     "locked": false,
     "schema_version": 3,
     "solution": true,
     "task": false
    }
   },
   "outputs": [],
   "source": [
    "def F(x, n=1000):\n",
    "    \"\"\"Integral de  sin(pi t)/(pi t)  de 0 a  x.\"\"\"\n",
    "\n",
    "    return trap(np.sinc, 0, x, n)"
   ]
  },
  {
   "cell_type": "code",
   "execution_count": 151,
   "id": "silent-organ",
   "metadata": {
    "deletable": false,
    "editable": false,
    "nbgrader": {
     "cell_type": "code",
     "checksum": "2a2a619b666bfaedf7217f9683cd7b9e",
     "grade": true,
     "grade_id": "cell-9b9d0513e4c85102",
     "locked": true,
     "points": 1,
     "schema_version": 3,
     "solution": false,
     "task": false
    }
   },
   "outputs": [],
   "source": [
    "assert F(0) == 0"
   ]
  },
  {
   "cell_type": "code",
   "execution_count": 152,
   "id": "functional-ladder",
   "metadata": {
    "deletable": false,
    "editable": false,
    "nbgrader": {
     "cell_type": "code",
     "checksum": "a26f6ab07235cdb90cce30c1d84ffdb7",
     "grade": true,
     "grade_id": "cell-b9faed9c490c88f3",
     "locked": true,
     "points": 1,
     "schema_version": 3,
     "solution": false,
     "task": false
    }
   },
   "outputs": [],
   "source": [
    "assert veryclose(F(1), 0.5894897889027448)"
   ]
  },
  {
   "cell_type": "code",
   "execution_count": 153,
   "id": "spoken-yesterday",
   "metadata": {
    "deletable": false,
    "editable": false,
    "nbgrader": {
     "cell_type": "code",
     "checksum": "4b22bac48b5fdb05fdca16dde5dd7637",
     "grade": true,
     "grade_id": "cell-7fc0d897ea18f578",
     "locked": true,
     "points": 1,
     "schema_version": 3,
     "solution": false,
     "task": false
    }
   },
   "outputs": [],
   "source": [
    "assert veryclose(F(2, n=10), 0.4530876922149236)"
   ]
  },
  {
   "cell_type": "markdown",
   "id": "innovative-fruit",
   "metadata": {},
   "source": [
    "## Questão 1: Gráficos\n",
    "\n",
    "Faça um gráfico da função $\\frac{\\sin \\pi t}{\\pi t}$ no intervalo $[0, 4]$.\n",
    "\n",
    "Essa função é conhecida no `numpy` (e na engenharia elétrica) como `np.sinc`."
   ]
  },
  {
   "cell_type": "code",
   "execution_count": 154,
   "id": "considerable-brisbane",
   "metadata": {
    "deletable": false,
    "nbgrader": {
     "cell_type": "code",
     "checksum": "a25d2ee6a9dd00bd6ce342542be9d28b",
     "grade": true,
     "grade_id": "cell-9cfcb2b170e637b1",
     "locked": false,
     "points": 1,
     "schema_version": 3,
     "solution": true,
     "task": false
    }
   },
   "outputs": [
    {
     "data": {
      "text/plain": [
       "Text(0.5, 1.0, 'Função Np.sinc')"
      ]
     },
     "execution_count": 154,
     "metadata": {},
     "output_type": "execute_result"
    },
    {
     "data": {
      "image/png": "[encoded data removed]",
      "text/plain": [
       "<Figure size 432x288 with 1 Axes>"
      ]
     },
     "metadata": {
      "needs_background": "light"
     },
     "output_type": "display_data"
    }
   ],
   "source": [
    "\n",
    "x = np.linspace(0, 4)\n",
    "plt.plot(x, np.sinc(x), label=\"np.sinc\")\n",
    "plt.legend()\n",
    "ax = plt.gca()\n",
    "ax.set_title('Função Np.sinc')"
   ]
  },
  {
   "cell_type": "code",
   "execution_count": 155,
   "id": "resident-actor",
   "metadata": {
    "deletable": false,
    "editable": false,
    "nbgrader": {
     "cell_type": "code",
     "checksum": "01d637c0c17a8c5af0b5a304f5ef217a",
     "grade": true,
     "grade_id": "cell-fd307a60fa7f6e75",
     "locked": true,
     "points": 1,
     "schema_version": 3,
     "solution": false,
     "task": false
    }
   },
   "outputs": [],
   "source": [
    "assert len(ax.lines) == 1\n",
    "assert ax.get_title() != \"\"\n",
    "\n",
    "ys = ax.lines[0].get_ydata()\n",
    "assert np.all(-0.22 <= ys) and np.all(ys <= 1)"
   ]
  },
  {
   "cell_type": "code",
   "execution_count": 156,
   "id": "cooperative-easter",
   "metadata": {
    "deletable": false,
    "editable": false,
    "nbgrader": {
     "cell_type": "code",
     "checksum": "da51b09008ba389b737f07564159ae26",
     "grade": false,
     "grade_id": "cell-794e9b8584a8d091",
     "locked": true,
     "schema_version": 3,
     "solution": false,
     "task": false
    }
   },
   "outputs": [],
   "source": [
    "ax = None"
   ]
  },
  {
   "cell_type": "markdown",
   "id": "unlikely-court",
   "metadata": {},
   "source": [
    "Se estiver tudo certo, a próxima caixa também não deve dar erro:"
   ]
  },
  {
   "cell_type": "code",
   "execution_count": 157,
   "id": "recreational-filling",
   "metadata": {
    "deletable": false,
    "editable": false,
    "nbgrader": {
     "cell_type": "code",
     "checksum": "ae5f362719bfbfa9bca3f81c4fc0d4de",
     "grade": true,
     "grade_id": "cell-a36ee0ca49e62843",
     "locked": true,
     "points": 1,
     "schema_version": 3,
     "solution": false,
     "task": false
    }
   },
   "outputs": [],
   "source": [
    "for n in range(1,1000):\n",
    "    assert F(1, n=n) <= F(1, n=1+n)"
   ]
  },
  {
   "cell_type": "markdown",
   "id": "historical-synthetic",
   "metadata": {},
   "source": [
    "Explique (com ajuda do gráfico acima) porque isto ocorre."
   ]
  },
  {
   "cell_type": "markdown",
   "id": "uniform-cambodia",
   "metadata": {
    "deletable": false,
    "nbgrader": {
     "cell_type": "markdown",
     "checksum": "5e7d0118201b27947de9c7e76e2e739f",
     "grade": true,
     "grade_id": "cell-db4a63b8196b380d",
     "locked": false,
     "points": 3,
     "schema_version": 3,
     "solution": true,
     "task": false
    }
   },
   "source": [
    "Isso acontece porque a função nesse intervalo tem uma característica decrescente, se desenharmos os trapézios sobre a função percebemos que a tendência é que a área deles subestime a área real. Assim, quando aumentamos o número de trapézios que utilizamos para estimar essa área (aumento do n), diminuímos o erro com a construção de trapézios de uma largura menor. Um erro menor significa que estamos nos aproximando mais da área real da função e, como vimos, a área real é maior do que a área que os trapézios costumem estimar."
   ]
  },
  {
   "cell_type": "markdown",
   "id": "packed-entrepreneur",
   "metadata": {},
   "source": [
    "## Questão 2: Estudando a primitiva\n",
    "\n",
    "Faça também o gráfico da primitiva $F(x)$ no intervalo $[0, 4]$.\n",
    "\n",
    "Não use pontos demais para não demorar demais ;-)"
   ]
  },
  {
   "cell_type": "code",
   "execution_count": 158,
   "id": "nonprofit-protection",
   "metadata": {
    "deletable": false,
    "nbgrader": {
     "cell_type": "code",
     "checksum": "ac6aba302e1637bdf9fcd19a73501073",
     "grade": true,
     "grade_id": "cell-5f85e5d46379f5c1",
     "locked": false,
     "points": 2,
     "schema_version": 3,
     "solution": true,
     "task": false
    }
   },
   "outputs": [
    {
     "data": {
      "text/plain": [
       "Text(0.5, 1.0, 'Primitiva')"
      ]
     },
     "execution_count": 158,
     "metadata": {},
     "output_type": "execute_result"
    },
    {
     "data": {
      "image/png": "[encoded data removed]",
      "text/plain": [
       "<Figure size 432x288 with 1 Axes>"
      ]
     },
     "metadata": {
      "needs_background": "light"
     },
     "output_type": "display_data"
    }
   ],
   "source": [
    "# YOUR CODE HERE\n",
    "xs = np.linspace(0, 4)\n",
    "ys = [F(x) for x in xs]\n",
    "plt.plot(xs, ys, label=\"F(x)\")\n",
    "plt.legend()\n",
    "ax = plt.gca()\n",
    "ax.set_title('Primitiva')"
   ]
  },
  {
   "cell_type": "code",
   "execution_count": 159,
   "id": "molecular-replacement",
   "metadata": {
    "deletable": false,
    "editable": false,
    "nbgrader": {
     "cell_type": "code",
     "checksum": "d85c6547f681d54e959432c85da04fb4",
     "grade": true,
     "grade_id": "cell-6792a1137fae6e58",
     "locked": true,
     "points": 1,
     "schema_version": 3,
     "solution": false,
     "task": false
    }
   },
   "outputs": [],
   "source": [
    "assert len(ax.lines) == 1\n",
    "\n",
    "ys = ax.lines[0].get_ydata()\n",
    "assert np.all(0 <= ys) and np.all(ys <= 0.6)"
   ]
  },
  {
   "cell_type": "code",
   "execution_count": 160,
   "id": "female-chassis",
   "metadata": {
    "deletable": false,
    "editable": false,
    "nbgrader": {
     "cell_type": "code",
     "checksum": "2939d2702aa1a47738980e0d7fbf2ac2",
     "grade": false,
     "grade_id": "cell-6486bdc0c6dabd3f",
     "locked": true,
     "schema_version": 3,
     "solution": false,
     "task": false
    }
   },
   "outputs": [],
   "source": [
    "ax = None"
   ]
  },
  {
   "cell_type": "markdown",
   "id": "interpreted-bailey",
   "metadata": {},
   "source": [
    "Analisando este gráfico (e o anterior também),\n",
    "deduza que a sequência $F(n+1) - F(n)$ (para $n$ inteiro positivo)\n",
    "- converge para zero; e\n",
    "- tem sinais alternados."
   ]
  },
  {
   "cell_type": "markdown",
   "id": "reverse-concentrate",
   "metadata": {
    "deletable": false,
    "nbgrader": {
     "cell_type": "markdown",
     "checksum": "cea5119e04863ac5e167765f8f3e06f9",
     "grade": true,
     "grade_id": "cell-d4f2b92516143511",
     "locked": false,
     "points": 2,
     "schema_version": 3,
     "solution": true,
     "task": false
    }
   },
   "source": [
    "Essa função oscila e conforme x aumenta, suas oscilações vão ficando cada vez mais amenas. Por isso, F(n+1)-F(n) tende para zero e tem sinais alternados."
   ]
  },
  {
   "cell_type": "markdown",
   "id": "psychological-casino",
   "metadata": {},
   "source": [
    "Mostre que o máximo de $F$ é atingido no ponto $x = 1$."
   ]
  },
  {
   "cell_type": "markdown",
   "id": "fba96ea0",
   "metadata": {},
   "source": []
  },
  {
   "cell_type": "markdown",
   "id": "patient-russia",
   "metadata": {},
   "source": [
    "Qual é a importância deste valor para o nosso problema?"
   ]
  },
  {
   "cell_type": "markdown",
   "id": "obvious-monday",
   "metadata": {
    "deletable": false,
    "nbgrader": {
     "cell_type": "markdown",
     "checksum": "0d6f0ddfc7518beda095ec88f0e4fdcf",
     "grade": true,
     "grade_id": "cell-f97d76380e0f67e1",
     "locked": false,
     "points": 2,
     "schema_version": 3,
     "solution": true,
     "task": false
    }
   },
   "source": [
    "O máximo de F nos ajuda a determinar o ponto inicial de busca para a raiz. Como nenhum valor de F é maior que F(1), podemos proucurar a primeira raiz a esquerda desse valor. "
   ]
  },
  {
   "cell_type": "markdown",
   "id": "packed-mercy",
   "metadata": {},
   "source": [
    "## Questão 3: Encontrando raízes\n",
    "\n",
    "Se queremos encontrar um valor de $x$ tal que $F(x) = y$ pelo método de Newton,\n",
    "precisamos\n",
    "\n",
    "- da derivada da função $F$; e\n",
    "- de um ponto inicial."
   ]
  },
  {
   "cell_type": "markdown",
   "id": "dress-forest",
   "metadata": {},
   "source": [
    "Explique qual derivada você usará para $F$."
   ]
  },
  {
   "cell_type": "markdown",
   "id": "sixth-fisher",
   "metadata": {
    "deletable": false,
    "nbgrader": {
     "cell_type": "markdown",
     "checksum": "58c007fb668e2efb8d38b5c277000500",
     "grade": true,
     "grade_id": "cell-5ef1c70b3790f58d",
     "locked": false,
     "points": 1,
     "schema_version": 3,
     "solution": true,
     "task": false
    }
   },
   "source": [
    "A derivada da função F(x) é a própria função dentro da integral. \n",
    "\n",
    "$$F'(x) = \\frac{\\sin(\\pi x)}{\\pi x}$$"
   ]
  },
  {
   "cell_type": "markdown",
   "id": "material-output",
   "metadata": {},
   "source": [
    "Qual ponto inicial faz sentido usar para encontrar **o primeiro $x$ tal que $F(x) = y$**?"
   ]
  },
  {
   "cell_type": "markdown",
   "id": "imposed-bennett",
   "metadata": {
    "deletable": false,
    "nbgrader": {
     "cell_type": "markdown",
     "checksum": "443c75b808e64c48f97e4fa9c6567762",
     "grade": true,
     "grade_id": "cell-35a361c2d960b472",
     "locked": false,
     "points": 2,
     "schema_version": 3,
     "solution": true,
     "task": false
    }
   },
   "source": [
    "Podemos utilizar um valor a esquerda do ponto máximo, pois sabemos que nesse sentido a função é decrescente e as tangentes nessa região vão nos guiar a raiz. Podemos então utilizar o x=0.5."
   ]
  },
  {
   "cell_type": "markdown",
   "id": "close-background",
   "metadata": {},
   "source": [
    "Faça uma função `primeira raiz` que calcule este $x$, dado $y$."
   ]
  },
  {
   "cell_type": "code",
   "execution_count": 161,
   "id": "beautiful-plaza",
   "metadata": {
    "deletable": false,
    "nbgrader": {
     "cell_type": "code",
     "checksum": "5bcffc64947ba33378cd061516948a38",
     "grade": false,
     "grade_id": "cell-9cf57c54aeff6c97",
     "locked": false,
     "schema_version": 3,
     "solution": true,
     "task": false
    }
   },
   "outputs": [],
   "source": [
    "def primeira_raiz(y, n=1000):\n",
    "    \"\"\"Calcula a primeira raiz de F(x) = y,  usando  n  intervalos para aproximar o método do trapézio.\"\"\"\n",
    "    return newton(F, np.sinc, 0.5, y)"
   ]
  },
  {
   "cell_type": "code",
   "execution_count": 162,
   "id": "fantastic-dictionary",
   "metadata": {
    "deletable": false,
    "editable": false,
    "nbgrader": {
     "cell_type": "code",
     "checksum": "e7d2fcfdcbb42a3d9591daf2ffb0e412",
     "grade": true,
     "grade_id": "cell-3f206f13f1de870f",
     "locked": true,
     "points": 2,
     "schema_version": 3,
     "solution": false,
     "task": false
    }
   },
   "outputs": [],
   "source": [
    "x_05 = primeira_raiz(0.5)\n",
    "assert veryclose(F(x_05), 0.5)"
   ]
  },
  {
   "cell_type": "code",
   "execution_count": 163,
   "id": "technological-spending",
   "metadata": {
    "deletable": false,
    "editable": false,
    "nbgrader": {
     "cell_type": "code",
     "checksum": "3b29b06b885bc92b848d5cce7711abc5",
     "grade": true,
     "grade_id": "cell-315afa03af1b4ca4",
     "locked": true,
     "points": 2,
     "schema_version": 3,
     "solution": false,
     "task": false
    }
   },
   "outputs": [],
   "source": [
    "assert np.isclose(x_05, 0.6132074231614169)"
   ]
  },
  {
   "cell_type": "markdown",
   "id": "stuck-pickup",
   "metadata": {},
   "source": [
    "## Questão 4: Outras raízes\n",
    "\n",
    "Alguns valores de $y$ podem aparecer várias vezes ao calcular a integral $F(x)$.\n",
    "\n",
    "Quais são os valores de $y$ que podem ser atingidos pelo menos duas vezes?"
   ]
  },
  {
   "cell_type": "markdown",
   "id": "exciting-waterproof",
   "metadata": {
    "deletable": false,
    "nbgrader": {
     "cell_type": "markdown",
     "checksum": "46c56f787048ab03d6146f8d9a858904",
     "grade": true,
     "grade_id": "cell-e801fb6b6ed42df9",
     "locked": false,
     "points": 2,
     "schema_version": 3,
     "solution": true,
     "task": false
    }
   },
   "source": [
    "Os valores de y entre o ponto máximo e o ponto mínimo local da nossa função, por causa do caráter oscilatório da função sabemos que valores de y nessa região podem se repetir."
   ]
  },
  {
   "cell_type": "markdown",
   "id": "arabic-subject",
   "metadata": {},
   "source": [
    "Como você faria um método para encontrar esta segunda raiz de $F(x) = y$ para estes valores de $y$?"
   ]
  },
  {
   "cell_type": "code",
   "execution_count": 164,
   "id": "turkish-rachel",
   "metadata": {
    "deletable": false,
    "nbgrader": {
     "cell_type": "code",
     "checksum": "8fe752dde449738f6fd8a0a9fd27b316",
     "grade": false,
     "grade_id": "cell-f7c3ad3154603b76",
     "locked": false,
     "schema_version": 3,
     "solution": true,
     "task": false
    }
   },
   "outputs": [],
   "source": [
    "def segunda_raiz(y, n=1000):\n",
    "    \"\"\"Calcula a primeira raiz de F(x) = y,  usando  n  intervalos para aproximar o método do trapézio.\"\"\"\n",
    "    return newton(F, np.sinc, 1.1, y)"
   ]
  },
  {
   "cell_type": "code",
   "execution_count": 165,
   "id": "vertical-sodium",
   "metadata": {
    "deletable": false,
    "editable": false,
    "nbgrader": {
     "cell_type": "code",
     "checksum": "7a3f14caf7cf3ab987859a9865ea633a",
     "grade": true,
     "grade_id": "cell-086d1c3b6f8a80d3",
     "locked": true,
     "points": 2,
     "schema_version": 3,
     "solution": false,
     "task": false
    }
   },
   "outputs": [],
   "source": [
    "x_05_2 = segunda_raiz(0.5)\n",
    "assert veryclose(F(x_05_2), 0.5)\n",
    "assert x_05_2 > 1"
   ]
  },
  {
   "cell_type": "code",
   "execution_count": 166,
   "id": "10856ba1",
   "metadata": {
    "deletable": false,
    "editable": false,
    "nbgrader": {
     "cell_type": "code",
     "checksum": "6ad0b1395e399c6edb74dbdf0d7fe0e3",
     "grade": true,
     "grade_id": "cell-f3413505c189ece7",
     "locked": true,
     "points": 2,
     "schema_version": 3,
     "solution": false,
     "task": false
    }
   },
   "outputs": [],
   "source": [
    "x_055_2 = segunda_raiz(0.55)\n",
    "assert veryclose(F(x_055_2), 0.55)\n",
    "assert x_055_2 > 1"
   ]
  },
  {
   "cell_type": "markdown",
   "id": "sorted-orbit",
   "metadata": {},
   "source": [
    "# Parte 2: Outro método para calcular a integral\n",
    "\n",
    "Vamos usar 3 ideias que vimos para desenvolver um método de integração:\n",
    "- o método deveria ser simétrico;\n",
    "- o método deveria acertar o polinômio de maior grau possível;\n",
    "- começamos estudando o método no intervalo simétrico $[-1,1]$.\n",
    "\n",
    "## Questão 1: Dedução do método\n",
    "\n",
    "Assim, considere um método que calcula a integral de uma função $f$ no intervalo $[-1,1]$,\n",
    "usando dois pontos do **interior** do intervalo:\n",
    "\n",
    "$$\\int_{-1}^1 f(t) \\, dt \\simeq w_1 f(x_1) + w_2 f(x_2).$$"
   ]
  },
  {
   "cell_type": "markdown",
   "id": "joined-designation",
   "metadata": {},
   "source": [
    "Deduza, da simetria, que $x_1 = -x_2$ e então que $w_1 = w_2$."
   ]
  },
  {
   "cell_type": "markdown",
   "id": "supposed-style",
   "metadata": {
    "deletable": false,
    "nbgrader": {
     "cell_type": "markdown",
     "checksum": "43f2f3e4a67a4c67ddd844e0df426cf3",
     "grade": true,
     "grade_id": "cell-8e078af44cbe0356",
     "locked": false,
     "points": 2,
     "schema_version": 3,
     "solution": true,
     "task": false
    }
   },
   "source": [
    "Se a função é simétrica, temos que essa integral, para esses limites de integração, é nula. Além disso, temos que $f(x_1) = f(-x_2) = -f(x_2)$. Assim,\n",
    "\n",
    "$$ 0 \\simeq -w_1f(x_2) + w_2f(x_2) $$\n",
    "\n",
    "\n",
    "$$ w_1f(x_2) \\simeq  w_2f(x_2) $$\n",
    "\n",
    "$$ w_1  \\simeq  w_2 $$"
   ]
  },
  {
   "cell_type": "markdown",
   "id": "accredited-italy",
   "metadata": {},
   "source": [
    "Calcule os pesos $w_1 = w_2$ para que a integral numérica acerte as constantes,\n",
    "ou seja, que dê a resposta exata para $f(t) = c$."
   ]
  },
  {
   "cell_type": "markdown",
   "id": "alone-street",
   "metadata": {
    "deletable": false,
    "nbgrader": {
     "cell_type": "markdown",
     "checksum": "18b56e1e9da16bc55d0c3c49f976948f",
     "grade": true,
     "grade_id": "cell-06ac6becf618d270",
     "locked": false,
     "points": 2,
     "schema_version": 3,
     "solution": true,
     "task": false
    }
   },
   "source": [
    "Se f(t) = c,\n",
    "\n",
    "$$2c \\simeq c w_1  + c w_2$$\n",
    "\n",
    "$$2 \\simeq  w_1  +  w_2$$\n",
    "\n",
    "$$ w_1 = w_2 \\simeq  1$$\n"
   ]
  },
  {
   "cell_type": "markdown",
   "id": "greater-oxford",
   "metadata": {},
   "source": [
    "Enfim, calcule $x_1$ para que o lado direito acerte a função quadrática $f(t) = t^2$."
   ]
  },
  {
   "cell_type": "markdown",
   "id": "subjective-score",
   "metadata": {
    "deletable": false,
    "nbgrader": {
     "cell_type": "markdown",
     "checksum": "007393891c1f3587e549fd00a563048c",
     "grade": true,
     "grade_id": "cell-ead2faff9dfb0e0c",
     "locked": false,
     "points": 2,
     "schema_version": 3,
     "solution": true,
     "task": false
    }
   },
   "source": [
    "$$\\int_{-1}^1 t^2 \\, dt \\simeq w_1 x^2_1 + w_2 x^2_2$$\n",
    "\n",
    "$$ \\frac{2}{3} \\simeq w_1 x^2_1 + w_2 x^2_2$$\n",
    "\n",
    "Se $$ w_1 = w_2 \\simeq  1$$\n",
    "$$ \\frac{2}{3} \\simeq  x^2_1 +  x^2_2$$\n",
    "\n",
    "Se  $x_1 = -x_2$\n",
    "\n",
    "$$ \\frac{2}{3} \\simeq  x^2_1 +  x^2_1$$\n",
    "\n",
    "\n",
    "$$ x_1 = \\pm \\frac{1}{\\sqrt{3}}$$"
   ]
  },
  {
   "cell_type": "markdown",
   "id": "resident-wholesale",
   "metadata": {},
   "source": [
    "## Questão 2: Implementação\n",
    "\n",
    "Escreva o método `sym2` que usa os 2 pontos simétricos deduzidos acima,\n",
    "em cada um dos `n` sub-intervalos em que será dividido o intervalo $[a,b]$."
   ]
  },
  {
   "cell_type": "code",
   "execution_count": 167,
   "id": "faced-imagination",
   "metadata": {
    "deletable": false,
    "nbgrader": {
     "cell_type": "code",
     "checksum": "cf56a42eb7893cf6880ae0477c819339",
     "grade": false,
     "grade_id": "cell-13aeebae12113445",
     "locked": false,
     "schema_version": 3,
     "solution": true,
     "task": false
    }
   },
   "outputs": [],
   "source": [
    "def sym2(f, a, b, n=1000):\n",
    "    \"\"\"Método de integração usando 2 pontos interiors simétricos, com  n  subdivisões.\"\"\"\n",
    "    pts, h = np.linspace(a, b, num=n, endpoint=False, retstep=True)\n",
    "    # YOUR CODE HERE\n",
    "    raise NotImplementedError()"
   ]
  },
  {
   "cell_type": "code",
   "execution_count": 168,
   "id": "dc51f8de",
   "metadata": {
    "deletable": false,
    "editable": false,
    "nbgrader": {
     "cell_type": "code",
     "checksum": "b0e91a74b20a874e86378cd097df62b1",
     "grade": true,
     "grade_id": "cell-efe6476d00768519",
     "locked": true,
     "points": 1,
     "schema_version": 3,
     "solution": false,
     "task": false
    }
   },
   "outputs": [
    {
     "ename": "NotImplementedError",
     "evalue": "",
     "output_type": "error",
     "traceback": [
      "\u001b[1;31m---------------------------------------------------------------------------\u001b[0m",
      "\u001b[1;31mNotImplementedError\u001b[0m                       Traceback (most recent call last)",
      "\u001b[1;32m~\\AppData\\Local\\Temp/ipykernel_225808/488733030.py\u001b[0m in \u001b[0;36m<module>\u001b[1;34m\u001b[0m\n\u001b[1;32m----> 1\u001b[1;33m \u001b[1;32massert\u001b[0m \u001b[0mveryclose\u001b[0m\u001b[1;33m(\u001b[0m\u001b[0msym2\u001b[0m\u001b[1;33m(\u001b[0m\u001b[0mnp\u001b[0m\u001b[1;33m.\u001b[0m\u001b[0mexp\u001b[0m\u001b[1;33m,\u001b[0m \u001b[1;36m0\u001b[0m\u001b[1;33m,\u001b[0m \u001b[1;36m1\u001b[0m\u001b[1;33m)\u001b[0m\u001b[1;33m,\u001b[0m \u001b[0mnp\u001b[0m\u001b[1;33m.\u001b[0m\u001b[0mexp\u001b[0m\u001b[1;33m(\u001b[0m\u001b[1;36m1\u001b[0m\u001b[1;33m)\u001b[0m \u001b[1;33m-\u001b[0m \u001b[1;36m1\u001b[0m\u001b[1;33m)\u001b[0m\u001b[1;33m\u001b[0m\u001b[1;33m\u001b[0m\u001b[0m\n\u001b[0m",
      "\u001b[1;32m~\\AppData\\Local\\Temp/ipykernel_225808/2435282740.py\u001b[0m in \u001b[0;36msym2\u001b[1;34m(f, a, b, n)\u001b[0m\n\u001b[0;32m      3\u001b[0m     \u001b[0mpts\u001b[0m\u001b[1;33m,\u001b[0m \u001b[0mh\u001b[0m \u001b[1;33m=\u001b[0m \u001b[0mnp\u001b[0m\u001b[1;33m.\u001b[0m\u001b[0mlinspace\u001b[0m\u001b[1;33m(\u001b[0m\u001b[0ma\u001b[0m\u001b[1;33m,\u001b[0m \u001b[0mb\u001b[0m\u001b[1;33m,\u001b[0m \u001b[0mnum\u001b[0m\u001b[1;33m=\u001b[0m\u001b[0mn\u001b[0m\u001b[1;33m,\u001b[0m \u001b[0mendpoint\u001b[0m\u001b[1;33m=\u001b[0m\u001b[1;32mFalse\u001b[0m\u001b[1;33m,\u001b[0m \u001b[0mretstep\u001b[0m\u001b[1;33m=\u001b[0m\u001b[1;32mTrue\u001b[0m\u001b[1;33m)\u001b[0m\u001b[1;33m\u001b[0m\u001b[1;33m\u001b[0m\u001b[0m\n\u001b[0;32m      4\u001b[0m     \u001b[1;31m# YOUR CODE HERE\u001b[0m\u001b[1;33m\u001b[0m\u001b[1;33m\u001b[0m\u001b[1;33m\u001b[0m\u001b[0m\n\u001b[1;32m----> 5\u001b[1;33m     \u001b[1;32mraise\u001b[0m \u001b[0mNotImplementedError\u001b[0m\u001b[1;33m(\u001b[0m\u001b[1;33m)\u001b[0m\u001b[1;33m\u001b[0m\u001b[1;33m\u001b[0m\u001b[0m\n\u001b[0m",
      "\u001b[1;31mNotImplementedError\u001b[0m: "
     ]
    }
   ],
   "source": [
    "assert veryclose(sym2(np.exp, 0, 1), np.exp(1) - 1)"
   ]
  },
  {
   "cell_type": "code",
   "execution_count": null,
   "id": "attended-thailand",
   "metadata": {
    "deletable": false,
    "editable": false,
    "nbgrader": {
     "cell_type": "code",
     "checksum": "190824cd619e11208e0f0883e5145bf6",
     "grade": true,
     "grade_id": "cell-f145b3119306bc3e",
     "locked": true,
     "points": 1,
     "schema_version": 3,
     "solution": false,
     "task": false
    }
   },
   "outputs": [],
   "source": [
    "assert veryclose(sym2(np.sin, 0, np.pi), 2)"
   ]
  },
  {
   "cell_type": "code",
   "execution_count": null,
   "id": "frank-information",
   "metadata": {
    "deletable": false,
    "editable": false,
    "nbgrader": {
     "cell_type": "code",
     "checksum": "4fd1c7daa4e2fe64b0a37619c542119f",
     "grade": true,
     "grade_id": "cell-f49f5c4f4515b529",
     "locked": true,
     "points": 1,
     "schema_version": 3,
     "solution": false,
     "task": false
    }
   },
   "outputs": [],
   "source": [
    "v = sym2(np.sin, 0, np.pi, n=100)\n",
    "assert     np.isclose(v, 2, rtol=1e-8,  atol=1e-8)\n",
    "assert not np.isclose(v, 2, atol=1e-10, rtol=1e-10)"
   ]
  },
  {
   "cell_type": "code",
   "execution_count": null,
   "id": "raising-hypothesis",
   "metadata": {
    "deletable": false,
    "editable": false,
    "nbgrader": {
     "cell_type": "code",
     "checksum": "71b98cdfaf60b2d4abc7a8766635bc87",
     "grade": true,
     "grade_id": "cell-dcde120a23e7cdcc",
     "locked": true,
     "points": 1,
     "schema_version": 3,
     "solution": false,
     "task": false
    }
   },
   "outputs": [],
   "source": [
    "def invsqr(x):\n",
    "    return 1/np.sqrt(x)\n",
    "\n",
    "assert veryclose(sym2(invsqr, 1, 2), 2*(np.sqrt(2) - 1))"
   ]
  },
  {
   "cell_type": "markdown",
   "id": "operating-bristol",
   "metadata": {},
   "source": [
    "## Questão 3: Decaimento dos erros\n",
    "\n",
    "Faça um gráfico do erro de integração, ao aumentar o número de subdivisões, para\n",
    "- $\\int_0^\\pi \\sin(t) \\, dt$;\n",
    "- $\\int_0^1 \\exp(t) \\, dt$;\n",
    "- $\\int_1^2 \\frac{1}{\\sqrt{t}} dt$."
   ]
  },
  {
   "cell_type": "code",
   "execution_count": null,
   "id": "finished-typing",
   "metadata": {
    "deletable": false,
    "nbgrader": {
     "cell_type": "code",
     "checksum": "f75f74928a4472f37acef8f74cc4c0ce",
     "grade": true,
     "grade_id": "cell-e2a7dcc97ba79ad9",
     "locked": false,
     "points": 2,
     "schema_version": 3,
     "solution": true,
     "task": false
    }
   },
   "outputs": [],
   "source": [
    "ns = np.logspace(1, 15, dtype=int, base=2, num=29)\n",
    "\n",
    "# YOUR CODE HERE\n",
    "raise NotImplementedError()\n",
    "\n",
    "ax = plt.gca()"
   ]
  },
  {
   "cell_type": "code",
   "execution_count": null,
   "id": "incoming-correlation",
   "metadata": {
    "deletable": false,
    "editable": false,
    "nbgrader": {
     "cell_type": "code",
     "checksum": "bdf40f493e81f99054e3241cab7f47e3",
     "grade": true,
     "grade_id": "cell-9c9b5359d4338c89",
     "locked": true,
     "points": 1,
     "schema_version": 3,
     "solution": false,
     "task": false
    }
   },
   "outputs": [],
   "source": [
    "assert ax.get_title() != \"\"\n",
    "assert len(ax.lines) == 3\n",
    "assert len(ax.get_legend().texts) == 3"
   ]
  },
  {
   "cell_type": "code",
   "execution_count": null,
   "id": "sonic-directory",
   "metadata": {
    "deletable": false,
    "editable": false,
    "nbgrader": {
     "cell_type": "code",
     "checksum": "38ded691e48dbb6e4d145484997ef9ab",
     "grade": false,
     "grade_id": "cell-7c237d17d2348601",
     "locked": true,
     "schema_version": 3,
     "solution": false,
     "task": false
    }
   },
   "outputs": [],
   "source": [
    "ax = None"
   ]
  },
  {
   "cell_type": "markdown",
   "id": "intellectual-therapist",
   "metadata": {},
   "source": [
    "O que você percebe neste gráfico?  Quão rápido decresce o erro?"
   ]
  },
  {
   "cell_type": "markdown",
   "id": "miniature-adapter",
   "metadata": {
    "deletable": false,
    "nbgrader": {
     "cell_type": "markdown",
     "checksum": "6cc7357798a31e589decb3df5b64f85e",
     "grade": true,
     "grade_id": "cell-f0d9f95473ea9e56",
     "locked": false,
     "points": 2,
     "schema_version": 3,
     "solution": true,
     "task": false
    }
   },
   "source": [
    "YOUR ANSWER HERE"
   ]
  },
  {
   "cell_type": "markdown",
   "id": "regulated-cemetery",
   "metadata": {},
   "source": [
    "## Questão 4: Integrais com infinitos\n",
    "\n",
    "Agora, vamos testar algo muito mais audaz:\n",
    "\n",
    "$$\\int_0^1 \\frac{dt}{\\sqrt{t}},$$\n",
    "\n",
    "que é uma integral dita \"imprópria\";\n",
    "neste caso porque o integrando não está definido (ou \"vale infinito\")\n",
    "para uma das extremidades.\n",
    "\n",
    "Como o método usa pontos no interior do intervalo,\n",
    "ele não precisará calcular $f(0)$, que não está bem-definida."
   ]
  },
  {
   "cell_type": "markdown",
   "id": "miniature-founder",
   "metadata": {},
   "source": [
    "Faça o gráfico do erro de integração, conforme $n$ aumenta,\n",
    "usando `sym2`."
   ]
  },
  {
   "cell_type": "code",
   "execution_count": null,
   "id": "automotive-exclusive",
   "metadata": {
    "deletable": false,
    "nbgrader": {
     "cell_type": "code",
     "checksum": "6ebeb26e0a2e74dca2267fbd2015a41d",
     "grade": true,
     "grade_id": "cell-4eea8115e0dba59f",
     "locked": false,
     "points": 1,
     "schema_version": 3,
     "solution": true,
     "task": false
    }
   },
   "outputs": [],
   "source": [
    "# YOUR CODE HERE\n",
    "raise NotImplementedError()\n",
    "\n",
    "ax = plt.gca()"
   ]
  },
  {
   "cell_type": "code",
   "execution_count": null,
   "id": "authorized-afghanistan",
   "metadata": {
    "deletable": false,
    "editable": false,
    "nbgrader": {
     "cell_type": "code",
     "checksum": "dc604564de1606f7b1a9121fbac78411",
     "grade": true,
     "grade_id": "cell-f499e271f1decfa6",
     "locked": true,
     "points": 1,
     "schema_version": 3,
     "solution": false,
     "task": false
    }
   },
   "outputs": [],
   "source": [
    "assert ax.get_title() != \"\"\n",
    "assert len(ax.lines) == 1"
   ]
  },
  {
   "cell_type": "code",
   "execution_count": null,
   "id": "excellent-commissioner",
   "metadata": {
    "deletable": false,
    "editable": false,
    "nbgrader": {
     "cell_type": "code",
     "checksum": "a42992c22c196d9d4ec1b73b96d37616",
     "grade": true,
     "grade_id": "cell-7fdd01321224e27d",
     "locked": true,
     "points": 1,
     "schema_version": 3,
     "solution": false,
     "task": false
    }
   },
   "outputs": [],
   "source": [
    "assert 0.1 <= max(ax.lines[0].get_ydata()) <= 1"
   ]
  },
  {
   "cell_type": "code",
   "execution_count": null,
   "id": "powerful-proposal",
   "metadata": {
    "deletable": false,
    "editable": false,
    "nbgrader": {
     "cell_type": "code",
     "checksum": "7c6a1d2300b1e091a8ec2509c2ab75af",
     "grade": false,
     "grade_id": "cell-28bb3b1ca7d8981c",
     "locked": true,
     "schema_version": 3,
     "solution": false,
     "task": false
    }
   },
   "outputs": [],
   "source": [
    "ax = None"
   ]
  },
  {
   "cell_type": "markdown",
   "id": "shaped-satisfaction",
   "metadata": {},
   "source": [
    "Qual a velocidade de decaimento do erro?  Ou seja, ao fazer 10 vezes mais intervalos, quanto parece diminuir o erro?"
   ]
  },
  {
   "cell_type": "markdown",
   "id": "sustained-grass",
   "metadata": {
    "deletable": false,
    "nbgrader": {
     "cell_type": "markdown",
     "checksum": "5a7fbe8ef204947899bdb5ba67d4c9a9",
     "grade": true,
     "grade_id": "cell-2a850c871cd367e8",
     "locked": false,
     "points": 2,
     "schema_version": 3,
     "solution": true,
     "task": false
    }
   },
   "source": [
    "YOUR ANSWER HERE"
   ]
  },
  {
   "cell_type": "markdown",
   "id": "beginning-bronze",
   "metadata": {},
   "source": [
    "## Questão 5: Outro método\n",
    "\n",
    "Também poderíamos aplicar é o método do retângulo \"do outro lado\",\n",
    "calculando a integral de 1 até 0 (e trocando o sinal),\n",
    "que também vai \"driblar\" a singularidade."
   ]
  },
  {
   "cell_type": "markdown",
   "id": "legislative-alabama",
   "metadata": {},
   "source": [
    "Verifique que o seu método do retângulo de fato troca de sinal\n",
    "quando calcula uma integral \"ao contrário\", de $1$ até $0$:"
   ]
  },
  {
   "cell_type": "code",
   "execution_count": null,
   "id": "affected-success",
   "metadata": {},
   "outputs": [],
   "source": [
    "retangulo(invsqr, 1, 0)"
   ]
  },
  {
   "cell_type": "markdown",
   "id": "psychological-briefs",
   "metadata": {},
   "source": [
    "Faça o gráfico do erro cometido pelo método do retângulo\n",
    "ao aproximar a integral $\\int_0^1 t^{-1/2} \\, dt$."
   ]
  },
  {
   "cell_type": "code",
   "execution_count": null,
   "id": "appointed-numbers",
   "metadata": {
    "deletable": false,
    "nbgrader": {
     "cell_type": "code",
     "checksum": "b0e5f519232feb133cf53fba5f258ca9",
     "grade": true,
     "grade_id": "cell-784848b04fefdfbb",
     "locked": false,
     "points": 1,
     "schema_version": 3,
     "solution": true,
     "task": false
    }
   },
   "outputs": [],
   "source": [
    "# YOUR CODE HERE\n",
    "raise NotImplementedError()\n",
    "\n",
    "ax = plt.gca()"
   ]
  },
  {
   "cell_type": "code",
   "execution_count": null,
   "id": "greenhouse-language",
   "metadata": {
    "deletable": false,
    "editable": false,
    "nbgrader": {
     "cell_type": "code",
     "checksum": "c42aab1859099c9059518ed4287b1539",
     "grade": true,
     "grade_id": "cell-927eeec85e04afa7",
     "locked": true,
     "points": 1,
     "schema_version": 3,
     "solution": false,
     "task": false
    }
   },
   "outputs": [],
   "source": [
    "assert ax.get_title() != \"\"\n",
    "assert len(ax.lines) == 1"
   ]
  },
  {
   "cell_type": "code",
   "execution_count": null,
   "id": "90da3670",
   "metadata": {
    "deletable": false,
    "editable": false,
    "nbgrader": {
     "cell_type": "code",
     "checksum": "3d34c0045a0915ca39645f4b044c40db",
     "grade": true,
     "grade_id": "cell-04607da26e8123e2",
     "locked": true,
     "points": 1,
     "schema_version": 3,
     "solution": false,
     "task": false
    }
   },
   "outputs": [],
   "source": [
    "assert 0.1 <= max(ax.lines[0].get_ydata()) <= 1"
   ]
  },
  {
   "cell_type": "code",
   "execution_count": null,
   "id": "banned-blanket",
   "metadata": {
    "deletable": false,
    "editable": false,
    "nbgrader": {
     "cell_type": "code",
     "checksum": "95b4a4628b0e7925030345c8b30b4f8f",
     "grade": false,
     "grade_id": "cell-558eb7517b901fda",
     "locked": true,
     "schema_version": 3,
     "solution": false,
     "task": false
    }
   },
   "outputs": [],
   "source": [
    "ax = None"
   ]
  },
  {
   "cell_type": "markdown",
   "id": "sitting-fifth",
   "metadata": {},
   "source": [
    "Qual a velocidade com que este erro decai?  Como este erro se compara com o anterior?"
   ]
  },
  {
   "cell_type": "markdown",
   "id": "baking-poison",
   "metadata": {
    "deletable": false,
    "nbgrader": {
     "cell_type": "markdown",
     "checksum": "1f72e1aeec75280aacb85266ed322506",
     "grade": true,
     "grade_id": "cell-3c6a2dffd130a2b9",
     "locked": false,
     "points": 2,
     "schema_version": 3,
     "solution": true,
     "task": false
    }
   },
   "source": [
    "YOUR ANSWER HERE"
   ]
  },
  {
   "cell_type": "markdown",
   "id": "b4339a5b",
   "metadata": {},
   "source": [
    "## Questão 6 (Bônus): Análise final\n",
    "\n",
    "Qual o erro de integração do primeiro intervalo $[0, h]$, em cada um dos métodos?\n",
    "\n",
    "Dê a resposta exata, em função de $h$, calculando analiticamente a primitiva,\n",
    "e os valores retornados pelas funções."
   ]
  },
  {
   "cell_type": "markdown",
   "id": "3ad01681",
   "metadata": {
    "deletable": false,
    "nbgrader": {
     "cell_type": "markdown",
     "checksum": "16b3d21d24c863e0222de439b0f1710f",
     "grade": true,
     "grade_id": "cell-04d050a75194bb92",
     "locked": false,
     "points": 2,
     "schema_version": 3,
     "solution": true,
     "task": false
    }
   },
   "source": [
    "YOUR ANSWER HERE"
   ]
  },
  {
   "cell_type": "markdown",
   "id": "71b03589",
   "metadata": {},
   "source": [
    "Estes cálculos explicam o erro que você observou?"
   ]
  },
  {
   "cell_type": "markdown",
   "id": "e216807d",
   "metadata": {
    "deletable": false,
    "nbgrader": {
     "cell_type": "markdown",
     "checksum": "a4848a8903f4028210a34b1450d622d9",
     "grade": true,
     "grade_id": "cell-57f276604e5417b3",
     "locked": false,
     "points": 2,
     "schema_version": 3,
     "solution": true,
     "task": false
    }
   },
   "source": [
    "YOUR ANSWER HERE"
   ]
  }
 ],
 "metadata": {
  "@webio": {
   "lastCommId": null,
   "lastKernelId": null
  },
  "kernelspec": {
   "display_name": "Python 3 (ipykernel)",
   "language": "python",
   "name": "python3"
  },
  "language_info": {
   "codemirror_mode": {
    "name": "ipython",
    "version": 3
   },
   "file_extension": ".py",
   "mimetype": "text/x-python",
   "name": "python",
   "nbconvert_exporter": "python",
   "pygments_lexer": "ipython3",
   "version": "3.8.5"
  },
  "toc": {
   "base_numbering": 1,
   "nav_menu": {},
   "number_sections": true,
   "sideBar": true,
   "skip_h1_title": false,
   "title_cell": "Table of Contents",
   "title_sidebar": "Contents",
   "toc_cell": true,
   "toc_position": {},
   "toc_section_display": true,
   "toc_window_display": true
  }
 },
 "nbformat": 4,
 "nbformat_minor": 5
}
