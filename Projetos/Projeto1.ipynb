{
 "cells": [
  {
   "cell_type": "markdown",
   "id": "83971576",
   "metadata": {},
   "source": [
    "![CC-BY-SA](https://mirrors.creativecommons.org/presskit/buttons/88x31/svg/by-sa.svg)\n",
    "\n",
    "\n",
    "This notebook was created by [Bernardo Freitas Paulo da Costa](http://www.im.ufrj.br/bernardofpc),\n",
    "and is licensed under Creative Commons BY-SA."
   ]
  },
  {
   "cell_type": "markdown",
   "id": "4c30d1c3",
   "metadata": {},
   "source": [
    "Antes de enviar este Teste, verifique que tudo está funcionando como esperado.\n",
    "Por exemplo, **rode o código inteiro, do zero**.\n",
    "Para isso, vá no menu, escolha _Kernel_, depois _Restart & Run All_.\n",
    "\n",
    "Verifique, também, que você respondeu todas as questões:\n",
    "* as questões de código têm `YOUR CODE HERE` (e você pode apagar o `raise NotImplemented` ao incluir sua resposta)\n",
    "* as questões discursivas têm \"YOUR ANSWER HERE\"."
   ]
  },
  {
   "cell_type": "markdown",
   "id": "2b256a34",
   "metadata": {},
   "source": [
    "---"
   ]
  },
  {
   "cell_type": "code",
   "execution_count": 92,
   "id": "a0b461cb",
   "metadata": {},
   "outputs": [],
   "source": [
    "import numpy as np\n",
    "import matplotlib.pyplot as plt"
   ]
  },
  {
   "cell_type": "markdown",
   "id": "64a0cd49",
   "metadata": {},
   "source": [
    "# Questão 1: Bisseção ao infinito\n",
    "\n",
    "Uma outra forma de encontrar raizes de $x e^x = y$ consiste em fazer uma bisseção \"até o infinito\".\n",
    "Vejamos como isso se aplica no caso de $+\\infty$.\n",
    "\n",
    "Como há um número **finito** de números de ponto flutuante que seu computador conhece,\n",
    "podemos usar uma progressão geométrica para tentar chegar no infinito.\n",
    "\n",
    "Se no intervalo $[a, a\\cdot r]$ a função não trocar de sinal, podemos tentar o intervalo\n",
    "$[a\\cdot r, a\\cdot r^2]$, e depois o intervalo $[a\\cdot r^2, a\\cdot r^3]$ e assim sucessivamente.\n",
    "\n",
    "## Questão 1.1: PGs ao infinito\n",
    "\n",
    "Escreva uma função que calcula o comprimento da PG $a r^n$ até chegar no infinito."
   ]
  },
  {
   "cell_type": "code",
   "execution_count": 93,
   "id": "b4ddb2a2",
   "metadata": {
    "deletable": false,
    "nbgrader": {
     "cell_type": "code",
     "checksum": "b811e687dc12fcf07aa8f81b502bcc0e",
     "grade": false,
     "grade_id": "cell-c4d8baa587bac6d4",
     "locked": false,
     "schema_version": 3,
     "solution": true,
     "task": false
    }
   },
   "outputs": [],
   "source": [
    "def comprimento_pg(a, r):\n",
    "    \"\"\"Comprimento da PG de razão  r  começando em  a,  até chegar no +infinito de ponto flutuante\"\"\"\n",
    "    assert a > 0 and r > 1\n",
    "    a, r = float(a), float(r)\n",
    "    passo = 0\n",
    "    pg = r\n",
    "    while float(\"inf\") != pg*a:\n",
    "        passo += 1\n",
    "        pg *= r\n",
    "    return passo\n",
    "\n"
   ]
  },
  {
   "cell_type": "code",
   "execution_count": 94,
   "id": "0535b1c6",
   "metadata": {
    "deletable": false,
    "editable": false,
    "nbgrader": {
     "cell_type": "code",
     "checksum": "e3d30f439c5b7be87076146883dd96d6",
     "grade": true,
     "grade_id": "cell-d738818c07c00d8c",
     "locked": true,
     "points": 1,
     "schema_version": 3,
     "solution": false,
     "task": false
    }
   },
   "outputs": [],
   "source": [
    "assert 1000 < comprimento_pg(1, 2.) < 2000"
   ]
  },
  {
   "cell_type": "code",
   "execution_count": 95,
   "id": "d87f15fe",
   "metadata": {
    "deletable": false,
    "editable": false,
    "nbgrader": {
     "cell_type": "code",
     "checksum": "f2ec21cc2787db5ee9eec41193ece9b2",
     "grade": true,
     "grade_id": "cell-177b86067a2baf3b",
     "locked": true,
     "points": 1,
     "schema_version": 3,
     "solution": false,
     "task": false
    }
   },
   "outputs": [],
   "source": [
    "assert 250 < comprimento_pg(1, 10.) < 350"
   ]
  },
  {
   "cell_type": "code",
   "execution_count": 96,
   "id": "64c32b52",
   "metadata": {
    "deletable": false,
    "editable": false,
    "nbgrader": {
     "cell_type": "code",
     "checksum": "16bb2149a37ce71cdebe78895accf530",
     "grade": true,
     "grade_id": "cell-2b3807501148637a",
     "locked": true,
     "points": 1,
     "schema_version": 3,
     "solution": false,
     "task": false
    }
   },
   "outputs": [],
   "source": [
    "assert 250 < comprimento_pg(1e10, 10.) < 350"
   ]
  },
  {
   "cell_type": "markdown",
   "id": "14fa100a",
   "metadata": {},
   "source": [
    "## Questão 1.2: Máximo de bisseções\n",
    "\n",
    "Quantas bisseções é possível fazer em um intervalo $[a,b]$ até chegar no limite de precisão do computador?"
   ]
  },
  {
   "cell_type": "code",
   "execution_count": 97,
   "id": "8b9615ed",
   "metadata": {
    "deletable": false,
    "nbgrader": {
     "cell_type": "code",
     "checksum": "4ea44bd8d016b3726cd3347c4d4c7448",
     "grade": false,
     "grade_id": "cell-d1cc08dbefd29ef2",
     "locked": false,
     "schema_version": 3,
     "solution": true,
     "task": false
    }
   },
   "outputs": [],
   "source": [
    "def bissect_max(a, b):\n",
    "    \"\"\"Conta o número de bisseções no intervalo  [a, b]  até chegar na precisão de representação.\"\"\"\n",
    "    nbiss = 0\n",
    "    distance = abs(a-b)\n",
    "    counter = 0\n",
    "    while counter<200:\n",
    "      counter += 1\n",
    "      distance/=2 \n",
    "      if a+distance ==a:\n",
    "        break\n",
    "    return counter"
   ]
  },
  {
   "cell_type": "code",
   "execution_count": 98,
   "id": "43fc1983",
   "metadata": {
    "deletable": false,
    "editable": false,
    "nbgrader": {
     "cell_type": "code",
     "checksum": "9b502d02a498a3a9e91a63496d396391",
     "grade": true,
     "grade_id": "cell-f1d46061b1a36689",
     "locked": true,
     "points": 1,
     "schema_version": 3,
     "solution": false,
     "task": false
    }
   },
   "outputs": [],
   "source": [
    "assert 50 <= bissect_max(1, 2) <= 56\n",
    "assert 50 <= bissect_max(1, 4) <= 56"
   ]
  },
  {
   "cell_type": "code",
   "execution_count": 99,
   "id": "fcbd42d9",
   "metadata": {
    "deletable": false,
    "editable": false,
    "nbgrader": {
     "cell_type": "code",
     "checksum": "91b424d61087828d8a9fc27c485d9ba6",
     "grade": true,
     "grade_id": "cell-f2a4944177470fbb",
     "locked": true,
     "points": 1,
     "schema_version": 3,
     "solution": false,
     "task": false
    }
   },
   "outputs": [],
   "source": [
    "assert bissect_max(1,8) >= bissect_max(1,4)\n",
    "assert bissect_max(1,8) >= bissect_max(2,8)"
   ]
  },
  {
   "cell_type": "code",
   "execution_count": 100,
   "id": "8ab24a58",
   "metadata": {
    "deletable": false,
    "editable": false,
    "nbgrader": {
     "cell_type": "code",
     "checksum": "8a5116fd3d3ae2c19e4d07652617aaa8",
     "grade": true,
     "grade_id": "cell-ac8baba898217b6f",
     "locked": true,
     "points": 1,
     "schema_version": 3,
     "solution": false,
     "task": false
    }
   },
   "outputs": [],
   "source": [
    "assert bissect_max(1,8) >= bissect_max(3,8)"
   ]
  },
  {
   "cell_type": "markdown",
   "id": "13c4c6fa",
   "metadata": {},
   "source": [
    "Porque é sempre verdade que `bissect_max(a,b) >= bissect_max(c,d)` se $[c,d] \\subset [a,b]$?"
   ]
  },
  {
   "cell_type": "markdown",
   "id": "c4ab2a8b",
   "metadata": {
    "deletable": false,
    "nbgrader": {
     "cell_type": "markdown",
     "checksum": "01c2ea85d91571e8954360a862f60828",
     "grade": true,
     "grade_id": "cell-93416178f2ffc8aa",
     "locked": false,
     "points": 2,
     "schema_version": 3,
     "solution": true,
     "task": false
    }
   },
   "source": [
    "Matematicamente, podemos dividir um intervalo infinitas vezes e, assim, o número de bisseções que podem ser feitas entre dois intervalos quaisquer é infinito. Entretando, o computador apresenta um limite de precisão. Assim, quando um intervalo é maior que outros, mais bisseções são feitas até chegar a este limite de precisão, porque podemos dividir mais vezes o intervalo. Como o intervalo $[c, d]$ está contido em $[a, b]$, o número de bisseções feitas em $[c, d]$ só pode ser menor ou igual ao número de bisseções feitas em $[a, b]$ computacionalmente falando."
   ]
  },
  {
   "cell_type": "markdown",
   "id": "e6559602",
   "metadata": {},
   "source": [
    "## Questão 1.3: Calibrando duas bisseções\n",
    "\n",
    "Qual razão $r$ da PG você usaria para encontrar uma raiz positiva,\n",
    "levando em conta\n",
    "- o número de bisseções para encontrar o intervalo; e\n",
    "- o número de bisseções para encontrar a raiz dentro do intervalo?\n",
    "\n",
    "Explique sua ideia na caixa abaixo, e faça as contas necessárias na caixa seguinte."
   ]
  },
  {
   "cell_type": "markdown",
   "id": "29d27cad",
   "metadata": {
    "deletable": false,
    "nbgrader": {
     "cell_type": "markdown",
     "checksum": "03e8139390f20a09acde20971689aee2",
     "grade": true,
     "grade_id": "cell-cdc5d304cb874a8b",
     "locked": false,
     "points": 2,
     "schema_version": 3,
     "solution": true,
     "task": false
    }
   },
   "source": [
    "Um \"r\" muito grande seria vantajoso para encontrar um intervalo com poucas iterações, mas o tamanho do intervalo formado será grande também o que aumentaria o número de iterações necessárias para encontrar a raiz no intervalo. Por outro lado, um \"r\" pequeno vai necessitar de muitas iterações para encontrar um intervalo que contenha uma raiz, mas, uma vez encontrado, este intervalo provavelmente será menor e vai necessitar de menos iterações para enconrtar a raiz.\n",
    "\n",
    "Para calibrar esse \"r\", pensando nesse trade off. Propomos uma solução algorítmica que leva em consideração o pior caso. No pior caso, o intevalo com a raiz será encotrado na última iteração da PG e, portanto, vamos obter o maior intervalo possível para um dado \"r\". Além disso, o número de bisseções realizado para encontrar a raiz é o maior possível. \n",
    "\n",
    "Essa solução algorítmica tem como objetivo encontrar o menor número total de iterações que é definido pela soma entre o número de bisseções para encontrar o intervalo e o número de bisseções para encontrar a raiz no intervalo. É importante observar que a melhor solução neste caso não é necessáriamente a solução em que esses dois números são muito próximos. \n",
    "\n",
    "Para o código abaixo vamos testar valores inteiros para \"r\" pertencentes a uma PG de razão 2. Claro que escolhas diferentes \"r\" poderiam trazer resultados diferente e até melhores, mas o código abaixo é meramente ilustrativo para o método, trazendo uma estimativa do que seria uma escolha boa para o \"r\" de acordo com os critérios definidos.\n",
    "\n",
    "Os resultados do código abaixo indicam que r = 4294967296 é a melhor solução.\n"
   ]
  },
  {
   "cell_type": "code",
   "execution_count": 101,
   "id": "13dece3e",
   "metadata": {
    "deletable": false,
    "nbgrader": {
     "cell_type": "code",
     "checksum": "d143ee78114b1b3fede985632b26a402",
     "grade": true,
     "grade_id": "cell-7b2b2ed147be726b",
     "locked": false,
     "points": 2,
     "schema_version": 3,
     "solution": true,
     "task": false
    }
   },
   "outputs": [
    {
     "name": "stdout",
     "output_type": "stream",
     "text": [
      "deu certo\n"
     ]
    },
    {
     "data": {
      "text/plain": [
       "{'total': 116,\n",
       " 'r': 4294967296,\n",
       " 'comprimento_da_pg': 31,\n",
       " 'numero_bissecoes': 85}"
      ]
     },
     "execution_count": 101,
     "metadata": {},
     "output_type": "execute_result"
    }
   ],
   "source": [
    "def calibracao_r(a):\n",
    "    best_comp_pg = -1,\n",
    "    best_num_bissec = -1,\n",
    "    r = 2\n",
    "    best_total_iterations = -1\n",
    "    best_r = 2\n",
    "    while True:\n",
    "        r  *= 2\n",
    "        try:\n",
    "            com = comprimento_pg(a, r)\n",
    "            bissec = bissect_max(r**(com - 1), r**(com))\n",
    "            if best_total_iterations == -1 or best_total_iterations > com + bissec:\n",
    "                best_total_iterations =  com + bissec\n",
    "                best_comp_pg = com\n",
    "                best_num_bissec = bissec\n",
    "                best_r = r\n",
    "\n",
    "        except OverflowError:\n",
    "            print(\"deu certo\")\n",
    "            return {\n",
    "                \"total\": best_total_iterations,\n",
    "                \"r\": best_r,\n",
    "                \"comprimento_da_pg\": best_comp_pg,\n",
    "                \"numero_bissecoes\": best_num_bissec\n",
    "            }\n",
    "\n",
    "\n",
    "calibracao_r(1)"
   ]
  },
  {
   "cell_type": "markdown",
   "id": "611d6f85",
   "metadata": {},
   "source": [
    "## Questão 1.4: \"Fase 0\"\n",
    "\n",
    "Agora, implemente uma função que encontra um intervalo onde há uma raiz de $f(x) = y$,\n",
    "sabendo que há uma raiz no intervalo $[1, +\\infty)$."
   ]
  },
  {
   "cell_type": "code",
   "execution_count": 102,
   "id": "08a18dbb",
   "metadata": {
    "deletable": false,
    "nbgrader": {
     "cell_type": "code",
     "checksum": "d772dced7dd99981afdb6922bbf9db98",
     "grade": false,
     "grade_id": "cell-041d37d1e07388cd",
     "locked": false,
     "schema_version": 3,
     "solution": true,
     "task": false
    }
   },
   "outputs": [],
   "source": [
    "def fase0(f, y):\n",
    "    \"\"\"Retorna um intervalo onde há uma raiz de  f(x) = y.\"\"\"\n",
    "    a = 1\n",
    "    r = 2\n",
    "    pg = a\n",
    "    while float(\"inf\") != pg:\n",
    "        a = pg\n",
    "        pg *= r\n",
    "        if (f(a) - y)*(f(pg) - y) < 0:\n",
    "            return (a, pg)"
   ]
  },
  {
   "cell_type": "code",
   "execution_count": 103,
   "id": "70ede40e",
   "metadata": {
    "deletable": false,
    "editable": false,
    "nbgrader": {
     "cell_type": "code",
     "checksum": "7892487dfc11b480e48663da6e96856b",
     "grade": true,
     "grade_id": "cell-e4cdf4206efc804f",
     "locked": true,
     "points": 1,
     "schema_version": 3,
     "solution": false,
     "task": false
    }
   },
   "outputs": [],
   "source": [
    "def sqr(x):\n",
    "    return x**2\n",
    "\n",
    "a, b = fase0(sqr, 10)\n",
    "assert sqr(a) <= 10 <= sqr(b) or sqr(b) <= 10 <= sqr(a)"
   ]
  },
  {
   "cell_type": "code",
   "execution_count": 104,
   "id": "697dcb98",
   "metadata": {
    "deletable": false,
    "editable": false,
    "nbgrader": {
     "cell_type": "code",
     "checksum": "78f2f14e60f0c2f96368460cf644624e",
     "grade": true,
     "grade_id": "cell-5fde738ed830b7bf",
     "locked": true,
     "points": 1,
     "schema_version": 3,
     "solution": false,
     "task": false
    }
   },
   "outputs": [],
   "source": [
    "def slow_pot(x):\n",
    "    return x**0.1\n",
    "\n",
    "a, b = fase0(slow_pot, 10)\n",
    "assert slow_pot(a) <= 10 <= slow_pot(b) or slow_pot(b) <= 10 <= slow_pot(a)"
   ]
  },
  {
   "cell_type": "code",
   "execution_count": 105,
   "id": "d6af1ba9",
   "metadata": {
    "deletable": false,
    "editable": false,
    "nbgrader": {
     "cell_type": "code",
     "checksum": "ae2b6953cb17dacbb30b7025c66c86f5",
     "grade": true,
     "grade_id": "cell-31d91f4937ad3e8a",
     "locked": true,
     "points": 1,
     "schema_version": 3,
     "solution": false,
     "task": false
    }
   },
   "outputs": [],
   "source": [
    "def cauchy(x):\n",
    "    return 1/(1 + x**2)\n",
    "\n",
    "a, b = fase0(cauchy, 1e-10)\n",
    "assert cauchy(a) <= 1e-10 <= cauchy(b) or cauchy(b) <= 1e-10 <= cauchy(a)"
   ]
  },
  {
   "cell_type": "markdown",
   "id": "2a63e8f3",
   "metadata": {},
   "source": [
    "Agora, modifique a `fase0` para receber valores de $a$ e $r$ quaisquer.\n",
    "Isso permitirá começar a busca tanto para valores positivos como negativos,\n",
    "e também \"no infinito\" ou \"perto de zero\"."
   ]
  },
  {
   "cell_type": "code",
   "execution_count": 106,
   "id": "cddc17f5",
   "metadata": {
    "deletable": false,
    "nbgrader": {
     "cell_type": "code",
     "checksum": "4a745c21a73947c00274be627e96afbd",
     "grade": false,
     "grade_id": "cell-58025fe0b66b2396",
     "locked": false,
     "schema_version": 3,
     "solution": true,
     "task": false
    }
   },
   "outputs": [],
   "source": [
    "def fase0_geral(f, y, a, r):\n",
    "    \"\"\"Retorna um intervalo contendo uma raiz de  f(x) = y,  usando a PG de termo inicial  a  e razão  r.\"\"\"\n",
    "    assert a != 0\n",
    "    assert r > 0 and abs(r) != 1\n",
    "    pg = a\n",
    "    while float(\"inf\") != pg:\n",
    "        a = pg\n",
    "        pg *= r\n",
    "        if (f(a) - y)*(f(pg) - y) < 0:\n",
    "            return (a, pg)\n"
   ]
  },
  {
   "cell_type": "markdown",
   "id": "1bc4e86d",
   "metadata": {},
   "source": [
    "Explique os `assert`s iniciais."
   ]
  },
  {
   "cell_type": "markdown",
   "id": "5bf2c801",
   "metadata": {
    "deletable": false,
    "nbgrader": {
     "cell_type": "markdown",
     "checksum": "7186dcdbc7d1ca1e826d92dbd576db7b",
     "grade": true,
     "grade_id": "cell-5b71264c4743cbf5",
     "locked": false,
     "points": 2,
     "schema_version": 3,
     "solution": true,
     "task": false
    }
   },
   "source": [
    "Quando \"a\" = 0 e \"r\" = 1, a pg não vai ser desenvolvida já que, no primeiro caso, todos os termos da pg serão iguais a zero e, no segundo caso, todos os termos da pg serão iguais a \"a\". Essa não é a ideia código, precisamos que os termos da pg assumam valores distintos para testar a possibilidade de existência de uma raiz no intervalo. Além disso precisamos que a razão \"r\" seja positiva, se \"r\" vou negativo os termos da pg vão oscilar entre valores positivos e negativos. A ideia da função é ou buscar raízes no $-\\infty$ ou buscar raízes no $+\\infty$, com \"r\" negativo a pg cresce em direção ao -inf e ao +inf ao mesmo tempo. "
   ]
  },
  {
   "cell_type": "code",
   "execution_count": 107,
   "id": "b21ce1cd",
   "metadata": {
    "deletable": false,
    "editable": false,
    "nbgrader": {
     "cell_type": "code",
     "checksum": "193e4b69c8a2c793dac71d03138201ae",
     "grade": true,
     "grade_id": "cell-945fc3bf2f130ff1",
     "locked": true,
     "points": 1,
     "schema_version": 3,
     "solution": false,
     "task": false
    }
   },
   "outputs": [],
   "source": [
    "a, b = fase0_geral(sqr, 10, -1, 2)\n",
    "assert sqr(a) <= 10 <= sqr(b) or sqr(b) <= 10 <= sqr(a)"
   ]
  },
  {
   "cell_type": "code",
   "execution_count": 108,
   "id": "8f02af0e",
   "metadata": {
    "deletable": false,
    "editable": false,
    "nbgrader": {
     "cell_type": "code",
     "checksum": "025f211f32d02cc342ada5e6fabec61d",
     "grade": true,
     "grade_id": "cell-287e669d1e97c5a5",
     "locked": true,
     "points": 1,
     "schema_version": 3,
     "solution": false,
     "task": false
    }
   },
   "outputs": [],
   "source": [
    "def xlogx(x):\n",
    "    return x * np.log(x)\n",
    "\n",
    "a, b = fase0_geral(xlogx, -1e-20, 0.5, 0.1)\n",
    "assert xlogx(a) <= -1e-20 <= xlogx(b) or xlogx(b) <= -1e-20 <= xlogx(a)"
   ]
  },
  {
   "cell_type": "markdown",
   "id": "5773beda",
   "metadata": {},
   "source": [
    "## Questão 1.5: Bisseção final\n",
    "\n",
    "Modifique o código da Bisseção para encontrar a raiz de $f(x) = y$, até a precisão do computador,\n",
    "a partir dos termos de uma PG.\n",
    "\n",
    "Retorne, também, o número de pontos onde você terá avaliado $f$ - isso vai necessitar alterar a função de fase 0."
   ]
  },
  {
   "cell_type": "code",
   "execution_count": 109,
   "id": "dd4248ee",
   "metadata": {
    "deletable": false,
    "nbgrader": {
     "cell_type": "code",
     "checksum": "450f91c6142fe10f15c0d2e549bdd3d5",
     "grade": false,
     "grade_id": "cell-a1349ad9bf427a3c",
     "locked": false,
     "schema_version": 3,
     "solution": true,
     "task": false
    }
   },
   "outputs": [],
   "source": [
    "def fase0_geral(f, y, a, r):\n",
    "    \"\"\"Retorna um intervalo contendo uma raiz de  f(x) = y,  usando a PG de termo inicial  a  e razão  r.\"\"\"\n",
    "    assert a != 0\n",
    "    assert r > 0 and abs(r) != 1\n",
    "    pg = a\n",
    "    sinal_a = f(a) - y\n",
    "    numF = 1\n",
    "    while float(\"inf\") != pg:\n",
    "        a = pg\n",
    "        pg *= r\n",
    "        numF += 1\n",
    "        if sinal_a*(f(pg) - y) < 0:\n",
    "            return (a, pg, numF)\n",
    "    \n",
    "def bisseção_PG(f, y, a, r):\n",
    "    \"\"\"Solução até a precisão da máquina para  f(x) = y.\"\"\"\n",
    "    a, b, numF = fase0_geral(f, y, a, r)\n",
    "\n",
    "    maxiter = bissect_max(a, b)\n",
    "    numiter = 0\n",
    "    fb = f(b) - y\n",
    "    numF += 1\n",
    "    while True:\n",
    "        media  = (a + b)/2\n",
    "        fmedia = f(media) - y\n",
    "        numF += 1\n",
    "        prod = fb * fmedia\n",
    "        numiter += 1\n",
    "        if maxiter == numiter:\n",
    "            return (media, numF)\n",
    "        elif prod > 0:\n",
    "            b = media\n",
    "            fb = fmedia\n",
    "        elif prod < 0:\n",
    "            a = media"
   ]
  },
  {
   "cell_type": "code",
   "execution_count": 110,
   "id": "4dffddf1",
   "metadata": {
    "deletable": false,
    "editable": false,
    "nbgrader": {
     "cell_type": "code",
     "checksum": "b49df4251555160d37f70c9689e4eac0",
     "grade": true,
     "grade_id": "cell-a47d44faa3f14dd6",
     "locked": true,
     "points": 2,
     "schema_version": 3,
     "solution": false,
     "task": false
    }
   },
   "outputs": [],
   "source": [
    "r, nevals = bisseção_PG(sqr, 1000, 1, 2)\n",
    "assert abs(sqr(r) - 1000) < 1e-13\n",
    "assert 50 <= nevals <= 100"
   ]
  },
  {
   "cell_type": "code",
   "execution_count": 111,
   "id": "73d68946",
   "metadata": {
    "deletable": false,
    "editable": false,
    "nbgrader": {
     "cell_type": "code",
     "checksum": "4c3c25a59ca460c748fabca1db7fc5aa",
     "grade": true,
     "grade_id": "cell-c473465dda9ff5e7",
     "locked": true,
     "points": 1,
     "schema_version": 3,
     "solution": false,
     "task": false
    }
   },
   "outputs": [],
   "source": [
    "r, nevals = bisseção_PG(xlogx, 1000, 1, 3)\n",
    "assert abs(xlogx(r) - 1000) < 1e-3\n",
    "assert 50 <= nevals <= 100"
   ]
  },
  {
   "cell_type": "code",
   "execution_count": 134,
   "id": "2e491da8",
   "metadata": {
    "deletable": false,
    "editable": false,
    "nbgrader": {
     "cell_type": "code",
     "checksum": "86ebceea9c789056ce2e570546957def",
     "grade": true,
     "grade_id": "cell-913e3c644f4f2ae3",
     "locked": true,
     "points": 1,
     "schema_version": 3,
     "solution": false,
     "task": false
    }
   },
   "outputs": [],
   "source": [
    "def xex(x):\n",
    "    return x * np.exp(x)\n",
    "\n",
    "r, nevals = bisseção_PG(xex, -1e-30, -1, 10)\n",
    "assert abs(xex(r) + 1e-30) < 1e-40\n",
    "assert 50 <= nevals <= 70"
   ]
  },
  {
   "cell_type": "code",
   "execution_count": 113,
   "id": "0f97f47a",
   "metadata": {
    "deletable": false,
    "editable": false,
    "nbgrader": {
     "cell_type": "code",
     "checksum": "2f90208a0f40026b37a26438df743943",
     "grade": true,
     "grade_id": "cell-b1631c7326b9eb7a",
     "locked": true,
     "points": 1,
     "schema_version": 3,
     "solution": false,
     "task": false
    }
   },
   "outputs": [],
   "source": [
    "r, nevals = bisseção_PG(xlogx, -1e-20, 0.5, 0.1)\n",
    "assert abs(xlogx(r) + 1e-20) < 1e-30\n",
    "assert 50 <= nevals <= 100"
   ]
  },
  {
   "cell_type": "markdown",
   "id": "f2679164",
   "metadata": {},
   "source": [
    "Porque a tolerância dos últimos testes é tão pequena?"
   ]
  },
  {
   "cell_type": "markdown",
   "id": "0837f505",
   "metadata": {
    "deletable": false,
    "nbgrader": {
     "cell_type": "markdown",
     "checksum": "8ba806297f9c5eed9be2c37ab37b97c4",
     "grade": true,
     "grade_id": "cell-45e0e0366ba0a5de",
     "locked": false,
     "points": 1,
     "schema_version": 3,
     "solution": true,
     "task": false
    }
   },
   "source": [
    "Isso é feito porque nos dois últimos casos a raiz também é muito pequena. Sem os valores de y colocados, a raiz de ambas as funções seria zero. Entretanto, há um valor de y muito pequeno que transalada a raiz para a esquerda. A resposta, portanto, precisa ser precisa o suficiente para reconhecer essa translação e, para isso, a tolerância deve ser menor que o y utilizado. Em ambos os asserts a tolerância é $10^{10}$ vezes o valor de y; o que permite que o resultado atinja a precisão desejada."
   ]
  },
  {
   "cell_type": "markdown",
   "id": "40a5f67a",
   "metadata": {},
   "source": [
    "## Questão 1.6: Generalizando ainda mais\n",
    "\n",
    "Como você adaptaria a busca de um intervalo para encontrar uma raiz de $f(x) = y$ para funções que não são monótonas?\n",
    "\n",
    "Algumas ideias para pensar:\n",
    "\n",
    "- $x \\cos(x)$\n",
    "- $x + \\sin(x)$"
   ]
  },
  {
   "cell_type": "markdown",
   "id": "60923baa",
   "metadata": {
    "deletable": false,
    "nbgrader": {
     "cell_type": "markdown",
     "checksum": "50701947db0d7b1cb1c51c75a0690bd5",
     "grade": true,
     "grade_id": "cell-fdacb4aa36b4346c",
     "locked": false,
     "points": 2,
     "schema_version": 3,
     "solution": true,
     "task": false
    }
   },
   "source": [
    "Uma ideia inteligente é achar o mínimo ou o máximo dessas funções, que ocorre quando a derivada delas é igual a zero, e começar a busca pelo intervalo a partir desse ponto. Se a derivada da função for monótona, podemos usar o método já implementado para encontrar as raízes da derivada. Essa ideia faz muito sentido para polinômios. A função $f(x) = x^2 + x$, por exemplo, não é monótona, mas sua derivada $f'(x) = 2x + 1$ é. Podemos facilmente encontrar uma raiz dessa derivada que será o ponto de mínimo da função $f$.\n",
    "\n",
    "Apesar de ser uma ideia boa, não funciona bem para funções trigonométricas já que as derivadas das funções trigonométricas não são monótonas. Elas possuem, porém, uma propriedade importante que pode ser utilizada: as funções seno e cosseno estão sempre entre 1 e -1. Podemos, então, avaliá-las nesses pontos extremos para verificar a troca de sinal. \n",
    "\n",
    "Na função $xcos(x)$, por exemplo, $cos(x) = 1 \\therefore x = 2 \\pi k$ x e $cos(x) = -1 \\therefore x = \\pi k$ com k natural. Já encontramos um intervalo de troca de sinal: $[\\pi, 2 \\pi]$. \n",
    "\n",
    "Na função  $x + \\sin(x)$, podemos utilizar o mesmo raciocínio, ou seja, encontrar os valores de x que levam $\\sin(x)$ a um de seus extremos e aplicar esse valor na função para verificar se há troca de sinal."
   ]
  },
  {
   "cell_type": "markdown",
   "id": "e42fee2f",
   "metadata": {},
   "source": [
    "# Questão 2: O Método da Secante\n",
    "\n",
    "Uma variante do método de Newton, que dispensa o uso da derivada,\n",
    "é o método da secante.\n",
    "\n",
    "A ideia é simples: em vez de usar a tangente, dada pela derivada $f'(x)$,\n",
    "o método da secante usa 2 pontos consecutivos $x_0$ e $x_1$ para calcular uma **secante** ao gráfico de $f$,\n",
    "e com isto determinar uma interseção desta reta com o eixo dos $x$.\n",
    "Esta interseção é chamada de $x_2$, e o método prossegue construindo $x_3$ a partir de $x_1$ e $x_2$\n",
    "e assim por diante."
   ]
  },
  {
   "cell_type": "markdown",
   "id": "0bd926ca",
   "metadata": {},
   "source": [
    "## Questão 2.1: Equações\n",
    "\n",
    "Dê a equação da reta secante a $f$, passando pelos pontos $x_0$ e $x_1$."
   ]
  },
  {
   "cell_type": "markdown",
   "id": "6d8bb7e2",
   "metadata": {
    "deletable": false,
    "nbgrader": {
     "cell_type": "markdown",
     "checksum": "4d579764b004be4216e10efc133b13f2",
     "grade": true,
     "grade_id": "cell-1eedd3eb4d36b88f",
     "locked": false,
     "points": 2,
     "schema_version": 3,
     "solution": true,
     "task": false
    }
   },
   "source": [
    "#### Primeiramente precisamos encontrar o coeficiente angular da nossa função, para isso, usaremos alguns exemplos gráficos."
   ]
  },
  {
   "cell_type": "code",
   "execution_count": 114,
   "id": "3debc556",
   "metadata": {
    "scrolled": false
   },
   "outputs": [
    {
     "data": {
      "image/png": "[encoded data removed]",
      "text/plain": [
       "<Figure size 432x288 with 1 Axes>"
      ]
     },
     "metadata": {
      "needs_background": "light"
     },
     "output_type": "display_data"
    }
   ],
   "source": [
    "x = np.linspace(0,10,100)\n",
    "\n",
    "xs = [8,6]\n",
    "    \n",
    "ax = plt.gca()\n",
    "ax.set(xlabel='Eixo X', ylabel='Eixo Y',\n",
    "       title='Função Secante')\n",
    "plt.plot(x,x**2) # Função f(x)\n",
    "\n",
    "\n",
    "plt.plot(xs[0],0, ls=\"\", marker=\"o\", label=\"x0\") # Pontos x0\n",
    "plt.plot(xs[1],0, ls=\"\", marker=\"o\", label=\"x1\") # Pontos x1 \n",
    "\n",
    "plt.plot(xs[0],xs[0]**2, ls=\"\", marker=\"o\", label=\"f(x0)\") # f(x0)\n",
    "plt.plot(xs[1],xs[1]**2, ls=\"\", marker=\"o\", label=\"f(x1)\") # f(x1)\n",
    "\n",
    "plt.plot([xs[0],xs[0]],[xs[0]**2, xs[1]**2], label=\"Cateto Oposto\") # Cateto Oposto\n",
    "plt.plot([xs[0],xs[1]],[xs[1]**2, xs[1]**2], label=\"Cateto Adjacente\") # Cateto Adjacente\n",
    "\n",
    "plt.plot(x,14*x -48) # Função Secante\n",
    "\n",
    "plt.margins(x=-0.15, y=-0.2) # Zoom no gráfico\n",
    "\n",
    "plt.legend()\n",
    "plt.grid()\n",
    "\n",
    "\n",
    "\n",
    "plt.show()"
   ]
  },
  {
   "cell_type": "markdown",
   "id": "c71c4ffd",
   "metadata": {},
   "source": [
    "#### Tendo esses 4 pontos, queremos encontrar a tangente da reta que passa pelos pontos f(x0) e f(x1)\n",
    "\n",
    "##### Para isso, podemos calcular a tangente usando a trigonometria, pois sabemos que com um triângulo retângulo: \n",
    "##### tg(x) = (CatetoOposto)/(CatetoAdjacente)\n",
    "##### Sabendo que CatetoOposto = f(x0) - f(x1) e CatetoAdjacente = x0 - x1, podemos perceber que a tg(x) = (f(x0) - f(x1))/(x0 - x1)\n",
    "##### Agora só precisamos achar o coeficiente linear, utilizando a função afim (y = ax + b) e substituindo os valores que temos encontraremos b:\n",
    " - y = f(x0); \n",
    " - x = x0; \n",
    " - a = (f(x0) - f(x1))/(x0 - x1);\n",
    " \n",
    "##### f(x0) =  ((f(x0) - f(x1))/(x0 - x1)) * x0 + b\n",
    "##### b = f(x0) - ((f(x0) - f(x1))/(x0 - x1)) * x0\n",
    "##### E a equação final fica:\n",
    "- y = ((f(x0) - f(x1))/(x0 - x1)) * x +  f(x0) - ((f(x0) - f(x1))/(x0 - x1)) * x0\n",
    "- y = ((f(x0) - f(x1))/(x0 - x1)) * (x - x0) + f(x0)"
   ]
  },
  {
   "cell_type": "markdown",
   "id": "8b4f4fea",
   "metadata": {},
   "source": [
    "Deduza a equação do \"passo da secante\", que a partir $x_0$ e $x_1$ calcula a raiz da secante ao gráfico de $f$."
   ]
  },
  {
   "cell_type": "markdown",
   "id": "13627d37",
   "metadata": {},
   "source": [
    "##### Podemos determinar o \"passo da secante\" de forma análoga ao método de newton:"
   ]
  },
  {
   "cell_type": "code",
   "execution_count": 115,
   "id": "51121e1e",
   "metadata": {
    "deletable": false,
    "nbgrader": {
     "cell_type": "markdown",
     "checksum": "17ce2d83adc3369aa6ca03570dd844c3",
     "grade": true,
     "grade_id": "cell-89fe6d21bb0d4154",
     "locked": false,
     "points": 1,
     "schema_version": 3,
     "solution": true,
     "task": false
    },
    "scrolled": true
   },
   "outputs": [
    {
     "data": {
      "image/png": "[encoded data removed]",
      "text/plain": [
       "<Figure size 432x288 with 1 Axes>"
      ]
     },
     "metadata": {
      "needs_background": "light"
     },
     "output_type": "display_data"
    }
   ],
   "source": [
    "x = np.linspace(0,10,100)\n",
    "\n",
    "xs = [8,6]\n",
    "    \n",
    "ax = plt.gca()\n",
    "ax.set(xlabel='Eixo X', ylabel='Eixo Y',\n",
    "       title='Função Secante')\n",
    "\n",
    "plt.plot(x,x**2) # Função f(x)\n",
    "\n",
    "\n",
    "plt.plot(xs[0],0, ls=\"\", marker=\"o\", label=\"x0\") # Ponto x0\n",
    "plt.plot(xs[1],0, ls=\"\", marker=\"o\", label=\"x1\") # Ponto x1\n",
    "plt.plot(3.4,0, ls=\"\", marker=\"o\", label=\"x2\") # Ponto x2 \n",
    "\n",
    "plt.plot(xs[0],xs[0]**2, ls=\"\", marker=\"o\", label=\"f(x0)\") # f(x0)\n",
    "plt.plot(xs[1],xs[1]**2, ls=\"\", marker=\"o\", label=\"f(x1)\") # f(x1)\n",
    "\n",
    "plt.plot([xs[1],xs[1]],[xs[1]**2, 0], label=\"Cateto Oposto\") # Cateto Oposto\n",
    "plt.plot([3.4,xs[1]],[0,0], label=\"Cateto Adjacente\") # Cateto Adjacente\n",
    "\n",
    "plt.plot(x,14*x -48, c='blacK') # Função Secante\n",
    "\n",
    "plt.margins(x=-0.15, y=-0.2) # Zoom no gráfico\n",
    "\n",
    "plt.legend()\n",
    "plt.grid()\n",
    "\n",
    "\n",
    "\n",
    "plt.show()"
   ]
  },
  {
   "cell_type": "markdown",
   "id": "f6fea626",
   "metadata": {},
   "source": [
    "##### Como podemos perceber no gráfico, é claro que a distância de \"x2\" é equivalente a x1 - CatetoAdjacente\n",
    "##### Então sabendo o valor do CatetoAdjacente, conseguiremos descobrir x2, e assim generalizar o passo:\n",
    "\n",
    "- CatetoAdjacente = CatetoOposto/tg\n",
    "- CatetoAdjacente = f(x1)/((f(x0) - f(x1))/(x0 - x1))\n",
    "\n",
    "##### Logo x2 = x1 - f(x1)/((f(x0) - f(x1))/(x0 - x1))\n",
    "##### E generalizando o passo, temos que:\n",
    "- $x_{n+1}$ = $x_{n}$ - f($x_{n}$)/((f($x_{n-1}$) - f($x_{n}$))/($x_{n-1}$ - $x_{n}$))\n"
   ]
  },
  {
   "cell_type": "markdown",
   "id": "fde98416",
   "metadata": {},
   "source": [
    "O método da secante é inspirado no método de Newton.\n",
    "Explique porque ele também pode entrar em _loop_ infinito."
   ]
  },
  {
   "cell_type": "markdown",
   "id": "718e61c1",
   "metadata": {
    "deletable": false,
    "nbgrader": {
     "cell_type": "markdown",
     "checksum": "a69c486567ff0ed4298e5e42e893b20e",
     "grade": true,
     "grade_id": "cell-8553d8123bdac585",
     "locked": false,
     "points": 2,
     "schema_version": 3,
     "solution": true,
     "task": false
    }
   },
   "source": [
    "Pelo mesmo motivo do método de Newton, se escolhermos dois \"xs\" ruins, podemos acabar com a raiz de nossa reta secante muito longe da nossa verdadeira raiz, e assim o método nunca irá convergir. Por isso, temos que buscar escolher \"xs\", pertos um do outro, e suficientemente pertos da raiz verdadeira."
   ]
  },
  {
   "cell_type": "markdown",
   "id": "11fbb687",
   "metadata": {},
   "source": [
    "## Questão 2.2: Implementação\n",
    "\n",
    "Escreva o método da secante para encontrar uma raiz de $f$.\n",
    "\n",
    "Retorne todos os pontos visitados pelo método."
   ]
  },
  {
   "cell_type": "code",
   "execution_count": 116,
   "id": "b664f04d",
   "metadata": {
    "deletable": false,
    "nbgrader": {
     "cell_type": "code",
     "checksum": "be605f1aff4c09290a66fffec94dcaf9",
     "grade": false,
     "grade_id": "cell-c0fbfc192b4aedfb",
     "locked": false,
     "schema_version": 3,
     "solution": true,
     "task": false
    }
   },
   "outputs": [],
   "source": [
    "def secante(f, x0, x1, xtol=1e-8, ytol=1e-8, maxiter=100):\n",
    "    \"\"\"Encontra uma raiz de  f,  começando pelos pontos  x0 e x1,  pelo método da secante.\"\"\"\n",
    "    \n",
    "    pontos = []\n",
    "    pontos.append(x0)\n",
    "    pontos.append(x1)\n",
    "    for _ in range(maxiter):\n",
    "        x2 = x1 - f(x1)/((f(x0) - f(x1))/(x0 - x1))\n",
    "        pontos.append(x2)\n",
    "        if abs(x2-x1) <= xtol and abs(f(x2)) < ytol:\n",
    "            pontos.append(x2)\n",
    "            return pontos\n",
    "        x0 = x1\n",
    "        x1 = x2\n",
    "    return pontos"
   ]
  },
  {
   "cell_type": "code",
   "execution_count": 117,
   "id": "8ae0b405",
   "metadata": {
    "deletable": false,
    "editable": false,
    "nbgrader": {
     "cell_type": "code",
     "checksum": "b1d2e96ecf150b8b27df4afec816ab7e",
     "grade": true,
     "grade_id": "cell-b2d65d0ef437e218",
     "locked": true,
     "points": 2,
     "schema_version": 3,
     "solution": false,
     "task": false
    }
   },
   "outputs": [],
   "source": [
    "def f2(x):\n",
    "    return x**2 - 2\n",
    "\n",
    "pts = secante(f2, 0, 1)\n",
    "assert 5 <= len(pts) <= 10\n",
    "assert abs(f2(pts[-1])) <= 1e-5"
   ]
  },
  {
   "cell_type": "code",
   "execution_count": 118,
   "id": "ea7f878d",
   "metadata": {
    "deletable": false,
    "editable": false,
    "nbgrader": {
     "cell_type": "code",
     "checksum": "f8f1a905a8d07acedd052986f4b5858f",
     "grade": true,
     "grade_id": "cell-10e8cfbc06341a84",
     "locked": true,
     "points": 2,
     "schema_version": 3,
     "solution": false,
     "task": false
    }
   },
   "outputs": [],
   "source": [
    "def f3(x):\n",
    "    return x**3 - 3\n",
    "\n",
    "pts = secante(f3, 0, 1)\n",
    "\n",
    "assert 8 <= len(pts) <= 12\n",
    "assert abs(f3(pts[-1])) <= 1e-5"
   ]
  },
  {
   "cell_type": "markdown",
   "id": "1dc3e616",
   "metadata": {},
   "source": [
    "## Questão 2.3: Gráficos\n",
    "\n",
    "Faça o gráfico da distância (em valor absoluto)\n",
    "entre os pontos produzidos pelo método da secante e a raiz verdadeira,\n",
    "para as funções $f2$ e $f3$ acima."
   ]
  },
  {
   "cell_type": "code",
   "execution_count": 119,
   "id": "0f28feb7",
   "metadata": {
    "deletable": false,
    "nbgrader": {
     "cell_type": "code",
     "checksum": "368aefb75984d95aa191bbde70a3dbda",
     "grade": true,
     "grade_id": "cell-1a8126f735c32bfe",
     "locked": false,
     "points": 2,
     "schema_version": 3,
     "solution": true,
     "task": false
    }
   },
   "outputs": [
    {
     "data": {
      "image/png": "[encoded data removed]",
      "text/plain": [
       "<Figure size 432x288 with 1 Axes>"
      ]
     },
     "metadata": {
      "needs_background": "light"
     },
     "output_type": "display_data"
    }
   ],
   "source": [
    "pts_f2 = np.array(secante(f2, 0, 1))\n",
    "pts_f3 = np.array(secante(f3, 0, 1))\n",
    "\n",
    "\n",
    "    \n",
    "ax = plt.gca()\n",
    "ax.set(xlabel='Iterações', ylabel='Distância',\n",
    "       title='Distância entre o ponto e a raiz')\n",
    "\n",
    "plt.plot(np.arange(1,len(pts_f2) + 1),abs(pts_f2 - np.sqrt(2)), label = 'F2')\n",
    "plt.plot(np.arange(1,len(pts_f3) + 1),abs(pts_f3 - np.cbrt(3)), label = 'F3')\n",
    "ax.legend()\n",
    "plt.grid()\n",
    "\n",
    "\n",
    "\n",
    "plt.show()"
   ]
  },
  {
   "cell_type": "code",
   "execution_count": 120,
   "id": "07500378",
   "metadata": {
    "deletable": false,
    "editable": false,
    "nbgrader": {
     "cell_type": "code",
     "checksum": "ec4c604f06e1cb761ad5f495df6ee58b",
     "grade": true,
     "grade_id": "cell-282f1138902672b7",
     "locked": true,
     "points": 2,
     "schema_version": 3,
     "solution": false,
     "task": false
    }
   },
   "outputs": [],
   "source": [
    "assert len(ax.lines) == 2\n",
    "assert len(ax.get_legend().texts) == 2"
   ]
  },
  {
   "cell_type": "markdown",
   "id": "b0711bad",
   "metadata": {},
   "source": [
    "De que forma(s) este gráfico parece com o equivalente para o Método de Newton?"
   ]
  },
  {
   "cell_type": "markdown",
   "id": "c61640e5",
   "metadata": {
    "deletable": false,
    "nbgrader": {
     "cell_type": "markdown",
     "checksum": "ffe721127faf25d32f300ee6b9fb271a",
     "grade": true,
     "grade_id": "cell-ee7f5cb912169859",
     "locked": false,
     "points": 2,
     "schema_version": 3,
     "solution": true,
     "task": false
    }
   },
   "source": [
    "É possível perceber que conforme aumentamos o número de iterações, o erro entre os pontos encontrados e a verdadeira raiz diminui. O mesmo ocorre para o Método de Newton.\n",
    "\n",
    "E assim como o método de Newton, o ponto inicial é relevante para nossa análise. Pela raiz de F3 estar mais longe dos pontos iniciais, ela demorou mais para convergir que F2."
   ]
  },
  {
   "cell_type": "markdown",
   "id": "303498e6",
   "metadata": {},
   "source": [
    "## Questão 2.4: Generalização\n",
    "\n",
    "Agora, transforme o seu código para encontrar uma raiz de $f(x) = y$."
   ]
  },
  {
   "cell_type": "code",
   "execution_count": 121,
   "id": "b33c90ae",
   "metadata": {
    "deletable": false,
    "nbgrader": {
     "cell_type": "code",
     "checksum": "38f4b10e4422f38970931b9395bc86b9",
     "grade": false,
     "grade_id": "cell-37ecabe4fbd2ab4d",
     "locked": false,
     "schema_version": 3,
     "solution": true,
     "task": false
    }
   },
   "outputs": [],
   "source": [
    "def secante_inv(f, y, x0, x1, xtol=1e-8, ytol=1e-8, maxiter=100):\n",
    "    \"\"\"Encontra uma solução de  f(x) = y,  começando pelos pontos  x0 e x1,  pelo método da secante.\"\"\"\n",
    "    def fun(x):\n",
    "        return f(x) - y\n",
    "    \n",
    "    pontos = []\n",
    "    pontos.append(x0)\n",
    "    pontos.append(x1)\n",
    "    for _ in range(maxiter):\n",
    "        x2 = x1 - fun(x1)/((fun(x0) - fun(x1))/(x0 - x1))\n",
    "        pontos.append(x2)\n",
    "        if abs(x2-x1) <= xtol and abs(fun(x2)) < ytol:\n",
    "            pontos.append(x2)\n",
    "            return pontos\n",
    "        x0 = x1\n",
    "        x1 = x2\n",
    "    return pontos"
   ]
  },
  {
   "cell_type": "code",
   "execution_count": 122,
   "id": "61c413fd",
   "metadata": {
    "deletable": false,
    "editable": false,
    "nbgrader": {
     "cell_type": "code",
     "checksum": "a3797d32e7c37dcd8f6755113f204a46",
     "grade": true,
     "grade_id": "cell-2a826bf7700bb0c1",
     "locked": true,
     "points": 2,
     "schema_version": 3,
     "solution": false,
     "task": false
    }
   },
   "outputs": [],
   "source": [
    "pts = secante_inv(sqr, 2, 0, 1)\n",
    "pts_more = secante_inv(sqr, 2, 0, 1, xtol=1e-15, ytol=1e-15)\n",
    "\n",
    "assert len(pts) < len(pts_more)\n",
    "assert abs(pts[-1]**2 - 2) > abs(pts_more[-1]**2 - 2)"
   ]
  },
  {
   "cell_type": "markdown",
   "id": "94d8a895",
   "metadata": {},
   "source": [
    "Explique porque estes dois testes fazem sentido."
   ]
  },
  {
   "cell_type": "markdown",
   "id": "f54e7928",
   "metadata": {
    "deletable": false,
    "nbgrader": {
     "cell_type": "markdown",
     "checksum": "e7a2214b88ea6f45f0e17bec2b3abed1",
     "grade": true,
     "grade_id": "cell-d68950348b9d12ac",
     "locked": false,
     "points": 2,
     "schema_version": 3,
     "solution": true,
     "task": false
    }
   },
   "source": [
    "O primeiro teste faz sentido pois, na \"pts_more\" estamos utilizando os mesmos parâmetros que em \"pts\", menos em xtol e ytol, onde \"pts\" usa o padrão da função, e \"pts_more\" usa xtol e ytol escolhidos, que são menores que o padrão. Assim, precisaremos de mais iterações para garantir que o resultado esteja dentro desse intervalo menor.\n",
    "\n",
    "O segundo teste faz sentido pois, como estamos utilizando um intervalo maior em \"pts\" para xtol, estamos encontrando uma raiz menos precisa, e assim mais longe da raiz verdadeira, neste caso 2. Por isso temos que a distância entre \"pts\" e a raiz verdadeira é maior que a distância entre \"pts_raiz\" e a raiz verdadeira."
   ]
  },
  {
   "cell_type": "code",
   "execution_count": 123,
   "id": "4858a546",
   "metadata": {
    "deletable": false,
    "editable": false,
    "nbgrader": {
     "cell_type": "code",
     "checksum": "d0ffe03e3420e559d6ae80d07b652b9c",
     "grade": true,
     "grade_id": "cell-d46c38019a769e5c",
     "locked": true,
     "points": 1,
     "schema_version": 3,
     "solution": false,
     "task": false
    }
   },
   "outputs": [],
   "source": [
    "assert len(pts_more) == len(pts) + 1"
   ]
  },
  {
   "cell_type": "markdown",
   "id": "2baad518",
   "metadata": {},
   "source": [
    "Explique porque este teste mostra a velocidade do método da secante."
   ]
  },
  {
   "cell_type": "markdown",
   "id": "f11e204f",
   "metadata": {
    "deletable": false,
    "nbgrader": {
     "cell_type": "markdown",
     "checksum": "02463ec64d4184c21b4cc8b7bb8d92d9",
     "grade": true,
     "grade_id": "cell-d3d4b8bf63db3bdb",
     "locked": false,
     "points": 2,
     "schema_version": 3,
     "solution": true,
     "task": false
    }
   },
   "source": [
    "Percebemos com esse teste que mesmo reduzindo pela metade o valor de xtol e ytol, exigindo assim uma raiz bem mais precisa da fórmula, conseguimos encontrar uma raiz nesse intervalo com uma iteração a mais somente."
   ]
  },
  {
   "cell_type": "markdown",
   "id": "248389f5",
   "metadata": {},
   "source": [
    "## Questão 2.5: Mais gráficos!\n",
    "\n",
    "Para vários valores de $y$, faça em um mesmo eixo o gráfico da distância até a raiz\n",
    "para o método da secante resolver $x^2 = y$, começando de $(0, 1)$.\n",
    "\n",
    "Em particular, encontre valores de $y$ que façam que o método da secante demore (bem) mais do que para $y = 2$."
   ]
  },
  {
   "cell_type": "code",
   "execution_count": 124,
   "id": "1dc9c744",
   "metadata": {
    "deletable": false,
    "nbgrader": {
     "cell_type": "code",
     "checksum": "94306e8436d2551db582a6e2cde572a1",
     "grade": true,
     "grade_id": "cell-a638b886004599a3",
     "locked": false,
     "points": 2,
     "schema_version": 3,
     "solution": true,
     "task": false
    },
    "scrolled": false
   },
   "outputs": [
    {
     "data": {
      "image/png": "[encoded data removed]",
      "text/plain": [
       "<Figure size 432x288 with 1 Axes>"
      ]
     },
     "metadata": {
      "needs_background": "light"
     },
     "output_type": "display_data"
    }
   ],
   "source": [
    "for y in np.linspace(2,1e5,6):\n",
    "    pts = np.array(secante_inv(sqr, y, 0, 1))\n",
    "    plt.plot(np.arange(1,len(pts) + 1),abs(pts - (np.sqrt(y)) ), label = \"Y = \" + str(y))\n",
    "\n",
    "\n",
    "\n",
    "    \n",
    "ax = plt.gca()\n",
    "ax.set(xlabel='Iterações', ylabel='Distância',\n",
    "       title='Distância entre o ponto e a raiz')\n",
    "\n",
    "\n",
    "ax.legend()\n",
    "plt.grid()\n",
    "\n",
    "\n",
    "\n",
    "plt.show()"
   ]
  },
  {
   "cell_type": "code",
   "execution_count": 125,
   "id": "1660ade2",
   "metadata": {
    "deletable": false,
    "editable": false,
    "nbgrader": {
     "cell_type": "code",
     "checksum": "fb38ce5382170ff93060c5d42a333bd3",
     "grade": true,
     "grade_id": "cell-a1a0f56083060410",
     "locked": true,
     "points": 1,
     "schema_version": 3,
     "solution": false,
     "task": false
    }
   },
   "outputs": [],
   "source": [
    "assert len(ax.lines) >= 5"
   ]
  },
  {
   "cell_type": "code",
   "execution_count": 126,
   "id": "803229ec",
   "metadata": {
    "deletable": false,
    "editable": false,
    "nbgrader": {
     "cell_type": "code",
     "checksum": "cacb8d0c2e403891bb689749b06b7088",
     "grade": true,
     "grade_id": "cell-4eab8247581ab2cd",
     "locked": true,
     "points": 1,
     "schema_version": 3,
     "solution": false,
     "task": false
    }
   },
   "outputs": [],
   "source": [
    "assert len(ax.get_legend().texts) >= 5"
   ]
  },
  {
   "cell_type": "code",
   "execution_count": 127,
   "id": "e56935f3",
   "metadata": {
    "deletable": false,
    "editable": false,
    "nbgrader": {
     "cell_type": "code",
     "checksum": "be0bd7c43554a921411a9e03513eab64",
     "grade": true,
     "grade_id": "cell-09546580c7794f3d",
     "locked": true,
     "points": 1,
     "schema_version": 3,
     "solution": false,
     "task": false
    }
   },
   "outputs": [],
   "source": [
    "xmax = max(max(l.get_xdata()) for l in ax.lines)\n",
    "assert xmax >= 18"
   ]
  },
  {
   "cell_type": "markdown",
   "id": "926122dd",
   "metadata": {},
   "source": [
    "Explique o comportamento que observado."
   ]
  },
  {
   "cell_type": "markdown",
   "id": "9b599cdd",
   "metadata": {
    "deletable": false,
    "nbgrader": {
     "cell_type": "markdown",
     "checksum": "1da52c2361f00426a3332a6d18e43bd6",
     "grade": true,
     "grade_id": "cell-07cedca930738508",
     "locked": false,
     "points": 2,
     "schema_version": 3,
     "solution": true,
     "task": false
    }
   },
   "source": [
    "É possível perceber 2 comportamentos claros:\n",
    "\n",
    "- Os padrões dos \"espinhos\" nos gráficos, com eles é possível perceber que com algumas quantidades de iterações específicas a função se perde por um instante e fica bem longe da raiz.\n",
    "\n",
    "- Quanto maior o y escolhido, mas iterações são precisas para conseguir fazer o algoritmo convergir."
   ]
  },
  {
   "cell_type": "markdown",
   "id": "86c80dd8",
   "metadata": {},
   "source": [
    "## Questão 2.6: Bugs finais\n",
    "\n",
    "Observe o código abaixo:"
   ]
  },
  {
   "cell_type": "code",
   "execution_count": 128,
   "id": "280cd3de",
   "metadata": {
    "deletable": false,
    "editable": false,
    "nbgrader": {
     "cell_type": "code",
     "checksum": "8c272caa101fb97eb0819471ef97746e",
     "grade": false,
     "grade_id": "cell-38d2ebb71c52ccf3",
     "locked": true,
     "schema_version": 3,
     "solution": false,
     "task": false
    },
    "scrolled": true
   },
   "outputs": [
    {
     "data": {
      "text/plain": [
       "[0,\n",
       " 1,\n",
       " 36.787944117144285,\n",
       " 1.000000000000007,\n",
       " 1.000000000000017,\n",
       " 18.100302022341182,\n",
       " 1.0000012661580193,\n",
       " 1.0000025323158366,\n",
       " 18.89392108740228,\n",
       " 1.0000031062853978,\n",
       " 1.0000036802549213,\n",
       " 18.89388095053892,\n",
       " 1.0000042542473793,\n",
       " 1.0000048282397986,\n",
       " 18.89385016440335,\n",
       " 1.0000054022498013,\n",
       " 1.000005976259766,\n",
       " 18.893819383387896,\n",
       " 1.00000655028731,\n",
       " 1.0000071243148176,\n",
       " 18.893788535145468,\n",
       " 1.0000076983599442,\n",
       " 1.0000082724050339,\n",
       " 18.893757759439914,\n",
       " 1.0000088464677042,\n",
       " 1.000009420530335,\n",
       " 18.89372685289377,\n",
       " 1.0000099946106182,\n",
       " 1.0000105686908654,\n",
       " 18.89369609477266,\n",
       " 1.0000111427886793,\n",
       " 1.0000117168864584,\n",
       " 18.893665234352174,\n",
       " 1.000012291001866,\n",
       " 1.0000128651172362,\n",
       " 18.893634424491523,\n",
       " 1.0000134392502034,\n",
       " 1.0000140133831363,\n",
       " 18.89360363386469,\n",
       " 1.0000145875336592,\n",
       " 1.0000151616841444,\n",
       " 18.89357283891506,\n",
       " 1.0000157358522195,\n",
       " 1.0000163100202597,\n",
       " 18.893542054454745,\n",
       " 1.0000168842058876,\n",
       " 1.0000174583914776,\n",
       " 18.893511187370322,\n",
       " 1.0000180325947063,\n",
       " 1.000018606797894,\n",
       " 18.89348035070103,\n",
       " 1.0000191810187005,\n",
       " 1.0000197552394687,\n",
       " 18.89344947196031,\n",
       " 1.0000203294778771,\n",
       " 1.0000209037162506,\n",
       " 18.893418711635757,\n",
       " 1.0000214779722008,\n",
       " 1.0000220522281125,\n",
       " 18.893387899988827,\n",
       " 1.0000226265016252,\n",
       " 1.0000232007751049,\n",
       " 18.89335704009766,\n",
       " 1.000023775066218,\n",
       " 1.0000243493572938,\n",
       " 18.893326246424238,\n",
       " 1.0000249236659613,\n",
       " 1.000025497974596,\n",
       " 18.89329535119657,\n",
       " 1.0000260723008836,\n",
       " 1.0000266466271357,\n",
       " 18.893264574150358,\n",
       " 1.0000272209709742,\n",
       " 1.0000277953147765,\n",
       " 18.893233738857422,\n",
       " 1.0000283696761976,\n",
       " 1.000028944037584,\n",
       " 18.89320290534084,\n",
       " 1.0000295184165893,\n",
       " 1.0000300927955594,\n",
       " 18.893172059986036,\n",
       " 1.00003066719216,\n",
       " 1.0000312415887211,\n",
       " 18.893141200616817,\n",
       " 1.0000318160029238,\n",
       " 1.0000323904170847,\n",
       " 18.89311036873611,\n",
       " 1.0000329648488702,\n",
       " 1.0000335392806154,\n",
       " 18.89307955012216,\n",
       " 1.0000341137299742,\n",
       " 1.0000346881792967,\n",
       " 18.89304875642781,\n",
       " 1.0000352626462181,\n",
       " 1.0000358371131042,\n",
       " 18.8930178615803,\n",
       " 1.0000364115976481,\n",
       " 1.0000369860821563,\n",
       " 18.89298700349729,\n",
       " 1.0000375605843033,\n",
       " 1.000038135086413,\n",
       " 18.89295623692616]"
      ]
     },
     "execution_count": 128,
     "metadata": {},
     "output_type": "execute_result"
    }
   ],
   "source": [
    "secante_inv(xex, 100, 0, 1)"
   ]
  },
  {
   "cell_type": "markdown",
   "id": "c18f74a0",
   "metadata": {},
   "source": [
    "Porquê o método da secante terminou longe demais de uma raiz?"
   ]
  },
  {
   "cell_type": "markdown",
   "id": "db399c18",
   "metadata": {
    "deletable": false,
    "nbgrader": {
     "cell_type": "markdown",
     "checksum": "3e0069179f465d15ade1df8a01d0d99a",
     "grade": true,
     "grade_id": "cell-220cfe43327adf0f",
     "locked": false,
     "points": 2,
     "schema_version": 3,
     "solution": true,
     "task": false
    }
   },
   "source": [
    "O método terminou longe pois ele caiu em um loop, ficando preso em um ciclo. E isso ocorreu por escolhermos um y grande, isso fez com que a raiz se afastasse dos 2 pontos iniciais. Fazendo a análise pra y menores, veremos que quanto maior Y, maior o número de pontos encontrados, e quando encontramos 102 (100 do maxiter + 2 pontos iniciais) pontos, sabemos que o algoritmo entrou em loop."
   ]
  },
  {
   "cell_type": "code",
   "execution_count": 129,
   "id": "a7bbeafb",
   "metadata": {},
   "outputs": [
    {
     "name": "stdout",
     "output_type": "stream",
     "text": [
      "Y = 0 encontrou 5 pontos\n",
      "Y = 10 encontrou 14 pontos\n",
      "Y = 20 encontrou 18 pontos\n",
      "Y = 30 encontrou 24 pontos\n",
      "Y = 40 encontrou 38 pontos\n",
      "Y = 50 encontrou 81 pontos\n",
      "Y = 60 encontrou 102 pontos\n",
      "Y = 70 encontrou 102 pontos\n",
      "Y = 80 encontrou 102 pontos\n",
      "Y = 90 encontrou 102 pontos\n",
      "Y = 100 encontrou 102 pontos\n"
     ]
    }
   ],
   "source": [
    "for y in range(0,101,10):\n",
    "    print(\"Y = \" + str(y) + \" encontrou \" + str(len(secante_inv(xex, y, 0, 1))) + \" pontos\")"
   ]
  },
  {
   "cell_type": "markdown",
   "id": "d3c69482",
   "metadata": {},
   "source": [
    "O que poderia ser feito para evitar este tipo de situação?"
   ]
  },
  {
   "cell_type": "markdown",
   "id": "dc3b35de",
   "metadata": {
    "deletable": false,
    "nbgrader": {
     "cell_type": "markdown",
     "checksum": "8e9314217b8bcf97e1af3d58d5e59f19",
     "grade": true,
     "grade_id": "cell-a487e6248cbf174e",
     "locked": false,
     "points": 2,
     "schema_version": 3,
     "solution": true,
     "task": false
    }
   },
   "source": [
    "Se botarmos um maxiter maior uma hora o algoritmo irá convergir, e isto seria uma solução para este tipo de problema. Podemos mostrar isso com um teste rápido, vendo o último valor que a função encontrou com um maxiter muito grande:"
   ]
  },
  {
   "cell_type": "code",
   "execution_count": 130,
   "id": "6ef25bec",
   "metadata": {},
   "outputs": [
    {
     "data": {
      "text/plain": [
       "3.38563014029005"
      ]
     },
     "execution_count": 130,
     "metadata": {},
     "output_type": "execute_result"
    }
   ],
   "source": [
    "secante_inv(xex, 100, 0, 1, maxiter = 1000000)[-1]"
   ]
  },
  {
   "cell_type": "markdown",
   "id": "167bd96a",
   "metadata": {},
   "source": [
    "Como podemos ver, um número extremamente próximo da raiz;"
   ]
  }
 ],
 "metadata": {
  "kernelspec": {
   "display_name": "Python 3 (ipykernel)",
   "language": "python",
   "name": "python3"
  },
  "language_info": {
   "codemirror_mode": {
    "name": "ipython",
    "version": 3
   },
   "file_extension": ".py",
   "mimetype": "text/x-python",
   "name": "python",
   "nbconvert_exporter": "python",
   "pygments_lexer": "ipython3",
   "version": "3.8.5"
  }
 },
 "nbformat": 4,
 "nbformat_minor": 5
}
