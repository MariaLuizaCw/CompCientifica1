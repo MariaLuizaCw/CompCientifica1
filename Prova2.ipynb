{
 "cells": [
  {
   "cell_type": "markdown",
   "metadata": {},
   "source": [
    "![CC-BY-SA](https://mirrors.creativecommons.org/presskit/buttons/88x31/svg/by-sa.svg)\n",
    "\n",
    "\n",
    "This notebook was created by [Bernardo Freitas Paulo da Costa](http://www.im.ufrj.br/bernardofpc),\n",
    "and is licensed under Creative Commons BY-SA."
   ]
  },
  {
   "cell_type": "markdown",
   "metadata": {},
   "source": [
    "Antes de enviar este Teste, verifique que tudo está funcionando como esperado.\n",
    "Por exemplo, **rode o código inteiro, do zero**.\n",
    "Para isso, vá no menu, escolha _Kernel_, depois _Restart & Run All_.\n",
    "\n",
    "Verifique, também, que você respondeu todas as questões:\n",
    "* as questões de código têm `YOUR CODE HERE` (e você pode apagar o `raise NotImplemented` ao incluir sua resposta)\n",
    "* as questões discursivas têm \"YOUR ANSWER HERE\"."
   ]
  },
  {
   "cell_type": "markdown",
   "metadata": {},
   "source": [
    "---"
   ]
  },
  {
   "cell_type": "code",
   "execution_count": 1,
   "metadata": {
    "deletable": false,
    "editable": false,
    "nbgrader": {
     "cell_type": "code",
     "checksum": "6f84a169b0db6bf255294c92219305db",
     "grade": false,
     "grade_id": "cell-94078e99ec03a063",
     "locked": true,
     "schema_version": 3,
     "solution": false
    }
   },
   "outputs": [],
   "source": [
    "import numpy as np\n",
    "import matplotlib.pyplot as plt\n",
    "\n",
    "from numpy.linalg import norm"
   ]
  },
  {
   "cell_type": "markdown",
   "metadata": {},
   "source": [
    "# Parte 1: Erros de interpolação\n",
    "\n",
    "## Questão 1: Polinômios de grau 2\n",
    "\n",
    "Seja $f$ uma função e $P$ o polinômio interpolador de grau 2 determinado por\n",
    "$f(a)$, $f(0)$ e $f(-a)$.\n",
    "\n",
    "Escreva uma função que, dados $f$ e $a$, retorna os coeficientes de $P$,\n",
    "do menor ao maior grau."
   ]
  },
  {
   "cell_type": "code",
   "execution_count": 2,
   "metadata": {
    "deletable": false,
    "nbgrader": {
     "cell_type": "code",
     "checksum": "96f3bba23b7f7bc7bf7f4dcc7b5c7232",
     "grade": false,
     "grade_id": "cell-4473b1508aeb7eb7",
     "locked": false,
     "schema_version": 3,
     "solution": true,
     "task": false
    }
   },
   "outputs": [],
   "source": [
    "def coefs_grau2(f, a):\n",
    "    ys = [f(a), f(0), f(-a)]\n",
    "    xs = [a, 0, -a]\n",
    "    M = []\n",
    "    for x in xs:\n",
    "        linha = [1, x, x**2]\n",
    "        M.append(linha)\n",
    "\n",
    "    return np.linalg.solve(M,ys)\n"
   ]
  },
  {
   "cell_type": "code",
   "execution_count": 3,
   "metadata": {
    "deletable": false,
    "editable": false,
    "nbgrader": {
     "cell_type": "code",
     "checksum": "b2b48c0f6e5ed624e19748deba1b7d85",
     "grade": true,
     "grade_id": "cell-bc011ddbc721728f",
     "locked": true,
     "points": 1,
     "schema_version": 3,
     "solution": false,
     "task": false
    }
   },
   "outputs": [],
   "source": [
    "def f1(x): return x**2\n",
    "c1 = coefs_grau2(f1, 1)\n",
    "assert np.allclose(c1, [0,0,1], atol=1e-12, rtol=1e-12)"
   ]
  },
  {
   "cell_type": "code",
   "execution_count": 4,
   "metadata": {
    "deletable": false,
    "editable": false,
    "nbgrader": {
     "cell_type": "code",
     "checksum": "974f10e17e30c4a5bd3c548674737bcb",
     "grade": true,
     "grade_id": "cell-6148ccbf16826a57",
     "locked": true,
     "points": 1,
     "schema_version": 3,
     "solution": false,
     "task": false
    }
   },
   "outputs": [],
   "source": [
    "def f1(x): return x**2\n",
    "c1 = coefs_grau2(f1, 0.5)\n",
    "assert np.allclose(c1, [0,0,1], atol=1e-12, rtol=1e-12)"
   ]
  },
  {
   "cell_type": "code",
   "execution_count": 5,
   "metadata": {
    "deletable": false,
    "editable": false,
    "nbgrader": {
     "cell_type": "code",
     "checksum": "20bccd062d42d960bf10c1cd2b7a649d",
     "grade": true,
     "grade_id": "cell-e5d04ccb9f202e72",
     "locked": true,
     "points": 1,
     "schema_version": 3,
     "solution": false,
     "task": false
    }
   },
   "outputs": [],
   "source": [
    "c_sin = coefs_grau2(np.sin, 1)\n",
    "assert np.allclose(c_sin, [0,np.sin(1),0], atol=1e-12, rtol=1e-12)\n",
    "\n",
    "c_sin = coefs_grau2(np.sin, 0.7)\n",
    "assert np.allclose(c_sin, [0,np.sin(0.7)/0.7,0], atol=1e-12, rtol=1e-12)"
   ]
  },
  {
   "cell_type": "markdown",
   "metadata": {},
   "source": [
    "Explique porque é tão fácil calcular os coeficientes do polinômio para o seno. (sem resolver o sistema linear!)"
   ]
  },
  {
   "cell_type": "markdown",
   "metadata": {
    "deletable": false,
    "nbgrader": {
     "cell_type": "markdown",
     "checksum": "d21db134d4dea075101751b1e0bf4c53",
     "grade": true,
     "grade_id": "cell-a2e706a43d1f4b27",
     "locked": false,
     "points": 2,
     "schema_version": 3,
     "solution": true,
     "task": false
    }
   },
   "source": [
    "Como, para a função sen, f(a) = -f(a) já que se trada de uma função ímpar.Considere os coeficientes [c_1, c_2, c_3], o sistema fica simples de resolver bastando somar as linhas para obter o valor de $c_2 = f(a)/a$ e subtrair as linhas para obter $c_3$ que é igual a zero pelo fato de $c_1$ também ser zero (sabemos disso pois zero é ponto de interpolação)."
   ]
  },
  {
   "cell_type": "markdown",
   "metadata": {},
   "source": [
    "E porque os coeficientes para `f1` não mudaram?"
   ]
  },
  {
   "cell_type": "markdown",
   "metadata": {
    "deletable": false,
    "nbgrader": {
     "cell_type": "markdown",
     "checksum": "b775b08c6fe91f13d2523dfefa67ef7d",
     "grade": true,
     "grade_id": "cell-2b300e3f5f0a7cf2",
     "locked": false,
     "points": 1,
     "schema_version": 3,
     "solution": true,
     "task": false
    }
   },
   "source": [
    "O polinômio interpolador de grau n de um função que é um polinômio de grau n é o prórpio polinômio de grau n. Assim, como $f_1$ é o polinômio $x^2$ seu polinômio interpolador de grau 2 será $x^2$ independentemente dos pontos escolhidos para interpolação. "
   ]
  },
  {
   "cell_type": "code",
   "execution_count": 6,
   "metadata": {
    "deletable": false,
    "editable": false,
    "nbgrader": {
     "cell_type": "code",
     "checksum": "a81691679d5aed226be860f2c95e2cfc",
     "grade": true,
     "grade_id": "cell-b989f151d09f9370",
     "locked": true,
     "points": 1,
     "schema_version": 3,
     "solution": false,
     "task": false
    }
   },
   "outputs": [],
   "source": [
    "c_exp = coefs_grau2(np.exp, 1)\n",
    "assert np.allclose(c_exp, [1, 1.17520119, 0.54308063])\n",
    "\n",
    "c_exp = coefs_grau2(np.exp, 0.5)\n",
    "assert np.allclose(c_exp, [1, 1.04219061, 0.51050386])"
   ]
  },
  {
   "cell_type": "markdown",
   "metadata": {},
   "source": [
    "## Questão 2: Erros\n",
    "\n",
    "Seja $f$ uma função e $P$ o seu polinômio interpolador, dado por seus coeficientes.\n",
    "\n",
    "Escreva uma função que, dados `f`, `coefs` e um `ndarray` `ts`, calcula o vetor dos erros (com sinal)\n",
    "entre $f$ e $P$ ao longo dos pontos em `ts`.\n",
    "\n",
    "Dica: use `np.polyval` (e leia a ajuda)"
   ]
  },
  {
   "cell_type": "code",
   "execution_count": 7,
   "metadata": {
    "deletable": false,
    "nbgrader": {
     "cell_type": "code",
     "checksum": "647a0e7e04051cd9bea73aa69f7d9957",
     "grade": false,
     "grade_id": "cell-64034136eef34b77",
     "locked": false,
     "schema_version": 3,
     "solution": true,
     "task": false
    }
   },
   "outputs": [],
   "source": [
    "def erros(f, coefs, ts):\n",
    "    coefs = coefs[::-1]\n",
    "    values = np.array([ np.polyval(coefs, t)  for t in ts])\n",
    "    ys = np.array([f(t) for t in ts])\n",
    "    return ys- values"
   ]
  },
  {
   "cell_type": "code",
   "execution_count": 8,
   "metadata": {
    "deletable": false,
    "editable": false,
    "nbgrader": {
     "cell_type": "code",
     "checksum": "74515b1030e0195c884fa0edbdf1f569",
     "grade": true,
     "grade_id": "cell-26f2abfc3bbfe9d6",
     "locked": true,
     "points": 1,
     "schema_version": 3,
     "solution": false,
     "task": false
    }
   },
   "outputs": [],
   "source": [
    "err_exp = erros(np.exp, [1, 1, 1/2], [0, 1, -1])\n",
    "assert np.allclose(err_exp, [ 0.        ,  0.21828183, -0.13212056])"
   ]
  },
  {
   "cell_type": "code",
   "execution_count": 9,
   "metadata": {
    "deletable": false,
    "editable": false,
    "nbgrader": {
     "cell_type": "code",
     "checksum": "abdeb95bf32e01db4a1bf1536e77927c",
     "grade": true,
     "grade_id": "cell-cfeebf4e005d0d12",
     "locked": true,
     "points": 1,
     "schema_version": 3,
     "solution": false,
     "task": false
    }
   },
   "outputs": [],
   "source": [
    "err_exp = erros(np.exp, [1, 1, 1/2], [0, 1/2, -1/2])\n",
    "assert np.allclose(err_exp, [ 0.        ,  0.02372127, -0.01846934])"
   ]
  },
  {
   "cell_type": "code",
   "execution_count": 10,
   "metadata": {
    "deletable": false,
    "editable": false,
    "nbgrader": {
     "cell_type": "code",
     "checksum": "8a6fb60962a4657cb5de1eb8f1f8ce10",
     "grade": true,
     "grade_id": "cell-d397085c88fc6a25",
     "locked": true,
     "points": 1,
     "schema_version": 3,
     "solution": false,
     "task": false
    }
   },
   "outputs": [],
   "source": [
    "err_sin = erros(np.sin, [0, 1, 0], [0,1,2,3,np.pi])\n",
    "assert np.allclose(err_sin, [ 0.        , -0.15852902, -1.09070257, -2.85887999, -3.14159265])"
   ]
  },
  {
   "cell_type": "markdown",
   "metadata": {},
   "source": [
    "## Questão 3: Gráficos de erros\n",
    "\n",
    "Faça, para a função seno, o gráfico dos erros para 100 pontos no intervalo $[-1,1]$,\n",
    "correspondente aos polinômios interpoladores de grau 2, ao variar $a$ de $0.1$ até $1.0$."
   ]
  },
  {
   "cell_type": "code",
   "execution_count": 11,
   "metadata": {
    "deletable": false,
    "nbgrader": {
     "cell_type": "code",
     "checksum": "e605204eb09a1ebb9611988e5f591c3a",
     "grade": true,
     "grade_id": "cell-c3e6e06a53524ce2",
     "locked": false,
     "points": 1,
     "schema_version": 3,
     "solution": true,
     "task": false
    }
   },
   "outputs": [
    {
     "data": {
      "text/plain": [
       "<matplotlib.legend.Legend at 0x2213cb6c610>"
      ]
     },
     "execution_count": 11,
     "metadata": {},
     "output_type": "execute_result"
    },
    {
     "data": {
      "image/png": "[encoded data removed]",
      "text/plain": [
       "<Figure size 864x288 with 1 Axes>"
      ]
     },
     "metadata": {
      "needs_background": "light"
     },
     "output_type": "display_data"
    }
   ],
   "source": [
    "fig, ax = plt.subplots(ncols=1, figsize=(12,4))\n",
    "ers = []\n",
    "a_s =  np.arange(0.1, 1.1, 0.1)\n",
    "for a in a_s:\n",
    "    ys =  np.linspace(-1, 1, 100)\n",
    "    er = erros(np.sin, coefs_grau2(np.sin, round(a, 1)), ys)\n",
    "    ers.append(er)\n",
    "    plt.plot(ys, er, label=f\"Para a = {round(a, 1)}\")\n",
    "plt.title(\"erros\")\n",
    "plt.legend()\n"
   ]
  },
  {
   "cell_type": "code",
   "execution_count": 12,
   "metadata": {
    "deletable": false,
    "editable": false,
    "nbgrader": {
     "cell_type": "code",
     "checksum": "26e7222ba964d6c50895b04f5014cf69",
     "grade": true,
     "grade_id": "cell-26e348bb2c27c9ff",
     "locked": true,
     "points": 1,
     "schema_version": 3,
     "solution": false,
     "task": false
    }
   },
   "outputs": [],
   "source": [
    "assert len(ax.lines) >= 10\n",
    "assert len(ax.get_legend().texts) >= 10"
   ]
  },
  {
   "cell_type": "markdown",
   "metadata": {},
   "source": [
    "## Questão 4: Estatísticas dos erros\n",
    "\n",
    "Qual a soma dos erros, para cada valor de $a$?\n",
    "\n",
    "Imprima uma tabela com os valores de $a$ e o valor da soma, usando `print()` formatado."
   ]
  },
  {
   "cell_type": "code",
   "execution_count": 13,
   "metadata": {
    "deletable": false,
    "nbgrader": {
     "cell_type": "code",
     "checksum": "6a332eaf5487a9d1d2fe6d059d6e196d",
     "grade": true,
     "grade_id": "cell-07fc03ec6446be01",
     "locked": false,
     "points": 1,
     "schema_version": 3,
     "solution": true,
     "task": false
    }
   },
   "outputs": [
    {
     "name": "stdout",
     "output_type": "stream",
     "text": [
      "a    |   soma dos erros\n",
      "----------------------------------------\n",
      "0.1 | -1.2212453270876722e-15\n",
      "0.2 | -1.2212453270876722e-15\n",
      "0.3 | -1.1102230246251565e-15\n",
      "0.4 | -9.43689570931383e-16\n",
      "0.5 | -9.43689570931383e-16\n",
      "0.6 | -7.771561172376096e-16\n",
      "0.7 | -6.106226635438361e-16\n",
      "0.8 | -2.220446049250313e-16\n",
      "0.9 | -4.163336342344337e-16\n",
      "1.0 | 5.551115123125783e-17\n"
     ]
    }
   ],
   "source": [
    "su = [ np.sum(er) for er in ers]\n",
    "\n",
    "\n",
    "print(\"a    |   soma dos erros\")\n",
    "print(40*\"-\")\n",
    "for (a, s) in zip(a_s, su):\n",
    "    print(round(a, 1), end=\" | \")\n",
    "    print(s)\n"
   ]
  },
  {
   "cell_type": "markdown",
   "metadata": {},
   "source": [
    "Agora, faça uma tabela com a soma dos valores **absolutos** dos erros, para cada valor de $a$."
   ]
  },
  {
   "cell_type": "code",
   "execution_count": 14,
   "metadata": {
    "deletable": false,
    "nbgrader": {
     "cell_type": "code",
     "checksum": "c5fbdf737fbb820082b64266ebce8cfd",
     "grade": true,
     "grade_id": "cell-6f36b21a79ac44d4",
     "locked": false,
     "points": 1,
     "schema_version": 3,
     "solution": true,
     "task": false
    }
   },
   "outputs": [
    {
     "name": "stdout",
     "output_type": "stream",
     "text": [
      "  a  |  soma dos erros absolutos\n",
      "----------------------------------------\n",
      "0.1 | 4.066713333575328\n",
      "0.2 | 3.827205383020329\n",
      "0.3 | 3.4623822338515478\n",
      "0.4 | 3.0230794495150053\n",
      "0.5 | 2.5790783372348267\n",
      "0.6 | 2.2177422809191114\n",
      "0.7 | 2.0422985340893396\n",
      "0.8 | 2.1697911395520366\n",
      "0.9 | 2.728735642099987\n",
      "1.0 | 3.8565108513854467\n"
     ]
    }
   ],
   "source": [
    "sum_a = [ np.sum(abs(er)) for er in ers]\n",
    "\n",
    "\n",
    "print(\"  a  |  soma dos erros absolutos\")\n",
    "print(40*\"-\")\n",
    "for (a, s) in zip(a_s, sum_a):\n",
    "    print(round(a, 1), end=\" | \")\n",
    "    \n",
    "    print(s)\n"
   ]
  },
  {
   "cell_type": "markdown",
   "metadata": {},
   "source": [
    "Enfim, uma tabela para o maior erro (em valor absoluto), dentre os 100 pontos, para cada valor de $a$."
   ]
  },
  {
   "cell_type": "code",
   "execution_count": 15,
   "metadata": {
    "deletable": false,
    "nbgrader": {
     "cell_type": "code",
     "checksum": "0984ea0ad1184be01a881d7411ee7fc0",
     "grade": true,
     "grade_id": "cell-70d0a184a06fa832",
     "locked": false,
     "points": 1,
     "schema_version": 3,
     "solution": true,
     "task": false
    }
   },
   "outputs": [
    {
     "name": "stdout",
     "output_type": "stream",
     "text": [
      "  a  |  soma dos erros absolutos\n",
      "----------------------------------------\n",
      "0.1 | 0.15686318166038504\n",
      "0.2 | 0.15187566916740958\n",
      "0.3 | 0.14359637072990206\n",
      "0.4 | 0.13207487096372972\n",
      "0.5 | 0.1173800924005095\n",
      "0.6 | 0.09959980418382919\n",
      "0.7 | 0.07883999696023358\n",
      "0.8 | 0.05522412881650696\n",
      "0.9 | 0.044297767745150096\n",
      "1.0 | 0.05998709202465069\n"
     ]
    }
   ],
   "source": [
    "maxs = [ np.sum(max(er)) for er in ers]\n",
    "\n",
    "\n",
    "print(\"  a  |  soma dos erros absolutos\")\n",
    "print(40*\"-\")\n",
    "for (a, m) in zip(a_s, maxs):\n",
    "    print(round(a, 1), end=\" | \")\n",
    "    print(m)\n"
   ]
  },
  {
   "cell_type": "markdown",
   "metadata": {},
   "source": [
    "## Questão 5: Gráficos das estatísticas\n",
    "\n",
    "Crie um dicionário que associa, a cada valor de $a$ abaixo,\n",
    "o `array` dos erros nos 100 pontos do intervalo $[-1,1]$."
   ]
  },
  {
   "cell_type": "code",
   "execution_count": 16,
   "metadata": {
    "deletable": false,
    "nbgrader": {
     "cell_type": "code",
     "checksum": "2de5309c0ec7092697b9816c09b7814e",
     "grade": true,
     "grade_id": "cell-d5d8bd4b661d07b2",
     "locked": false,
     "points": 1,
     "schema_version": 3,
     "solution": true,
     "task": false
    }
   },
   "outputs": [],
   "source": [
    "lista_a = np.linspace(0.1, 1.0, num=91)\n",
    "d = {}\n",
    "\n",
    "for a in lista_a:\n",
    "    ys =  np.linspace(-1, 1, 100)\n",
    "    er = erros(np.sin, coefs_grau2(np.sin, a), ys)\n",
    "    d[a] = er "
   ]
  },
  {
   "cell_type": "markdown",
   "metadata": {},
   "source": [
    "Agora, faça, num mesmo eixo, os gráficos dos 3 erros, em função de $a$."
   ]
  },
  {
   "cell_type": "code",
   "execution_count": 17,
   "metadata": {
    "deletable": false,
    "nbgrader": {
     "cell_type": "code",
     "checksum": "a11def4639dd632debbc6628c97b0375",
     "grade": false,
     "grade_id": "cell-b6ae21da37ce9a4e",
     "locked": false,
     "schema_version": 3,
     "solution": true,
     "task": false
    }
   },
   "outputs": [
    {
     "data": {
      "text/plain": [
       "<matplotlib.legend.Legend at 0x2213ecec160>"
      ]
     },
     "execution_count": 17,
     "metadata": {},
     "output_type": "execute_result"
    },
    {
     "data": {
      "image/png": "[encoded data removed]",
      "text/plain": [
       "<Figure size 864x288 with 1 Axes>"
      ]
     },
     "metadata": {
      "needs_background": "light"
     },
     "output_type": "display_data"
    }
   ],
   "source": [
    "fig, ax = plt.subplots(ncols=1, figsize=(12,4))\n",
    "\n",
    "\n",
    "soma = [np.sum(er) for er in d.values()]\n",
    "soma_abs = [np.sum(abs(er)) for er in d.values()]\n",
    "maximo = [np.max(er) for er in d.values()]\n",
    "\n",
    "plt.title(\"3 tipos de erro\")\n",
    "plt.plot(d.keys(), soma, label=\"Soma dos Erros\")\n",
    "plt.plot(d.keys(), soma_abs, label=\"Soma Absoluta dos Erros\")\n",
    "plt.plot(d.keys(), maximo, label=\"Máximo dos Erros\")\n",
    "plt.legend()"
   ]
  },
  {
   "cell_type": "code",
   "execution_count": 18,
   "metadata": {
    "deletable": false,
    "editable": false,
    "nbgrader": {
     "cell_type": "code",
     "checksum": "f78592e101181860f720e3fcf4bff5ad",
     "grade": true,
     "grade_id": "cell-3d5aae9f21c57371",
     "locked": true,
     "points": 2,
     "schema_version": 3,
     "solution": false,
     "task": false
    }
   },
   "outputs": [],
   "source": [
    "assert len(ax.lines) == 3\n",
    "assert len(ax.get_legend().texts) == 3"
   ]
  },
  {
   "cell_type": "markdown",
   "metadata": {},
   "source": [
    "O gráfico acima tem 2 problemas:\n",
    "- A soma dos erros é sempre muito pequena\n",
    "- A soma dos valores absolutos dos erros é bem maior do que o maior erro.\n",
    "\n",
    "Explique porque eles acontecem."
   ]
  },
  {
   "cell_type": "markdown",
   "metadata": {
    "deletable": false,
    "nbgrader": {
     "cell_type": "markdown",
     "checksum": "19bff965f54cf8f927cc4a36252f1b96",
     "grade": true,
     "grade_id": "cell-d7fe05bcb37d6c46",
     "locked": false,
     "points": 2,
     "schema_version": 3,
     "solution": true,
     "task": false
    }
   },
   "source": [
    "Isso acontece porque alguns erros se cancelam quando não consideramos o valor absoluto deles. Lembrando que estamos tentando aproximar uma função seno por um polinômio de grau 2. Esse cancelamento tem a ver com o fato de a função seno ser ímpar e trocar de concavidade o que não acontece com um polinômio de grau 2. Assim, terão regiões em que o polinômio majora a função e regiões em que ele subestima a função praticamente na mesma proporção.\n",
    "\n",
    "A soma dos erros ser bem maior significa que o total de erro não é causado pelo ponto que gera mais erro, ou seja, existe uma distribuição de erros em vários pontos da função. "
   ]
  },
  {
   "cell_type": "markdown",
   "metadata": {},
   "source": [
    "Para comparar melhor a soma dos erros absolutos com o maior erro no intervalo $[-1,1]$,\n",
    "poderíamos normalizar a soma (por exemplo, dividindo pelo número de termos).\n",
    "\n",
    "Mas também podemos usar dois eixos separados, com um `subplot`.\n",
    "Refaça os gráficos, para estes dois critérios de erro."
   ]
  },
  {
   "cell_type": "code",
   "execution_count": 19,
   "metadata": {
    "deletable": false,
    "nbgrader": {
     "cell_type": "code",
     "checksum": "aa91795716008240381c488043f242a2",
     "grade": true,
     "grade_id": "cell-1804da00375e2ed2",
     "locked": false,
     "points": 1,
     "schema_version": 3,
     "solution": true,
     "task": false
    }
   },
   "outputs": [
    {
     "data": {
      "text/plain": [
       "Text(0.5, 1.0, 'Máximo dos Erros')"
      ]
     },
     "execution_count": 19,
     "metadata": {},
     "output_type": "execute_result"
    },
    {
     "data": {
      "image/png": "[encoded data removed]",
      "text/plain": [
       "<Figure size 936x288 with 2 Axes>"
      ]
     },
     "metadata": {
      "needs_background": "light"
     },
     "output_type": "display_data"
    }
   ],
   "source": [
    "fig, axs = plt.subplots(ncols=2, figsize=(13,4))\n",
    "\n",
    "soma_abs = [np.sum(abs(er))/len(er) for er in d.values()]\n",
    "maximo = [np.max(er) for er in d.values()]\n",
    "\n",
    "axs[0].plot(d.keys(), soma_abs)\n",
    "axs[1].plot(d.keys(), maximo)\n",
    "axs[0].set_title(\"Soma Absoluta dos Erros Normalizada\")\n",
    "axs[1].set_title(\"Máximo dos Erros\")"
   ]
  },
  {
   "cell_type": "markdown",
   "metadata": {},
   "source": [
    "O gráfico do erro da soma parece ser suave, enquanto o gráfico para o máximo do erro, não.\n",
    "Porque você acha que isso acontece?"
   ]
  },
  {
   "cell_type": "markdown",
   "metadata": {
    "deletable": false,
    "nbgrader": {
     "cell_type": "markdown",
     "checksum": "aa4bc5fbbaef95d77c76b25f30b12efb",
     "grade": true,
     "grade_id": "cell-eb8a5ef57c7ff185",
     "locked": false,
     "points": 1,
     "schema_version": 3,
     "solution": true,
     "task": false
    }
   },
   "source": [
    "YOUR ANSWER HERE"
   ]
  },
  {
   "cell_type": "markdown",
   "metadata": {},
   "source": [
    "## Questão 6: E a exponencial?\n",
    "\n",
    "Refaça a figura com o comportamento dos **três** erros (em eixos separados) para a exponencial."
   ]
  },
  {
   "cell_type": "code",
   "execution_count": 20,
   "metadata": {
    "deletable": false,
    "nbgrader": {
     "cell_type": "code",
     "checksum": "2e1d375bfa75f7d1e55d3f17f3c744da",
     "grade": true,
     "grade_id": "cell-2ecde7ed05f6dbd3",
     "locked": false,
     "points": 2,
     "schema_version": 3,
     "solution": true,
     "task": false
    }
   },
   "outputs": [
    {
     "data": {
      "text/plain": [
       "Text(0.5, 1.0, 'Máximo Erros')"
      ]
     },
     "execution_count": 20,
     "metadata": {},
     "output_type": "execute_result"
    },
    {
     "data": {
      "image/png": "[encoded data removed]",
      "text/plain": [
       "<Figure size 1296x288 with 3 Axes>"
      ]
     },
     "metadata": {
      "needs_background": "light"
     },
     "output_type": "display_data"
    }
   ],
   "source": [
    "fig, axs = plt.subplots(ncols=3, figsize=(18,4))\n",
    "\n",
    "\n",
    "lista_a = np.linspace(0.1, 1.0, num=91)\n",
    "d = {}\n",
    "\n",
    "for a in lista_a:\n",
    "    ys =  np.linspace(-1, 1, 100)\n",
    "    er = erros(np.sin, coefs_grau2(np.exp, a), ys)\n",
    "    d[a] = er \n",
    "\n",
    "\n",
    "soma = [np.sum(er) for er in d.values()]\n",
    "soma_abs = [np.sum(abs(er)) for er in d.values()]\n",
    "maximo = [np.max(er) for er in d.values()]\n",
    "\n",
    "axs[0].plot(d.keys(), soma)\n",
    "axs[1].plot(d.keys(), soma_abs)\n",
    "axs[2].plot(d.keys(), maximo)\n",
    "axs[0].set_title(\"Soma dos Erros\")\n",
    "axs[1].set_title(\"Soma Absoluta dos Erros\")\n",
    "axs[2].set_title(\"Máximo Erros\")"
   ]
  },
  {
   "cell_type": "markdown",
   "metadata": {},
   "source": [
    "O que você deduz destes gráficos?"
   ]
  },
  {
   "cell_type": "markdown",
   "metadata": {
    "deletable": false,
    "nbgrader": {
     "cell_type": "markdown",
     "checksum": "91dbc843a889ce326c5241f4da51d060",
     "grade": true,
     "grade_id": "cell-7a60b4af0beb4b5a",
     "locked": false,
     "points": 2,
     "schema_version": 3,
     "solution": true,
     "task": false
    }
   },
   "source": [
    "Agora, a soma dos erros é sempre negativa, ou seja, nosso polinômio de grau 2 está majorando a função na maioria dos casos. O valor máximo dos erros também é sempre negativo."
   ]
  },
  {
   "cell_type": "markdown",
   "metadata": {},
   "source": [
    "## Questão 7: Uma integral\n",
    "\n",
    "Calcule o erro entre\n",
    "1. a integral do polinômio interpolador $P_a$ em $[-1,1]$, e\n",
    "2. a integral da exponencial no mesmo intervalo.\n",
    "\n",
    "Faça um gráfico em função de $a$."
   ]
  },
  {
   "cell_type": "code",
   "execution_count": 21,
   "metadata": {
    "deletable": false,
    "nbgrader": {
     "cell_type": "code",
     "checksum": "48699603bbe0088af94cd5913e2cb0ba",
     "grade": true,
     "grade_id": "cell-b29701e2adfd3190",
     "locked": false,
     "points": 2,
     "schema_version": 3,
     "solution": true,
     "task": false
    }
   },
   "outputs": [
    {
     "ename": "NotImplementedError",
     "evalue": "",
     "output_type": "error",
     "traceback": [
      "\u001b[1;31m---------------------------------------------------------------------------\u001b[0m",
      "\u001b[1;31mNotImplementedError\u001b[0m                       Traceback (most recent call last)",
      "\u001b[1;32m~\\AppData\\Local\\Temp/ipykernel_90368/3930969182.py\u001b[0m in \u001b[0;36m<module>\u001b[1;34m\u001b[0m\n\u001b[0;32m      2\u001b[0m \u001b[1;33m\u001b[0m\u001b[0m\n\u001b[0;32m      3\u001b[0m \u001b[1;31m# YOUR CODE HERE\u001b[0m\u001b[1;33m\u001b[0m\u001b[1;33m\u001b[0m\u001b[1;33m\u001b[0m\u001b[0m\n\u001b[1;32m----> 4\u001b[1;33m \u001b[1;32mraise\u001b[0m \u001b[0mNotImplementedError\u001b[0m\u001b[1;33m(\u001b[0m\u001b[1;33m)\u001b[0m\u001b[1;33m\u001b[0m\u001b[1;33m\u001b[0m\u001b[0m\n\u001b[0m",
      "\u001b[1;31mNotImplementedError\u001b[0m: "
     ]
    },
    {
     "data": {
      "image/png": "[encoded data removed]",
      "text/plain": [
       "<Figure size 432x288 with 1 Axes>"
      ]
     },
     "metadata": {
      "needs_background": "light"
     },
     "output_type": "display_data"
    }
   ],
   "source": [
    "fig, ax = plt.subplots(ncols=1, figsize=(6,4))\n",
    "\n",
    "# YOUR CODE HERE\n",
    "raise NotImplementedError()"
   ]
  },
  {
   "cell_type": "markdown",
   "metadata": {},
   "source": [
    "Esse gráfico se parece com algum dos anteriores? Qual? Porque você acha que isso acontece?"
   ]
  },
  {
   "cell_type": "markdown",
   "metadata": {
    "deletable": false,
    "nbgrader": {
     "cell_type": "markdown",
     "checksum": "d6ee9b8411364b3a81bf797e2d55e302",
     "grade": true,
     "grade_id": "cell-7c6e838affc23c04",
     "locked": false,
     "points": 2,
     "schema_version": 3,
     "solution": true,
     "task": false
    }
   },
   "source": [
    "YOUR ANSWER HERE"
   ]
  },
  {
   "cell_type": "markdown",
   "metadata": {
    "deletable": false,
    "editable": false,
    "nbgrader": {
     "cell_type": "markdown",
     "checksum": "c7c403f5d74cc2310c7f55a3996521db",
     "grade": false,
     "grade_id": "cell-9bd861fd908a2893",
     "locked": true,
     "schema_version": 3,
     "solution": false
    }
   },
   "source": [
    "# Autovalores de matrizes simétricas\n",
    "\n",
    "Vimos em sala que matrizes simétricas têm autovalores ortogonais.\n",
    "\n",
    "Vamos usar esta propriedade para estender o método da potência para encontrar os 2 maiores autovalores,\n",
    "com seus autovetores correspondentes."
   ]
  },
  {
   "cell_type": "markdown",
   "metadata": {},
   "source": [
    "## Questão 8: Iteração de potência\n",
    "\n",
    "Dê abaixo o método de iteração de potência para uma matriz $A$, começando com o vetor $u_0$.\n",
    "\n",
    "Use como critério de parada a distância (relativa) entre $Au_k$ e $\\lambda_k u_k$,\n",
    "onde $\\lambda_k$ é a estimativa atual do autovalor.\n",
    "\n",
    "Retorne todos os vetores $u_k$ produzidos (e normalizados), assim como os $\\lambda_k$."
   ]
  },
  {
   "cell_type": "code",
   "execution_count": null,
   "metadata": {
    "deletable": false,
    "nbgrader": {
     "cell_type": "code",
     "checksum": "df3fb3455d46229ec3f00139055dac60",
     "grade": false,
     "grade_id": "cell-90bda6b0e32b7223",
     "locked": false,
     "schema_version": 3,
     "solution": true,
     "task": false
    }
   },
   "outputs": [],
   "source": [
    "def iteracao_potencia(A, u0, tol=1e-6, maxiter=100):\n",
    "    A = np.asarray(A)\n",
    "    n,m = np.shape(A)\n",
    "    assert n==m, 'A must be square'\n",
    "    v = u0/norm(u0)\n",
    "    ls = []\n",
    "    vs = []\n",
    "    for _ in range(maxiter):\n",
    "        v = A@v\n",
    "        v /= norm(v)\n",
    "        vs.append(v)\n",
    "        lamda = np.dot(v, A@v)\n",
    "        ls.append(lamda)\n",
    "        erro = norm(A@v - lamda*v)\n",
    "        if(erro <= tol):\n",
    "            break\n",
    "    return (vs, ls)\n"
   ]
  },
  {
   "cell_type": "code",
   "execution_count": null,
   "metadata": {
    "deletable": false,
    "editable": false,
    "nbgrader": {
     "cell_type": "code",
     "checksum": "6afc8d8908fc9f58e61438782329c0b9",
     "grade": true,
     "grade_id": "cell-b088621f5a81b739",
     "locked": true,
     "points": 1,
     "schema_version": 3,
     "solution": false,
     "task": false
    }
   },
   "outputs": [],
   "source": [
    "A = [[0,1],[2,1]]\n",
    "us, ls = iteracao_potencia(A, [1.0,0])\n",
    "\n",
    "assert 10 < len(ls) < 30"
   ]
  },
  {
   "cell_type": "code",
   "execution_count": null,
   "metadata": {
    "deletable": false,
    "editable": false,
    "nbgrader": {
     "cell_type": "code",
     "checksum": "85359002c3e8ce0337816493ea22d196",
     "grade": true,
     "grade_id": "cell-dda0e8a2a2fccaf0",
     "locked": true,
     "points": 2,
     "schema_version": 3,
     "solution": false,
     "task": false
    }
   },
   "outputs": [],
   "source": [
    "A = [[0,1],[2,1]]\n",
    "us, ls = iteracao_potencia(A, [1.0,0])\n",
    "\n",
    "assert np.isclose(ls[-1], 2)\n",
    "assert np.allclose(us[-1], [0.44721385, 0.89442706], atol=1e-6)\n",
    "assert np.allclose(us[-5], [0.44721385, 0.89442706], atol=1e-6)"
   ]
  },
  {
   "cell_type": "markdown",
   "metadata": {},
   "source": [
    "Vimos acima que `us[-1]` e `us[-5]` estão próximos do mesmo vetor, com tolerância `1e-6`.\n",
    "Ora, a tolerância de parada é `1e-6`.\n",
    "\n",
    "O que você acha que fez a função continuar iterando?"
   ]
  },
  {
   "cell_type": "markdown",
   "metadata": {
    "deletable": false,
    "nbgrader": {
     "cell_type": "markdown",
     "checksum": "59501bb0f1028a7de8d2060bab25455d",
     "grade": true,
     "grade_id": "cell-967b18395f6e6aef",
     "locked": false,
     "points": 2,
     "schema_version": 3,
     "solution": true,
     "task": false
    }
   },
   "source": [
    "Isso tem a ver com o fato de os autovalores ainda não estarem próximos o suficiente. A tolerândia é calculada em função dos autovalores segunda a função de erro $||Av_k - \\lambda_k v_k||$."
   ]
  },
  {
   "cell_type": "code",
   "execution_count": null,
   "metadata": {},
   "outputs": [
    {
     "name": "stdout",
     "output_type": "stream",
     "text": [
      "2.0000002861020763\n",
      "2.0000045775808393\n"
     ]
    }
   ],
   "source": [
    "print(ls[-1])\n",
    "print(ls[-5])"
   ]
  },
  {
   "cell_type": "code",
   "execution_count": null,
   "metadata": {
    "deletable": false,
    "editable": false,
    "nbgrader": {
     "cell_type": "code",
     "checksum": "0c055de5b83cd2f154858fda7ccfec54",
     "grade": true,
     "grade_id": "cell-813171a1fb94fabf",
     "locked": true,
     "points": 2,
     "schema_version": 3,
     "solution": false,
     "task": false
    }
   },
   "outputs": [],
   "source": [
    "A = [[0,1,2],[3,2,1],[1,2,4]]\n",
    "us, ls = iteracao_potencia(A, [1.0,1,1])\n",
    "\n",
    "assert 5.7 < ls[-1] < 5.8\n",
    "assert 5 < len(ls) < 15"
   ]
  },
  {
   "cell_type": "markdown",
   "metadata": {},
   "source": [
    "## Dois autovetores\n",
    "\n",
    "Vamos adaptar o método anterior para calcular dois autovetores.\n",
    "O algoritmo é o seguinte:\n",
    "1. Comece com dois vetores $u_0$ e $v_0$, com $v_0$ ortogonal a $u_0$ (ou seja, $u_0 \\cdot v_0 = 0$);\n",
    "2. Seja $k = 0$;\n",
    "3. Calcule $u_{k+1} = \\frac{A u_k}{\\| A u_k \\|}$ como na iteração de potência;\n",
    "4. Calcule $w = A v_k$, e retire a componente de $w$ na direção de $u_{k+1}$, para que $\\hat{w} \\cdot u_{k+1} = 0$\n",
    "5. Normalize $\\hat{w}$ para definir $v_{k+1}$\n",
    "6. Calcule os produtos de Rayleigh $u_{k+1} \\cdot u_k$ e $v_{k+1} \\cdot v_k$, para estimar os autovalores;\n",
    "7. Teste a convergência tanto de $u_{k+1}$ como de $v_{k+1}$\n",
    "    * Se convergiu, retorne\n",
    "    * Senão, faça $k = k+1$ e volte para 3."
   ]
  },
  {
   "cell_type": "markdown",
   "metadata": {},
   "source": [
    "## Questão 9: Projeção ortogonal\n",
    "\n",
    "A primeira etapa que falta programar é retirar a componente de $w$ na direção de $u$.\n",
    "Escreva esta função."
   ]
  },
  {
   "cell_type": "code",
   "execution_count": null,
   "metadata": {
    "deletable": false,
    "nbgrader": {
     "cell_type": "code",
     "checksum": "072bc3c8e28139878864b31db28f728d",
     "grade": false,
     "grade_id": "cell-3087c166de471de2",
     "locked": false,
     "schema_version": 3,
     "solution": true,
     "task": false
    }
   },
   "outputs": [],
   "source": [
    "def retirar_componente(w,u):\n",
    "    w = np.asarray(w)\n",
    "    u = np.asarray(u)\n",
    "    assert np.isclose(norm(u), 1) # Para facilitar\n",
    "    return w - (np.dot(w, u)/norm(u))*u"
   ]
  },
  {
   "cell_type": "code",
   "execution_count": null,
   "metadata": {
    "deletable": false,
    "editable": false,
    "nbgrader": {
     "cell_type": "code",
     "checksum": "71e8f0b3873ed7ef85af6fe131ce4983",
     "grade": true,
     "grade_id": "cell-774e5a820f730089",
     "locked": true,
     "points": 1,
     "schema_version": 3,
     "solution": false,
     "task": false
    }
   },
   "outputs": [],
   "source": [
    "v = retirar_componente([1,2], [0,1])\n",
    "assert np.allclose(v, [1,0])"
   ]
  },
  {
   "cell_type": "code",
   "execution_count": null,
   "metadata": {
    "deletable": false,
    "editable": false,
    "nbgrader": {
     "cell_type": "code",
     "checksum": "04aaafec0610f0bdb3b081cc05b17ce9",
     "grade": true,
     "grade_id": "cell-fed20db9bdebe6c8",
     "locked": true,
     "points": 1,
     "schema_version": 3,
     "solution": false,
     "task": false
    }
   },
   "outputs": [],
   "source": [
    "v = retirar_componente([1,2,3,4], [0,0,1,0])\n",
    "assert np.allclose(v, [1,2,0,4])"
   ]
  },
  {
   "cell_type": "code",
   "execution_count": null,
   "metadata": {
    "deletable": false,
    "editable": false,
    "nbgrader": {
     "cell_type": "code",
     "checksum": "33029d948b0994a78648bb3b3766a202",
     "grade": true,
     "grade_id": "cell-105013f3bb486db6",
     "locked": true,
     "points": 1,
     "schema_version": 3,
     "solution": false,
     "task": false
    }
   },
   "outputs": [],
   "source": [
    "v = retirar_componente([1,2,3,4], [1/2,1/2,1/2,1/2])\n",
    "assert np.allclose(v, [-3/2,-1/2,1/2,3/2])"
   ]
  },
  {
   "cell_type": "markdown",
   "metadata": {},
   "source": [
    "Dê, na caixa abaixo, mais dois testes para sua função `retirar_componente`."
   ]
  },
  {
   "cell_type": "code",
   "execution_count": null,
   "metadata": {
    "deletable": false,
    "nbgrader": {
     "cell_type": "code",
     "checksum": "832318228bec4125b16c7a41624e8c48",
     "grade": true,
     "grade_id": "cell-1cdfe2b0eaf8d706",
     "locked": false,
     "points": 2,
     "schema_version": 3,
     "solution": true,
     "task": false
    }
   },
   "outputs": [],
   "source": [
    "v = retirar_componente([1,0,3], [1, 0, 0])\n",
    "assert np.allclose(v, [0, 0, 3])\n",
    "\n",
    "v = retirar_componente([1,0,3], [0, 0, 1])\n",
    "assert np.allclose(v, [1, 0, 0])\n"
   ]
  },
  {
   "cell_type": "markdown",
   "metadata": {},
   "source": [
    "## Questão 10: A iteração dupla\n",
    "\n",
    "Agora, complete a iteração dupla da potência, retornando:\n",
    "- Os candidatos ao \"maior\" autovetor\n",
    "- Os candidatos ao maior autovalor\n",
    "- Os candidatos ao \"segundo\" autovetor\n",
    "- Os candidatos ao segundo autovalor.\n",
    "\n",
    "(Ou seja, os dois primeiros são exatamente como na iteração de potência)\n",
    "\n",
    "O algoritmo só pode convergir se **ambos** os vetores estiverem próximos dos autovetores correspondentes!"
   ]
  },
  {
   "cell_type": "code",
   "execution_count": null,
   "metadata": {
    "deletable": false,
    "nbgrader": {
     "cell_type": "code",
     "checksum": "5b9696a78f78e6ecb8c2ffb54a7ee414",
     "grade": false,
     "grade_id": "cell-99c892a5af80b351",
     "locked": false,
     "schema_version": 3,
     "solution": true,
     "task": false
    }
   },
   "outputs": [],
   "source": [
    "def iteracao_potencia2(A, u0, v0, tol=1e-6, maxiter=100):\n",
    "    A = np.asarray(A)\n",
    "    n,m = np.shape(A)\n",
    "    ls1, ls2, vs1, vs2 = [], [], [], []\n",
    "    assert n==m, 'A must be square'\n",
    "    for _ in range(maxiter):\n",
    "        u = (A@u0)/(norm(A@u0))\n",
    "        w = A@v0\n",
    "        w = retirar_componente(w, u)\n",
    "        v = w/norm(w)\n",
    "        lamda1 = np.dot(u, A@u)\n",
    "        lamda2 = np.dot(v, A@v)\n",
    "        ls1.append(lamda1)\n",
    "        ls2.append(lamda2)\n",
    "        vs1.append(u)\n",
    "        vs2.append(v)\n",
    "        if(norm(A@u - lamda1*u) <= tol and norm(A@v - lamda2*v) <= tol):\n",
    "            return (vs1, ls1, vs2, ls2)\n",
    "        v0 = v\n",
    "        u0 = u\n",
    "    return (vs1, ls1, vs2, ls2)"
   ]
  },
  {
   "cell_type": "code",
   "execution_count": null,
   "metadata": {},
   "outputs": [],
   "source": [
    "A = [[0,1],[1,2]]\n",
    "us, ls, vs, ms = iteracao_potencia2(A, [1.0,0], [1.0,1])\n"
   ]
  },
  {
   "cell_type": "code",
   "execution_count": null,
   "metadata": {
    "deletable": false,
    "editable": false,
    "nbgrader": {
     "cell_type": "code",
     "checksum": "4afcc66655db78f87b58a76b966848a6",
     "grade": true,
     "grade_id": "cell-fa468069f5653825",
     "locked": true,
     "points": 1,
     "schema_version": 3,
     "solution": false,
     "task": false
    }
   },
   "outputs": [],
   "source": [
    "A = [[0,1],[1,2]]\n",
    "us, ls, vs, ms = iteracao_potencia2(A, [1.0,0], [1.0,1])\n",
    "\n",
    "assert 5 < len(ls) < 20"
   ]
  },
  {
   "cell_type": "code",
   "execution_count": null,
   "metadata": {
    "deletable": false,
    "editable": false,
    "nbgrader": {
     "cell_type": "code",
     "checksum": "694cf89cef5955bd4039172bc15cbc0f",
     "grade": true,
     "grade_id": "cell-b0bfedc657306cc8",
     "locked": true,
     "points": 1,
     "schema_version": 3,
     "solution": false,
     "task": false
    }
   },
   "outputs": [],
   "source": [
    "A = [[0,1],[1,2]]\n",
    "us, ls, vs, ms = iteracao_potencia2(A, [1.0,0], [1.0,1])\n",
    "\n",
    "assert np.isclose(ms[-1], 1-np.sqrt(2))"
   ]
  },
  {
   "cell_type": "code",
   "execution_count": null,
   "metadata": {
    "deletable": false,
    "editable": false,
    "nbgrader": {
     "cell_type": "code",
     "checksum": "e5da7facf3e52eefbc4b40253aec9eaf",
     "grade": true,
     "grade_id": "cell-9e1089ac5f43b058",
     "locked": true,
     "points": 1,
     "schema_version": 3,
     "solution": false,
     "task": false
    }
   },
   "outputs": [],
   "source": [
    "A = [[1,2,3], [2,3,4], [3,4,5]]\n",
    "us, ls, vs, ms = iteracao_potencia2(A, [1.0,0,0], [1.0,1,0])\n",
    "\n",
    "assert 4 <= len(ls) <= 15"
   ]
  },
  {
   "cell_type": "markdown",
   "metadata": {},
   "source": [
    "Como você faria para verificar que os vetores retornados acima de fato estão próximos dos autovetores de $A$?\n",
    "\n",
    "Explique na caixa abaixo a sua ideia, e depois faça as contas."
   ]
  },
  {
   "cell_type": "markdown",
   "metadata": {
    "deletable": false,
    "nbgrader": {
     "cell_type": "markdown",
     "checksum": "3000071fa919d653e8ede0c6f71636d5",
     "grade": true,
     "grade_id": "cell-7f935c684ee73c9b",
     "locked": false,
     "points": 2,
     "schema_version": 3,
     "solution": true,
     "task": false
    }
   },
   "source": [
    "Sabemos que se a matriz é simétrica seus autovetores são ortogonais, então. Podemos verticar se o produto interno entre os autovetores retornados é próximo de zero."
   ]
  },
  {
   "cell_type": "code",
   "execution_count": null,
   "metadata": {
    "deletable": false,
    "nbgrader": {
     "cell_type": "code",
     "checksum": "7452841c68715e138d16656e3363d4d3",
     "grade": true,
     "grade_id": "cell-8e251cf415c707a5",
     "locked": false,
     "points": 1,
     "schema_version": 3,
     "solution": true,
     "task": false
    }
   },
   "outputs": [
    {
     "data": {
      "text/plain": [
       "5.551115123125783e-17"
      ]
     },
     "execution_count": 268,
     "metadata": {},
     "output_type": "execute_result"
    }
   ],
   "source": [
    "np.dot(us[-1], vs[-1])"
   ]
  },
  {
   "cell_type": "markdown",
   "metadata": {},
   "source": [
    "## Questão 11: Gráficos\n",
    "\n",
    "Faça o gráfico da evolução dos dois maiores autovalores, para a matriz `A` abaixo."
   ]
  },
  {
   "cell_type": "code",
   "execution_count": null,
   "metadata": {
    "deletable": false,
    "nbgrader": {
     "cell_type": "code",
     "checksum": "fc1da3ee12adaf88de0e9bac69631c92",
     "grade": false,
     "grade_id": "cell-f348500e4993d3b0",
     "locked": false,
     "schema_version": 3,
     "solution": true,
     "task": false
    }
   },
   "outputs": [
    {
     "data": {
      "text/plain": [
       "Text(0.5, 1.0, 'Evolução dos autovalores')"
      ]
     },
     "execution_count": 274,
     "metadata": {},
     "output_type": "execute_result"
    },
    {
     "data": {
      "image/png": "[encoded data removed]",
      "text/plain": [
       "<Figure size 432x288 with 1 Axes>"
      ]
     },
     "metadata": {
      "needs_background": "light"
     },
     "output_type": "display_data"
    }
   ],
   "source": [
    "A = [[1,2,3], [2,3,4], [3,4,5]]\n",
    "\n",
    "fig, ax = plt.subplots(ncols=1)\n",
    "\n",
    "us, ls, vs, ms = iteracao_potencia2(A, [1.0,0,0], [1.0,1,0])\n",
    "\n",
    "plt.plot(ls, label=\"maior autovalor\")\n",
    "plt.plot(ms, label=\"segundo autovalor\")\n",
    "plt.legend()\n",
    "plt.xlabel(\"Iteração\")\n",
    "plt.title(\"Evolução dos autovalores\")\n",
    "\n"
   ]
  },
  {
   "cell_type": "code",
   "execution_count": null,
   "metadata": {
    "deletable": false,
    "editable": false,
    "nbgrader": {
     "cell_type": "code",
     "checksum": "52ff66cef64739800fecb92d9cceca7f",
     "grade": true,
     "grade_id": "cell-d5cf80c989db5921",
     "locked": true,
     "points": 1,
     "schema_version": 3,
     "solution": false,
     "task": false
    }
   },
   "outputs": [],
   "source": [
    "assert len(ax.lines) == 2\n",
    "assert len(ax.get_legend().texts) == 2"
   ]
  },
  {
   "cell_type": "code",
   "execution_count": null,
   "metadata": {
    "deletable": false,
    "editable": false,
    "nbgrader": {
     "cell_type": "code",
     "checksum": "d129279dedf422895fc7960bb4c052f8",
     "grade": true,
     "grade_id": "cell-fdae14e235ec433b",
     "locked": true,
     "points": 1,
     "schema_version": 3,
     "solution": false,
     "task": false
    }
   },
   "outputs": [],
   "source": [
    "assert len(ax.get_title()) > 0\n",
    "assert len(ax.get_xlabel()) > 0"
   ]
  },
  {
   "cell_type": "markdown",
   "metadata": {},
   "source": [
    "Agora, faça o gráfico do erro (absoluto) ao longo das iterações"
   ]
  },
  {
   "cell_type": "code",
   "execution_count": null,
   "metadata": {
    "deletable": false,
    "nbgrader": {
     "cell_type": "code",
     "checksum": "d46796e3f989c7cea64724cd02f534ad",
     "grade": true,
     "grade_id": "cell-3b97dfb6c2522765",
     "locked": false,
     "points": 1,
     "schema_version": 3,
     "solution": true,
     "task": false
    }
   },
   "outputs": [],
   "source": [
    "A = [[1,2,3], [2,3,4], [3,4,5]]\n",
    "\n",
    "fig, ax = plt.subplots(ncols=1)\n",
    "# YOUR CODE HERE\n",
    "raise NotImplementedError()"
   ]
  },
  {
   "cell_type": "markdown",
   "metadata": {},
   "source": [
    "Os erros continuam decaindo exponencialmente rápido para o segundo autovalor?"
   ]
  },
  {
   "cell_type": "markdown",
   "metadata": {
    "deletable": false,
    "nbgrader": {
     "cell_type": "markdown",
     "checksum": "1af87b1833301166c3b63d9694725a43",
     "grade": true,
     "grade_id": "cell-ec1b99b8af42a546",
     "locked": false,
     "points": 1,
     "schema_version": 3,
     "solution": true,
     "task": false
    }
   },
   "source": [
    "YOUR ANSWER HERE"
   ]
  },
  {
   "cell_type": "markdown",
   "metadata": {},
   "source": [
    "Repita o gráfico dos erros (absolutos) para uma matriz ligeiramente diferente:"
   ]
  },
  {
   "cell_type": "code",
   "execution_count": null,
   "metadata": {},
   "outputs": [],
   "source": [
    "A = [[1,0,0],[0,2,0],[0,0,3]]\n",
    "ev = np.linalg.eigvals(A)\n",
    "ev[1:]/ev[:-1]"
   ]
  },
  {
   "cell_type": "code",
   "execution_count": null,
   "metadata": {
    "deletable": false,
    "nbgrader": {
     "cell_type": "code",
     "checksum": "c5623787b11da0db2741892426b7dc29",
     "grade": true,
     "grade_id": "cell-c9cf9ab68f015923",
     "locked": false,
     "points": 1,
     "schema_version": 3,
     "solution": true,
     "task": false
    }
   },
   "outputs": [],
   "source": [
    "A = [[1,2,3], [2,3,4], [3,4,6]]\n",
    "\n",
    "fig, ax = plt.subplots(ncols=1)\n",
    "# YOUR CODE HERE\n",
    "raise NotImplementedError()"
   ]
  },
  {
   "cell_type": "markdown",
   "metadata": {},
   "source": [
    "O que você percebe de diferente para a convergência?"
   ]
  },
  {
   "cell_type": "markdown",
   "metadata": {
    "deletable": false,
    "nbgrader": {
     "cell_type": "markdown",
     "checksum": "c71b76b78fceb931b5c776506711a276",
     "grade": true,
     "grade_id": "cell-ee814cf3f1c033ec",
     "locked": false,
     "points": 2,
     "schema_version": 3,
     "solution": true,
     "task": false
    }
   },
   "source": [
    "YOUR ANSWER HERE"
   ]
  },
  {
   "cell_type": "markdown",
   "metadata": {},
   "source": [
    "Isto depende de quais vetores iniciais foram escolhidos para a iteração?\n",
    "\n",
    "Faça gráficos abaixo, e comente em seguida."
   ]
  },
  {
   "cell_type": "code",
   "execution_count": null,
   "metadata": {
    "deletable": false,
    "nbgrader": {
     "cell_type": "code",
     "checksum": "c31469f05d97d8bba995c8a90c4c11d7",
     "grade": true,
     "grade_id": "cell-bc6cdf863e23edef",
     "locked": false,
     "points": 2,
     "schema_version": 3,
     "solution": true,
     "task": false
    }
   },
   "outputs": [],
   "source": [
    "# YOUR CODE HERE\n",
    "raise NotImplementedError()"
   ]
  },
  {
   "cell_type": "markdown",
   "metadata": {
    "deletable": false,
    "nbgrader": {
     "cell_type": "markdown",
     "checksum": "cb61d8b99429dd2d35501b1b42e1abb3",
     "grade": true,
     "grade_id": "cell-232c54c3c720ee78",
     "locked": false,
     "points": 1,
     "schema_version": 3,
     "solution": true,
     "task": false
    }
   },
   "source": [
    "YOUR ANSWER HERE"
   ]
  },
  {
   "cell_type": "markdown",
   "metadata": {},
   "source": [
    "## Um último caso\n",
    "\n",
    "Vejamos o que o algorito faz no caso de uma matriz que não é simétrica.\n",
    "O que aconteceu na caixa a seguir?"
   ]
  },
  {
   "cell_type": "code",
   "execution_count": null,
   "metadata": {
    "deletable": false,
    "editable": false,
    "nbgrader": {
     "cell_type": "code",
     "checksum": "b56b253eaebc62e9ca0c05cf5325a16e",
     "grade": false,
     "grade_id": "cell-b63909fea861a00a",
     "locked": true,
     "schema_version": 3,
     "solution": false,
     "task": false
    }
   },
   "outputs": [],
   "source": [
    "A = [[0,1],[2,1]]\n",
    "us, ls, vs, ms = iteracao_potencia2(A, [1.0,0], [1.0,1])\n",
    "print(ls)\n",
    "print(ms)"
   ]
  },
  {
   "cell_type": "markdown",
   "metadata": {
    "deletable": false,
    "nbgrader": {
     "cell_type": "markdown",
     "checksum": "d6de4c25a0b8cf641336a9e21957a049",
     "grade": true,
     "grade_id": "cell-b256e47116f1345f",
     "locked": false,
     "points": 2,
     "schema_version": 3,
     "solution": true,
     "task": false
    }
   },
   "source": [
    "YOUR ANSWER HERE"
   ]
  }
 ],
 "metadata": {
  "kernelspec": {
   "display_name": "Python 3 (ipykernel)",
   "language": "python",
   "name": "python3"
  },
  "language_info": {
   "codemirror_mode": {
    "name": "ipython",
    "version": 3
   },
   "file_extension": ".py",
   "mimetype": "text/x-python",
   "name": "python",
   "nbconvert_exporter": "python",
   "pygments_lexer": "ipython3",
   "version": "3.8.5"
  }
 },
 "nbformat": 4,
 "nbformat_minor": 2
}
